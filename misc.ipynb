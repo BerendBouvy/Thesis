{
 "cells": [
  {
   "cell_type": "code",
   "execution_count": 2,
   "id": "97bdbfaa",
   "metadata": {},
   "outputs": [],
   "source": [
    "import pandas as pd\n",
    "from Normalizer import Normalizer\n",
    "import torch"
   ]
  },
  {
   "cell_type": "code",
   "execution_count": 2,
   "id": "ad0c1340",
   "metadata": {},
   "outputs": [
    {
     "name": "stderr",
     "output_type": "stream",
     "text": [
      "<>:1: SyntaxWarning: invalid escape sequence '\\s'\n",
      "<>:1: SyntaxWarning: invalid escape sequence '\\s'\n",
      "C:\\Users\\beren\\AppData\\Local\\Temp\\ipykernel_18668\\2346573497.py:1: SyntaxWarning: invalid escape sequence '\\s'\n",
      "  df = pd.read_csv('data\\sim_10000_50_25_1_0.25\\set_1\\data.csv')\n"
     ]
    },
    {
     "name": "stdout",
     "output_type": "stream",
     "text": [
      "   Feature 0   Feature 1  Feature 2  Feature 3  Feature 4  Feature 5  \\\n",
      "0  -1.094910    1.711303  -0.261491   0.267541   4.680015   3.396031   \n",
      "1  -1.835957    8.255426   0.563531  -1.576666  -2.047095  -0.461613   \n",
      "2  -6.098495   36.326857  -0.791101  -1.580378   3.008232  -3.647442   \n",
      "3   0.632690    1.191196  -0.923213  -2.982837  -1.594931  -2.090608   \n",
      "4   1.565111  103.775960   0.098752  -3.116991   1.473482   4.508480   \n",
      "\n",
      "   Feature 6  Feature 7  Feature 8  Feature 9  ...  Feature 40  Feature 41  \\\n",
      "0  -0.128042  -4.753596  -3.569409  -1.668630  ...    3.733466    0.369352   \n",
      "1   0.332267  -0.274442  -6.261167   1.470868  ...    4.876949    0.991257   \n",
      "2   1.593966  -2.481266  -2.908655   1.142163  ...   -7.089216    0.981938   \n",
      "3   0.818938   0.971949  -3.812384   5.307973  ...    0.202190    0.088587   \n",
      "4  -5.592208   9.719898  -0.624351  -6.355002  ...    0.538530    0.059226   \n",
      "\n",
      "   Feature 42  Feature 43  Feature 44  Feature 45  Feature 46  Feature 47  \\\n",
      "0 -154.458656    0.031998    2.293274    3.766337   70.280755    9.449111   \n",
      "1   -1.883473   -0.993742    1.388963    1.173481   -0.786416    1.591430   \n",
      "2  -87.112016   -0.118174    0.227188   -0.086802   -2.676034    3.608915   \n",
      "3   -0.046106   -0.989158    5.208047   -1.302009   -1.830360    5.185177   \n",
      "4    3.678638    0.676036   -4.378539    1.605530    0.280372    0.555852   \n",
      "\n",
      "   Feature 48  Feature 49  \n",
      "0    1.194658  -11.856560  \n",
      "1   -0.268153    4.493825  \n",
      "2    4.294423   -2.267909  \n",
      "3    3.314332    6.356983  \n",
      "4    5.705308   -6.755430  \n",
      "\n",
      "[5 rows x 50 columns]\n"
     ]
    },
    {
     "data": {
      "text/html": [
       "<div>\n",
       "<style scoped>\n",
       "    .dataframe tbody tr th:only-of-type {\n",
       "        vertical-align: middle;\n",
       "    }\n",
       "\n",
       "    .dataframe tbody tr th {\n",
       "        vertical-align: top;\n",
       "    }\n",
       "\n",
       "    .dataframe thead th {\n",
       "        text-align: right;\n",
       "    }\n",
       "</style>\n",
       "<table border=\"1\" class=\"dataframe\">\n",
       "  <thead>\n",
       "    <tr style=\"text-align: right;\">\n",
       "      <th></th>\n",
       "      <th>Feature 0</th>\n",
       "      <th>Feature 1</th>\n",
       "      <th>Feature 2</th>\n",
       "      <th>Feature 3</th>\n",
       "      <th>Feature 4</th>\n",
       "      <th>Feature 5</th>\n",
       "      <th>Feature 6</th>\n",
       "      <th>Feature 7</th>\n",
       "      <th>Feature 8</th>\n",
       "      <th>Feature 9</th>\n",
       "      <th>...</th>\n",
       "      <th>Feature 40</th>\n",
       "      <th>Feature 41</th>\n",
       "      <th>Feature 42</th>\n",
       "      <th>Feature 43</th>\n",
       "      <th>Feature 44</th>\n",
       "      <th>Feature 45</th>\n",
       "      <th>Feature 46</th>\n",
       "      <th>Feature 47</th>\n",
       "      <th>Feature 48</th>\n",
       "      <th>Feature 49</th>\n",
       "    </tr>\n",
       "  </thead>\n",
       "  <tbody>\n",
       "    <tr>\n",
       "      <th>count</th>\n",
       "      <td>10000.000000</td>\n",
       "      <td>10000.000000</td>\n",
       "      <td>10000.000000</td>\n",
       "      <td>10000.000000</td>\n",
       "      <td>10000.000000</td>\n",
       "      <td>10000.000000</td>\n",
       "      <td>10000.000000</td>\n",
       "      <td>10000.000000</td>\n",
       "      <td>10000.000000</td>\n",
       "      <td>10000.000000</td>\n",
       "      <td>...</td>\n",
       "      <td>10000.000000</td>\n",
       "      <td>10000.000000</td>\n",
       "      <td>10000.000000</td>\n",
       "      <td>10000.000000</td>\n",
       "      <td>10000.000000</td>\n",
       "      <td>10000.000000</td>\n",
       "      <td>1.000000e+04</td>\n",
       "      <td>10000.000000</td>\n",
       "      <td>10000.000000</td>\n",
       "      <td>10000.000000</td>\n",
       "    </tr>\n",
       "    <tr>\n",
       "      <th>mean</th>\n",
       "      <td>0.032324</td>\n",
       "      <td>28.765423</td>\n",
       "      <td>-0.006109</td>\n",
       "      <td>0.017488</td>\n",
       "      <td>0.065887</td>\n",
       "      <td>0.018515</td>\n",
       "      <td>-0.013015</td>\n",
       "      <td>-0.070165</td>\n",
       "      <td>0.014865</td>\n",
       "      <td>0.061957</td>\n",
       "      <td>...</td>\n",
       "      <td>-0.041854</td>\n",
       "      <td>0.501135</td>\n",
       "      <td>-5.157799</td>\n",
       "      <td>0.003684</td>\n",
       "      <td>-0.025151</td>\n",
       "      <td>-0.032270</td>\n",
       "      <td>-1.761315e+00</td>\n",
       "      <td>3.781127</td>\n",
       "      <td>-0.013434</td>\n",
       "      <td>-0.076942</td>\n",
       "    </tr>\n",
       "    <tr>\n",
       "      <th>std</th>\n",
       "      <td>5.046554</td>\n",
       "      <td>39.894768</td>\n",
       "      <td>0.701395</td>\n",
       "      <td>4.959854</td>\n",
       "      <td>5.064286</td>\n",
       "      <td>4.968420</td>\n",
       "      <td>4.100455</td>\n",
       "      <td>5.290085</td>\n",
       "      <td>4.560467</td>\n",
       "      <td>4.537387</td>\n",
       "      <td>...</td>\n",
       "      <td>4.459178</td>\n",
       "      <td>0.421424</td>\n",
       "      <td>674.799969</td>\n",
       "      <td>0.708963</td>\n",
       "      <td>4.869323</td>\n",
       "      <td>4.774198</td>\n",
       "      <td>2.739307e+02</td>\n",
       "      <td>2.733903</td>\n",
       "      <td>5.506274</td>\n",
       "      <td>5.416061</td>\n",
       "    </tr>\n",
       "    <tr>\n",
       "      <th>min</th>\n",
       "      <td>-25.179187</td>\n",
       "      <td>0.000003</td>\n",
       "      <td>-1.000000</td>\n",
       "      <td>-17.811896</td>\n",
       "      <td>-18.084637</td>\n",
       "      <td>-18.381824</td>\n",
       "      <td>-19.770982</td>\n",
       "      <td>-21.749305</td>\n",
       "      <td>-16.943555</td>\n",
       "      <td>-19.821691</td>\n",
       "      <td>...</td>\n",
       "      <td>-16.301819</td>\n",
       "      <td>0.000000</td>\n",
       "      <td>-11360.723380</td>\n",
       "      <td>-1.000000</td>\n",
       "      <td>-16.674756</td>\n",
       "      <td>-18.501688</td>\n",
       "      <td>-4.977156e+03</td>\n",
       "      <td>0.553713</td>\n",
       "      <td>-21.343211</td>\n",
       "      <td>-18.269209</td>\n",
       "    </tr>\n",
       "    <tr>\n",
       "      <th>25%</th>\n",
       "      <td>-3.385785</td>\n",
       "      <td>2.927102</td>\n",
       "      <td>-0.696702</td>\n",
       "      <td>-3.317123</td>\n",
       "      <td>-3.299169</td>\n",
       "      <td>-3.341158</td>\n",
       "      <td>-2.769803</td>\n",
       "      <td>-3.610427</td>\n",
       "      <td>-3.014605</td>\n",
       "      <td>-2.966071</td>\n",
       "      <td>...</td>\n",
       "      <td>-3.086620</td>\n",
       "      <td>0.028568</td>\n",
       "      <td>-53.446641</td>\n",
       "      <td>-0.701651</td>\n",
       "      <td>-3.305825</td>\n",
       "      <td>-3.305234</td>\n",
       "      <td>-2.104650e+01</td>\n",
       "      <td>1.587794</td>\n",
       "      <td>-3.706041</td>\n",
       "      <td>-3.742161</td>\n",
       "    </tr>\n",
       "    <tr>\n",
       "      <th>50%</th>\n",
       "      <td>0.020702</td>\n",
       "      <td>13.109255</td>\n",
       "      <td>-0.013833</td>\n",
       "      <td>-0.020667</td>\n",
       "      <td>0.108023</td>\n",
       "      <td>-0.000955</td>\n",
       "      <td>0.051212</td>\n",
       "      <td>-0.085596</td>\n",
       "      <td>0.028413</td>\n",
       "      <td>0.055685</td>\n",
       "      <td>...</td>\n",
       "      <td>-0.008070</td>\n",
       "      <td>0.512655</td>\n",
       "      <td>-0.000008</td>\n",
       "      <td>0.002396</td>\n",
       "      <td>0.008967</td>\n",
       "      <td>-0.054704</td>\n",
       "      <td>5.000000e-07</td>\n",
       "      <td>3.135527</td>\n",
       "      <td>0.011007</td>\n",
       "      <td>-0.091884</td>\n",
       "    </tr>\n",
       "    <tr>\n",
       "      <th>75%</th>\n",
       "      <td>3.432230</td>\n",
       "      <td>38.635695</td>\n",
       "      <td>0.694296</td>\n",
       "      <td>3.387949</td>\n",
       "      <td>3.428225</td>\n",
       "      <td>3.385070</td>\n",
       "      <td>2.789134</td>\n",
       "      <td>3.488833</td>\n",
       "      <td>3.119671</td>\n",
       "      <td>3.171314</td>\n",
       "      <td>...</td>\n",
       "      <td>2.967988</td>\n",
       "      <td>0.968734</td>\n",
       "      <td>55.184841</td>\n",
       "      <td>0.716157</td>\n",
       "      <td>3.240168</td>\n",
       "      <td>3.229009</td>\n",
       "      <td>1.996585e+01</td>\n",
       "      <td>5.317860</td>\n",
       "      <td>3.646392</td>\n",
       "      <td>3.604363</td>\n",
       "    </tr>\n",
       "    <tr>\n",
       "      <th>max</th>\n",
       "      <td>18.280860</td>\n",
       "      <td>480.828850</td>\n",
       "      <td>1.000000</td>\n",
       "      <td>17.558255</td>\n",
       "      <td>17.693677</td>\n",
       "      <td>17.983639</td>\n",
       "      <td>15.853818</td>\n",
       "      <td>20.544930</td>\n",
       "      <td>16.315894</td>\n",
       "      <td>17.271857</td>\n",
       "      <td>...</td>\n",
       "      <td>16.975573</td>\n",
       "      <td>1.000000</td>\n",
       "      <td>9074.951811</td>\n",
       "      <td>1.000000</td>\n",
       "      <td>19.519680</td>\n",
       "      <td>17.806456</td>\n",
       "      <td>3.609113e+03</td>\n",
       "      <td>17.139327</td>\n",
       "      <td>22.461091</td>\n",
       "      <td>19.516758</td>\n",
       "    </tr>\n",
       "  </tbody>\n",
       "</table>\n",
       "<p>8 rows × 50 columns</p>\n",
       "</div>"
      ],
      "text/plain": [
       "          Feature 0     Feature 1     Feature 2     Feature 3     Feature 4  \\\n",
       "count  10000.000000  10000.000000  10000.000000  10000.000000  10000.000000   \n",
       "mean       0.032324     28.765423     -0.006109      0.017488      0.065887   \n",
       "std        5.046554     39.894768      0.701395      4.959854      5.064286   \n",
       "min      -25.179187      0.000003     -1.000000    -17.811896    -18.084637   \n",
       "25%       -3.385785      2.927102     -0.696702     -3.317123     -3.299169   \n",
       "50%        0.020702     13.109255     -0.013833     -0.020667      0.108023   \n",
       "75%        3.432230     38.635695      0.694296      3.387949      3.428225   \n",
       "max       18.280860    480.828850      1.000000     17.558255     17.693677   \n",
       "\n",
       "          Feature 5     Feature 6     Feature 7     Feature 8     Feature 9  \\\n",
       "count  10000.000000  10000.000000  10000.000000  10000.000000  10000.000000   \n",
       "mean       0.018515     -0.013015     -0.070165      0.014865      0.061957   \n",
       "std        4.968420      4.100455      5.290085      4.560467      4.537387   \n",
       "min      -18.381824    -19.770982    -21.749305    -16.943555    -19.821691   \n",
       "25%       -3.341158     -2.769803     -3.610427     -3.014605     -2.966071   \n",
       "50%       -0.000955      0.051212     -0.085596      0.028413      0.055685   \n",
       "75%        3.385070      2.789134      3.488833      3.119671      3.171314   \n",
       "max       17.983639     15.853818     20.544930     16.315894     17.271857   \n",
       "\n",
       "       ...    Feature 40    Feature 41    Feature 42    Feature 43  \\\n",
       "count  ...  10000.000000  10000.000000  10000.000000  10000.000000   \n",
       "mean   ...     -0.041854      0.501135     -5.157799      0.003684   \n",
       "std    ...      4.459178      0.421424    674.799969      0.708963   \n",
       "min    ...    -16.301819      0.000000 -11360.723380     -1.000000   \n",
       "25%    ...     -3.086620      0.028568    -53.446641     -0.701651   \n",
       "50%    ...     -0.008070      0.512655     -0.000008      0.002396   \n",
       "75%    ...      2.967988      0.968734     55.184841      0.716157   \n",
       "max    ...     16.975573      1.000000   9074.951811      1.000000   \n",
       "\n",
       "         Feature 44    Feature 45    Feature 46    Feature 47    Feature 48  \\\n",
       "count  10000.000000  10000.000000  1.000000e+04  10000.000000  10000.000000   \n",
       "mean      -0.025151     -0.032270 -1.761315e+00      3.781127     -0.013434   \n",
       "std        4.869323      4.774198  2.739307e+02      2.733903      5.506274   \n",
       "min      -16.674756    -18.501688 -4.977156e+03      0.553713    -21.343211   \n",
       "25%       -3.305825     -3.305234 -2.104650e+01      1.587794     -3.706041   \n",
       "50%        0.008967     -0.054704  5.000000e-07      3.135527      0.011007   \n",
       "75%        3.240168      3.229009  1.996585e+01      5.317860      3.646392   \n",
       "max       19.519680     17.806456  3.609113e+03     17.139327     22.461091   \n",
       "\n",
       "         Feature 49  \n",
       "count  10000.000000  \n",
       "mean      -0.076942  \n",
       "std        5.416061  \n",
       "min      -18.269209  \n",
       "25%       -3.742161  \n",
       "50%       -0.091884  \n",
       "75%        3.604363  \n",
       "max       19.516758  \n",
       "\n",
       "[8 rows x 50 columns]"
      ]
     },
     "execution_count": 2,
     "metadata": {},
     "output_type": "execute_result"
    }
   ],
   "source": [
    "df = pd.read_csv('data\\sim_10000_50_25_1_0.25\\set_1\\data.csv')\n",
    "print(df.head())\n",
    "\n",
    "df.describe()"
   ]
  },
  {
   "cell_type": "code",
   "execution_count": 3,
   "id": "89e8ab7f",
   "metadata": {},
   "outputs": [],
   "source": [
    "X = torch.tensor(df.iloc[:, :].values, dtype=torch.float32)"
   ]
  },
  {
   "cell_type": "code",
   "execution_count": 4,
   "id": "93c5406d",
   "metadata": {},
   "outputs": [
    {
     "name": "stdout",
     "output_type": "stream",
     "text": [
      "                 0             1             2             3             4   \\\n",
      "count  1.000000e+04  1.000000e+04  1.000000e+04  1.000000e+04  1.000000e+04   \n",
      "mean   1.487732e-08 -4.138947e-08 -1.621246e-08  1.907349e-10  2.670288e-09   \n",
      "std    1.000000e+00  1.000000e+00  1.000000e+00  9.999999e-01  1.000000e+00   \n",
      "min   -4.995788e+00 -7.210324e-01 -1.417020e+00 -3.594740e+00 -3.584024e+00   \n",
      "25%   -6.773154e-01 -6.476619e-01 -9.845996e-01 -6.723206e-01 -6.644681e-01   \n",
      "50%   -2.302945e-03 -3.924367e-01 -1.101336e-02 -7.692764e-03  8.320132e-03   \n",
      "75%    6.737083e-01  2.474076e-01  9.985886e-01  6.795484e-01  6.639312e-01   \n",
      "max    3.616039e+00  1.133140e+01  1.434439e+00  3.536549e+00  3.480805e+00   \n",
      "\n",
      "                 5             6             7             8             9   \\\n",
      "count  1.000000e+04  1.000000e+04  1.000000e+04  1.000000e+04  1.000000e+04   \n",
      "mean  -1.373291e-08 -1.029968e-08  9.536743e-09  6.294250e-09 -5.722046e-09   \n",
      "std    1.000000e+00  1.000000e+00  1.000000e+00  9.999999e-01  1.000000e+00   \n",
      "min   -3.703459e+00 -4.818482e+00 -4.098071e+00 -3.718571e+00 -4.382180e+00   \n",
      "25%   -6.762054e-01 -6.723128e-01 -6.692260e-01 -6.642894e-01 -6.673506e-01   \n",
      "50%   -3.918727e-03  1.566348e-02 -2.917056e-03  2.970734e-03 -1.382230e-03   \n",
      "75%    6.775905e-01  6.833750e-01  6.727676e-01  6.808087e-01  6.852748e-01   \n",
      "max    3.615862e+00  3.869530e+00  3.896930e+00  3.574420e+00  3.792910e+00   \n",
      "\n",
      "       ...            40            41            42            43  \\\n",
      "count  ...  1.000000e+04  1.000000e+04  1.000000e+04  1.000000e+04   \n",
      "mean   ...  1.525879e-09 -1.663208e-07 -3.433227e-09  8.392334e-09   \n",
      "std    ...  1.000000e+00  9.999999e-01  9.999999e-01  1.000000e+00   \n",
      "min    ... -3.646404e+00 -1.189148e+00 -1.682805e+01 -1.415706e+00   \n",
      "25%    ... -6.828088e-01 -1.121358e+00 -7.156023e-02 -9.948817e-01   \n",
      "50%    ...  7.576330e-03  2.733434e-02  7.643434e-03 -1.816052e-03   \n",
      "75%    ...  6.749770e-01  1.109568e+00  8.942300e-02  1.004951e+00   \n",
      "max    ...  3.816271e+00  1.183760e+00  1.345600e+01  1.405314e+00   \n",
      "\n",
      "                 44            45            46            47            48  \\\n",
      "count  1.000000e+04  1.000000e+04  1.000000e+04  1.000000e+04  1.000000e+04   \n",
      "mean  -6.866455e-09 -4.959106e-09  1.525879e-09 -1.590729e-07  9.536743e-09   \n",
      "std    1.000000e+00  9.999999e-01  9.999999e-01  1.000000e+00  9.999999e-01   \n",
      "min   -3.419286e+00 -3.868590e+00 -1.816297e+01 -1.180515e+00 -3.873722e+00   \n",
      "25%   -6.737434e-01 -6.855524e-01 -7.040170e-02 -8.022718e-01 -6.706180e-01   \n",
      "50%    7.006907e-03 -4.698909e-03  6.429785e-03 -2.361462e-01  4.438895e-03   \n",
      "75%    6.705900e-01  6.831052e-01  7.931628e-02  5.621019e-01  6.646648e-01   \n",
      "max    4.013871e+00  3.736486e+00  1.318171e+01  4.886127e+00  4.081621e+00   \n",
      "\n",
      "                 49  \n",
      "count  1.000000e+04  \n",
      "mean   1.525879e-08  \n",
      "std    1.000000e+00  \n",
      "min   -3.358948e+00  \n",
      "25%   -6.767315e-01  \n",
      "50%   -2.758697e-03  \n",
      "75%    6.797015e-01  \n",
      "max    3.617703e+00  \n",
      "\n",
      "[8 rows x 50 columns]\n"
     ]
    }
   ],
   "source": [
    "Norm = Normalizer(X)\n",
    "X_norm = Norm.normalize(X)\n",
    "print(pd.DataFrame(X_norm.numpy()).describe())"
   ]
  },
  {
   "cell_type": "code",
   "execution_count": 40,
   "id": "ebbd592d",
   "metadata": {},
   "outputs": [
    {
     "name": "stderr",
     "output_type": "stream",
     "text": [
      "<unknown>:16: SyntaxWarning: invalid escape sequence '\\s'\n",
      "<unknown>:16: SyntaxWarning: invalid escape sequence '\\s'\n"
     ]
    },
    {
     "name": "stdout",
     "output_type": "stream",
     "text": [
      "The autoreload extension is already loaded. To reload it, use:\n",
      "  %reload_ext autoreload\n",
      "Epoch 1/150\n"
     ]
    },
    {
     "name": "stderr",
     "output_type": "stream",
     "text": [
      "  0%|          | 0/125 [00:00<?, ?it/s]"
     ]
    },
    {
     "name": "stdout",
     "output_type": "stream",
     "text": [
      "Step 0 (N samples: 0), Loss: 0.9687 (Recon: 0.9678, KL: 0.0009) Grad: 0.0631\n"
     ]
    },
    {
     "name": "stderr",
     "output_type": "stream",
     "text": [
      "100%|██████████| 125/125 [00:00<00:00, 168.96it/s]\n"
     ]
    },
    {
     "name": "stdout",
     "output_type": "stream",
     "text": [
      "Step 100 (N samples: 6,400), Loss: 0.9375 (Recon: 0.9276, KL: 0.0098) Grad: 0.0616\n"
     ]
    },
    {
     "name": "stderr",
     "output_type": "stream",
     "text": [
      "Testing: 100%|██████████| 16/16 [00:00<00:00, 436.40it/s]\n"
     ]
    },
    {
     "name": "stdout",
     "output_type": "stream",
     "text": [
      "====> Test set loss: 0.9800 (MSE: 0.9647, KLD: 0.0153)\n",
      "Epoch 2/150\n"
     ]
    },
    {
     "name": "stderr",
     "output_type": "stream",
     "text": [
      " 78%|███████▊  | 97/125 [00:00<00:00, 159.73it/s]"
     ]
    },
    {
     "name": "stdout",
     "output_type": "stream",
     "text": [
      "Step 200 (N samples: 12,800), Loss: 0.8953 (Recon: 0.8684, KL: 0.0269) Grad: 0.0880\n"
     ]
    },
    {
     "name": "stderr",
     "output_type": "stream",
     "text": [
      "100%|██████████| 125/125 [00:00<00:00, 158.25it/s]\n",
      "Testing: 100%|██████████| 16/16 [00:00<00:00, 632.63it/s]\n"
     ]
    },
    {
     "name": "stdout",
     "output_type": "stream",
     "text": [
      "====> Test set loss: 0.9348 (MSE: 0.9041, KLD: 0.0307)\n",
      "Epoch 3/150\n"
     ]
    },
    {
     "name": "stderr",
     "output_type": "stream",
     "text": [
      " 62%|██████▏   | 78/125 [00:00<00:00, 187.10it/s]"
     ]
    },
    {
     "name": "stdout",
     "output_type": "stream",
     "text": [
      "Step 300 (N samples: 19,200), Loss: 0.8802 (Recon: 0.8420, KL: 0.0382) Grad: 0.0923\n"
     ]
    },
    {
     "name": "stderr",
     "output_type": "stream",
     "text": [
      "100%|██████████| 125/125 [00:00<00:00, 181.60it/s]\n",
      "Testing: 100%|██████████| 16/16 [00:00<00:00, 484.60it/s]\n"
     ]
    },
    {
     "name": "stdout",
     "output_type": "stream",
     "text": [
      "====> Test set loss: 0.9037 (MSE: 0.8615, KLD: 0.0423)\n",
      "Epoch 4/150\n"
     ]
    },
    {
     "name": "stderr",
     "output_type": "stream",
     "text": [
      " 16%|█▌        | 20/125 [00:00<00:00, 199.47it/s]"
     ]
    },
    {
     "name": "stdout",
     "output_type": "stream",
     "text": [
      "Step 400 (N samples: 25,600), Loss: 0.8349 (Recon: 0.7744, KL: 0.0605) Grad: 0.1293\n"
     ]
    },
    {
     "name": "stderr",
     "output_type": "stream",
     "text": [
      "100%|██████████| 125/125 [00:00<00:00, 165.54it/s]\n",
      "Testing: 100%|██████████| 16/16 [00:00<00:00, 527.30it/s]\n"
     ]
    },
    {
     "name": "stdout",
     "output_type": "stream",
     "text": [
      "====> Test set loss: 0.8845 (MSE: 0.8337, KLD: 0.0508)\n",
      "Epoch 5/150\n"
     ]
    },
    {
     "name": "stderr",
     "output_type": "stream",
     "text": [
      " 14%|█▎        | 17/125 [00:00<00:00, 166.26it/s]"
     ]
    },
    {
     "name": "stdout",
     "output_type": "stream",
     "text": [
      "Step 500 (N samples: 32,000), Loss: 0.8562 (Recon: 0.8055, KL: 0.0507) Grad: 0.1328\n"
     ]
    },
    {
     "name": "stderr",
     "output_type": "stream",
     "text": [
      "100%|██████████| 125/125 [00:00<00:00, 175.75it/s]\n"
     ]
    },
    {
     "name": "stdout",
     "output_type": "stream",
     "text": [
      "Step 600 (N samples: 38,400), Loss: 0.8483 (Recon: 0.7957, KL: 0.0526) Grad: 0.1142\n"
     ]
    },
    {
     "name": "stderr",
     "output_type": "stream",
     "text": [
      "Testing: 100%|██████████| 16/16 [00:00<00:00, 467.51it/s]\n"
     ]
    },
    {
     "name": "stdout",
     "output_type": "stream",
     "text": [
      "====> Test set loss: 0.8755 (MSE: 0.8232, KLD: 0.0524)\n",
      "Epoch 6/150\n"
     ]
    },
    {
     "name": "stderr",
     "output_type": "stream",
     "text": [
      " 78%|███████▊  | 98/125 [00:00<00:00, 182.65it/s]"
     ]
    },
    {
     "name": "stdout",
     "output_type": "stream",
     "text": [
      "Step 700 (N samples: 44,800), Loss: 0.8202 (Recon: 0.7650, KL: 0.0552) Grad: 0.1167\n"
     ]
    },
    {
     "name": "stderr",
     "output_type": "stream",
     "text": [
      "100%|██████████| 125/125 [00:00<00:00, 183.67it/s]\n",
      "Testing: 100%|██████████| 16/16 [00:00<00:00, 345.84it/s]\n"
     ]
    },
    {
     "name": "stdout",
     "output_type": "stream",
     "text": [
      "====> Test set loss: 0.8739 (MSE: 0.8180, KLD: 0.0560)\n",
      "Epoch 7/150\n"
     ]
    },
    {
     "name": "stderr",
     "output_type": "stream",
     "text": [
      " 62%|██████▏   | 77/125 [00:00<00:00, 175.38it/s]"
     ]
    },
    {
     "name": "stdout",
     "output_type": "stream",
     "text": [
      "Step 800 (N samples: 51,200), Loss: 0.8490 (Recon: 0.7909, KL: 0.0581) Grad: 0.1473\n"
     ]
    },
    {
     "name": "stderr",
     "output_type": "stream",
     "text": [
      "100%|██████████| 125/125 [00:00<00:00, 175.14it/s]\n",
      "Testing: 100%|██████████| 16/16 [00:00<00:00, 436.90it/s]\n"
     ]
    },
    {
     "name": "stdout",
     "output_type": "stream",
     "text": [
      "====> Test set loss: 0.8640 (MSE: 0.8074, KLD: 0.0567)\n",
      "Epoch 8/150\n"
     ]
    },
    {
     "name": "stderr",
     "output_type": "stream",
     "text": [
      " 14%|█▍        | 18/125 [00:00<00:00, 179.68it/s]"
     ]
    },
    {
     "name": "stdout",
     "output_type": "stream",
     "text": [
      "Step 900 (N samples: 57,600), Loss: 0.8529 (Recon: 0.7887, KL: 0.0643) Grad: 0.1790\n"
     ]
    },
    {
     "name": "stderr",
     "output_type": "stream",
     "text": [
      "100%|██████████| 125/125 [00:00<00:00, 166.45it/s]\n",
      "Testing: 100%|██████████| 16/16 [00:00<00:00, 484.37it/s]\n"
     ]
    },
    {
     "name": "stdout",
     "output_type": "stream",
     "text": [
      "====> Test set loss: 0.8498 (MSE: 0.7860, KLD: 0.0637)\n",
      "Epoch 9/150\n"
     ]
    },
    {
     "name": "stderr",
     "output_type": "stream",
     "text": [
      " 15%|█▌        | 19/125 [00:00<00:00, 189.88it/s]"
     ]
    },
    {
     "name": "stdout",
     "output_type": "stream",
     "text": [
      "Step 1,000 (N samples: 64,000), Loss: 0.8673 (Recon: 0.8034, KL: 0.0638) Grad: 0.1635\n"
     ]
    },
    {
     "name": "stderr",
     "output_type": "stream",
     "text": [
      "100%|██████████| 125/125 [00:00<00:00, 174.55it/s]\n"
     ]
    },
    {
     "name": "stdout",
     "output_type": "stream",
     "text": [
      "Step 1,100 (N samples: 70,400), Loss: 0.8390 (Recon: 0.7724, KL: 0.0666) Grad: 0.1627\n"
     ]
    },
    {
     "name": "stderr",
     "output_type": "stream",
     "text": [
      "Testing: 100%|██████████| 16/16 [00:00<00:00, 352.97it/s]\n"
     ]
    },
    {
     "name": "stdout",
     "output_type": "stream",
     "text": [
      "====> Test set loss: 0.8481 (MSE: 0.7844, KLD: 0.0637)\n",
      "Epoch 10/150\n"
     ]
    },
    {
     "name": "stderr",
     "output_type": "stream",
     "text": [
      " 81%|████████  | 101/125 [00:00<00:00, 141.33it/s]"
     ]
    },
    {
     "name": "stdout",
     "output_type": "stream",
     "text": [
      "Step 1,200 (N samples: 76,800), Loss: 0.8103 (Recon: 0.7389, KL: 0.0713) Grad: 0.1569\n"
     ]
    },
    {
     "name": "stderr",
     "output_type": "stream",
     "text": [
      "100%|██████████| 125/125 [00:00<00:00, 149.87it/s]\n",
      "Testing: 100%|██████████| 16/16 [00:00<00:00, 184.39it/s]\n"
     ]
    },
    {
     "name": "stdout",
     "output_type": "stream",
     "text": [
      "====> Test set loss: 0.8396 (MSE: 0.7716, KLD: 0.0679)\n",
      "Epoch 11/150\n"
     ]
    },
    {
     "name": "stderr",
     "output_type": "stream",
     "text": [
      " 59%|█████▉    | 74/125 [00:00<00:00, 176.88it/s]"
     ]
    },
    {
     "name": "stdout",
     "output_type": "stream",
     "text": [
      "Step 1,300 (N samples: 83,200), Loss: 0.8269 (Recon: 0.7577, KL: 0.0693) Grad: 0.1353\n"
     ]
    },
    {
     "name": "stderr",
     "output_type": "stream",
     "text": [
      "100%|██████████| 125/125 [00:00<00:00, 173.54it/s]\n",
      "Testing: 100%|██████████| 16/16 [00:00<00:00, 537.74it/s]\n"
     ]
    },
    {
     "name": "stdout",
     "output_type": "stream",
     "text": [
      "====> Test set loss: 0.8420 (MSE: 0.7764, KLD: 0.0656)\n",
      "Epoch 12/150\n"
     ]
    },
    {
     "name": "stderr",
     "output_type": "stream",
     "text": [
      " 15%|█▌        | 19/125 [00:00<00:00, 166.77it/s]"
     ]
    },
    {
     "name": "stdout",
     "output_type": "stream",
     "text": [
      "Step 1,400 (N samples: 89,600), Loss: 0.8438 (Recon: 0.7800, KL: 0.0638) Grad: 0.1440\n"
     ]
    },
    {
     "name": "stderr",
     "output_type": "stream",
     "text": [
      "100%|██████████| 125/125 [00:00<00:00, 174.93it/s]\n",
      "Testing: 100%|██████████| 16/16 [00:00<00:00, 453.57it/s]\n"
     ]
    },
    {
     "name": "stdout",
     "output_type": "stream",
     "text": [
      "====> Test set loss: 0.8374 (MSE: 0.7713, KLD: 0.0660)\n",
      "Epoch 13/150\n"
     ]
    },
    {
     "name": "stderr",
     "output_type": "stream",
     "text": [
      " 14%|█▎        | 17/125 [00:00<00:00, 169.73it/s]"
     ]
    },
    {
     "name": "stdout",
     "output_type": "stream",
     "text": [
      "Step 1,500 (N samples: 96,000), Loss: 0.8264 (Recon: 0.7465, KL: 0.0798) Grad: 0.1564\n"
     ]
    },
    {
     "name": "stderr",
     "output_type": "stream",
     "text": [
      "100%|██████████| 125/125 [00:00<00:00, 187.49it/s]\n"
     ]
    },
    {
     "name": "stdout",
     "output_type": "stream",
     "text": [
      "Step 1,600 (N samples: 102,400), Loss: 0.8159 (Recon: 0.7556, KL: 0.0603) Grad: 0.1430\n"
     ]
    },
    {
     "name": "stderr",
     "output_type": "stream",
     "text": [
      "Testing: 100%|██████████| 16/16 [00:00<00:00, 349.61it/s]\n"
     ]
    },
    {
     "name": "stdout",
     "output_type": "stream",
     "text": [
      "====> Test set loss: 0.8374 (MSE: 0.7686, KLD: 0.0688)\n",
      "Epoch 14/150\n"
     ]
    },
    {
     "name": "stderr",
     "output_type": "stream",
     "text": [
      " 82%|████████▏ | 102/125 [00:00<00:00, 187.90it/s]"
     ]
    },
    {
     "name": "stdout",
     "output_type": "stream",
     "text": [
      "Step 1,700 (N samples: 108,800), Loss: 0.8882 (Recon: 0.8078, KL: 0.0804) Grad: 0.1488\n"
     ]
    },
    {
     "name": "stderr",
     "output_type": "stream",
     "text": [
      "100%|██████████| 125/125 [00:00<00:00, 184.15it/s]\n",
      "Testing: 100%|██████████| 16/16 [00:00<00:00, 319.94it/s]\n"
     ]
    },
    {
     "name": "stdout",
     "output_type": "stream",
     "text": [
      "====> Test set loss: 0.8333 (MSE: 0.7653, KLD: 0.0680)\n",
      "Epoch 15/150\n"
     ]
    },
    {
     "name": "stderr",
     "output_type": "stream",
     "text": [
      " 66%|██████▌   | 82/125 [00:00<00:00, 198.20it/s]"
     ]
    },
    {
     "name": "stdout",
     "output_type": "stream",
     "text": [
      "Step 1,800 (N samples: 115,200), Loss: 0.7528 (Recon: 0.6985, KL: 0.0543) Grad: 0.1641\n"
     ]
    },
    {
     "name": "stderr",
     "output_type": "stream",
     "text": [
      "100%|██████████| 125/125 [00:00<00:00, 184.36it/s]\n",
      "Testing: 100%|██████████| 16/16 [00:00<00:00, 480.08it/s]\n"
     ]
    },
    {
     "name": "stdout",
     "output_type": "stream",
     "text": [
      "====> Test set loss: 0.8290 (MSE: 0.7614, KLD: 0.0675)\n",
      "Epoch 16/150\n"
     ]
    },
    {
     "name": "stderr",
     "output_type": "stream",
     "text": [
      " 14%|█▎        | 17/125 [00:00<00:00, 167.89it/s]"
     ]
    },
    {
     "name": "stdout",
     "output_type": "stream",
     "text": [
      "Step 1,900 (N samples: 121,600), Loss: 0.8157 (Recon: 0.7550, KL: 0.0608) Grad: 0.1546\n"
     ]
    },
    {
     "name": "stderr",
     "output_type": "stream",
     "text": [
      "100%|██████████| 125/125 [00:00<00:00, 168.97it/s]\n",
      "Testing: 100%|██████████| 16/16 [00:00<00:00, 534.57it/s]\n"
     ]
    },
    {
     "name": "stdout",
     "output_type": "stream",
     "text": [
      "====> Test set loss: 0.8318 (MSE: 0.7660, KLD: 0.0658)\n",
      "Epoch 17/150\n"
     ]
    },
    {
     "name": "stderr",
     "output_type": "stream",
     "text": [
      " 14%|█▍        | 18/125 [00:00<00:00, 179.98it/s]"
     ]
    },
    {
     "name": "stdout",
     "output_type": "stream",
     "text": [
      "Step 2,000 (N samples: 128,000), Loss: 0.7876 (Recon: 0.7259, KL: 0.0617) Grad: 0.1541\n"
     ]
    },
    {
     "name": "stderr",
     "output_type": "stream",
     "text": [
      "100%|██████████| 125/125 [00:00<00:00, 178.52it/s]\n"
     ]
    },
    {
     "name": "stdout",
     "output_type": "stream",
     "text": [
      "Step 2,100 (N samples: 134,400), Loss: 0.8011 (Recon: 0.7337, KL: 0.0673) Grad: 0.1626\n"
     ]
    },
    {
     "name": "stderr",
     "output_type": "stream",
     "text": [
      "Testing: 100%|██████████| 16/16 [00:00<00:00, 229.18it/s]\n"
     ]
    },
    {
     "name": "stdout",
     "output_type": "stream",
     "text": [
      "====> Test set loss: 0.8274 (MSE: 0.7608, KLD: 0.0667)\n",
      "Epoch 18/150\n"
     ]
    },
    {
     "name": "stderr",
     "output_type": "stream",
     "text": [
      " 83%|████████▎ | 104/125 [00:00<00:00, 162.86it/s]"
     ]
    },
    {
     "name": "stdout",
     "output_type": "stream",
     "text": [
      "Step 2,200 (N samples: 140,800), Loss: 0.7807 (Recon: 0.7130, KL: 0.0677) Grad: 0.1401\n"
     ]
    },
    {
     "name": "stderr",
     "output_type": "stream",
     "text": [
      "100%|██████████| 125/125 [00:00<00:00, 161.01it/s]\n",
      "Testing: 100%|██████████| 16/16 [00:00<00:00, 529.40it/s]\n"
     ]
    },
    {
     "name": "stdout",
     "output_type": "stream",
     "text": [
      "====> Test set loss: 0.8241 (MSE: 0.7589, KLD: 0.0652)\n",
      "Epoch 19/150\n"
     ]
    },
    {
     "name": "stderr",
     "output_type": "stream",
     "text": [
      " 62%|██████▏   | 78/125 [00:00<00:00, 182.80it/s]"
     ]
    },
    {
     "name": "stdout",
     "output_type": "stream",
     "text": [
      "Step 2,300 (N samples: 147,200), Loss: 0.8396 (Recon: 0.7703, KL: 0.0694) Grad: 0.1492\n"
     ]
    },
    {
     "name": "stderr",
     "output_type": "stream",
     "text": [
      "100%|██████████| 125/125 [00:00<00:00, 181.60it/s]\n",
      "Testing: 100%|██████████| 16/16 [00:00<00:00, 383.83it/s]\n"
     ]
    },
    {
     "name": "stdout",
     "output_type": "stream",
     "text": [
      "====> Test set loss: 0.8257 (MSE: 0.7550, KLD: 0.0707)\n",
      "Epoch 20/150\n"
     ]
    },
    {
     "name": "stderr",
     "output_type": "stream",
     "text": [
      " 16%|█▌        | 20/125 [00:00<00:00, 194.49it/s]"
     ]
    },
    {
     "name": "stdout",
     "output_type": "stream",
     "text": [
      "Step 2,400 (N samples: 153,600), Loss: 0.7602 (Recon: 0.6916, KL: 0.0686) Grad: 0.1479\n"
     ]
    },
    {
     "name": "stderr",
     "output_type": "stream",
     "text": [
      "100%|██████████| 125/125 [00:00<00:00, 182.49it/s]\n",
      "Testing: 100%|██████████| 16/16 [00:00<00:00, 554.84it/s]\n"
     ]
    },
    {
     "name": "stdout",
     "output_type": "stream",
     "text": [
      "====> Test set loss: 0.8283 (MSE: 0.7606, KLD: 0.0677)\n",
      "Epoch 21/150\n"
     ]
    },
    {
     "name": "stderr",
     "output_type": "stream",
     "text": [
      " 16%|█▌        | 20/125 [00:00<00:00, 181.13it/s]"
     ]
    },
    {
     "name": "stdout",
     "output_type": "stream",
     "text": [
      "Step 2,500 (N samples: 160,000), Loss: 0.8284 (Recon: 0.7450, KL: 0.0834) Grad: 0.1931\n"
     ]
    },
    {
     "name": "stderr",
     "output_type": "stream",
     "text": [
      "100%|██████████| 125/125 [00:00<00:00, 178.57it/s]\n"
     ]
    },
    {
     "name": "stdout",
     "output_type": "stream",
     "text": [
      "Step 2,600 (N samples: 166,400), Loss: 0.7999 (Recon: 0.7340, KL: 0.0660) Grad: 0.1472\n"
     ]
    },
    {
     "name": "stderr",
     "output_type": "stream",
     "text": [
      "Testing: 100%|██████████| 16/16 [00:00<00:00, 541.31it/s]\n"
     ]
    },
    {
     "name": "stdout",
     "output_type": "stream",
     "text": [
      "====> Test set loss: 0.8239 (MSE: 0.7553, KLD: 0.0687)\n",
      "Epoch 22/150\n"
     ]
    },
    {
     "name": "stderr",
     "output_type": "stream",
     "text": [
      " 72%|███████▏  | 90/125 [00:00<00:00, 180.11it/s]"
     ]
    },
    {
     "name": "stdout",
     "output_type": "stream",
     "text": [
      "Step 2,700 (N samples: 172,800), Loss: 0.7880 (Recon: 0.7155, KL: 0.0725) Grad: 0.1486\n"
     ]
    },
    {
     "name": "stderr",
     "output_type": "stream",
     "text": [
      "100%|██████████| 125/125 [00:00<00:00, 173.32it/s]\n",
      "Testing: 100%|██████████| 16/16 [00:00<00:00, 481.60it/s]\n"
     ]
    },
    {
     "name": "stdout",
     "output_type": "stream",
     "text": [
      "====> Test set loss: 0.8237 (MSE: 0.7558, KLD: 0.0679)\n",
      "Epoch 23/150\n"
     ]
    },
    {
     "name": "stderr",
     "output_type": "stream",
     "text": [
      " 58%|█████▊    | 72/125 [00:00<00:00, 154.43it/s]"
     ]
    },
    {
     "name": "stdout",
     "output_type": "stream",
     "text": [
      "Step 2,800 (N samples: 179,200), Loss: 0.8307 (Recon: 0.7494, KL: 0.0813) Grad: 0.1706\n"
     ]
    },
    {
     "name": "stderr",
     "output_type": "stream",
     "text": [
      "100%|██████████| 125/125 [00:00<00:00, 150.02it/s]\n",
      "Testing: 100%|██████████| 16/16 [00:00<00:00, 409.04it/s]\n"
     ]
    },
    {
     "name": "stdout",
     "output_type": "stream",
     "text": [
      "====> Test set loss: 0.8214 (MSE: 0.7511, KLD: 0.0703)\n",
      "Epoch 24/150\n"
     ]
    },
    {
     "name": "stderr",
     "output_type": "stream",
     "text": [
      " 17%|█▋        | 21/125 [00:00<00:00, 204.06it/s]"
     ]
    },
    {
     "name": "stdout",
     "output_type": "stream",
     "text": [
      "Step 2,900 (N samples: 185,600), Loss: 0.7812 (Recon: 0.7165, KL: 0.0647) Grad: 0.1342\n"
     ]
    },
    {
     "name": "stderr",
     "output_type": "stream",
     "text": [
      "100%|██████████| 125/125 [00:00<00:00, 186.13it/s]\n",
      "Testing: 100%|██████████| 16/16 [00:00<00:00, 409.50it/s]\n"
     ]
    },
    {
     "name": "stdout",
     "output_type": "stream",
     "text": [
      "====> Test set loss: 0.8251 (MSE: 0.7573, KLD: 0.0679)\n",
      "Epoch 25/150\n"
     ]
    },
    {
     "name": "stderr",
     "output_type": "stream",
     "text": [
      " 31%|███       | 39/125 [00:00<00:00, 199.06it/s]"
     ]
    },
    {
     "name": "stdout",
     "output_type": "stream",
     "text": [
      "Step 3,000 (N samples: 192,000), Loss: 0.8467 (Recon: 0.7793, KL: 0.0674) Grad: 0.1692\n"
     ]
    },
    {
     "name": "stderr",
     "output_type": "stream",
     "text": [
      "100%|██████████| 125/125 [00:00<00:00, 190.78it/s]\n"
     ]
    },
    {
     "name": "stdout",
     "output_type": "stream",
     "text": [
      "Step 3,100 (N samples: 198,400), Loss: 0.8007 (Recon: 0.7327, KL: 0.0681) Grad: 0.1345\n"
     ]
    },
    {
     "name": "stderr",
     "output_type": "stream",
     "text": [
      "Testing: 100%|██████████| 16/16 [00:00<00:00, 399.75it/s]\n"
     ]
    },
    {
     "name": "stdout",
     "output_type": "stream",
     "text": [
      "====> Test set loss: 0.8205 (MSE: 0.7476, KLD: 0.0729)\n",
      "Epoch 26/150\n"
     ]
    },
    {
     "name": "stderr",
     "output_type": "stream",
     "text": [
      " 79%|███████▉  | 99/125 [00:00<00:00, 178.30it/s]"
     ]
    },
    {
     "name": "stdout",
     "output_type": "stream",
     "text": [
      "Step 3,200 (N samples: 204,800), Loss: 0.8655 (Recon: 0.7800, KL: 0.0855) Grad: 0.1843\n"
     ]
    },
    {
     "name": "stderr",
     "output_type": "stream",
     "text": [
      "100%|██████████| 125/125 [00:00<00:00, 173.76it/s]\n",
      "Testing: 100%|██████████| 16/16 [00:00<00:00, 423.82it/s]\n"
     ]
    },
    {
     "name": "stdout",
     "output_type": "stream",
     "text": [
      "====> Test set loss: 0.8210 (MSE: 0.7531, KLD: 0.0679)\n",
      "Epoch 27/150\n"
     ]
    },
    {
     "name": "stderr",
     "output_type": "stream",
     "text": [
      " 59%|█████▉    | 74/125 [00:00<00:00, 179.06it/s]"
     ]
    },
    {
     "name": "stdout",
     "output_type": "stream",
     "text": [
      "Step 3,300 (N samples: 211,200), Loss: 0.8319 (Recon: 0.7602, KL: 0.0717) Grad: 0.1460\n"
     ]
    },
    {
     "name": "stderr",
     "output_type": "stream",
     "text": [
      "100%|██████████| 125/125 [00:00<00:00, 168.83it/s]\n",
      "Testing: 100%|██████████| 16/16 [00:00<00:00, 469.45it/s]\n"
     ]
    },
    {
     "name": "stdout",
     "output_type": "stream",
     "text": [
      "====> Test set loss: 0.8218 (MSE: 0.7509, KLD: 0.0709)\n",
      "Epoch 28/150\n"
     ]
    },
    {
     "name": "stderr",
     "output_type": "stream",
     "text": [
      " 14%|█▍        | 18/125 [00:00<00:00, 179.34it/s]"
     ]
    },
    {
     "name": "stdout",
     "output_type": "stream",
     "text": [
      "Step 3,400 (N samples: 217,600), Loss: 0.7428 (Recon: 0.6777, KL: 0.0651) Grad: 0.1409\n"
     ]
    },
    {
     "name": "stderr",
     "output_type": "stream",
     "text": [
      "100%|██████████| 125/125 [00:00<00:00, 174.53it/s]\n",
      "Testing: 100%|██████████| 16/16 [00:00<00:00, 532.69it/s]\n"
     ]
    },
    {
     "name": "stdout",
     "output_type": "stream",
     "text": [
      "====> Test set loss: 0.8243 (MSE: 0.7539, KLD: 0.0705)\n",
      "Epoch 29/150\n"
     ]
    },
    {
     "name": "stderr",
     "output_type": "stream",
     "text": [
      " 16%|█▌        | 20/125 [00:00<00:00, 183.18it/s]"
     ]
    },
    {
     "name": "stdout",
     "output_type": "stream",
     "text": [
      "Step 3,500 (N samples: 224,000), Loss: 0.7799 (Recon: 0.7064, KL: 0.0735) Grad: 0.1543\n"
     ]
    },
    {
     "name": "stderr",
     "output_type": "stream",
     "text": [
      "100%|██████████| 125/125 [00:00<00:00, 177.35it/s]\n"
     ]
    },
    {
     "name": "stdout",
     "output_type": "stream",
     "text": [
      "Step 3,600 (N samples: 230,400), Loss: 0.8123 (Recon: 0.7436, KL: 0.0688) Grad: 0.1867\n"
     ]
    },
    {
     "name": "stderr",
     "output_type": "stream",
     "text": [
      "Testing: 100%|██████████| 16/16 [00:00<00:00, 456.05it/s]\n"
     ]
    },
    {
     "name": "stdout",
     "output_type": "stream",
     "text": [
      "====> Test set loss: 0.8169 (MSE: 0.7438, KLD: 0.0731)\n",
      "Epoch 30/150\n"
     ]
    },
    {
     "name": "stderr",
     "output_type": "stream",
     "text": [
      " 76%|███████▌  | 95/125 [00:00<00:00, 172.09it/s]"
     ]
    },
    {
     "name": "stdout",
     "output_type": "stream",
     "text": [
      "Step 3,700 (N samples: 236,800), Loss: 0.7809 (Recon: 0.7093, KL: 0.0716) Grad: 0.1595\n"
     ]
    },
    {
     "name": "stderr",
     "output_type": "stream",
     "text": [
      "100%|██████████| 125/125 [00:00<00:00, 171.57it/s]\n",
      "Testing: 100%|██████████| 16/16 [00:00<00:00, 434.20it/s]\n"
     ]
    },
    {
     "name": "stdout",
     "output_type": "stream",
     "text": [
      "====> Test set loss: 0.8147 (MSE: 0.7415, KLD: 0.0733)\n",
      "Epoch 31/150\n"
     ]
    },
    {
     "name": "stderr",
     "output_type": "stream",
     "text": [
      " 55%|█████▌    | 69/125 [00:00<00:00, 151.18it/s]"
     ]
    },
    {
     "name": "stdout",
     "output_type": "stream",
     "text": [
      "Step 3,800 (N samples: 243,200), Loss: 0.8126 (Recon: 0.7378, KL: 0.0748) Grad: 0.1874\n"
     ]
    },
    {
     "name": "stderr",
     "output_type": "stream",
     "text": [
      "100%|██████████| 125/125 [00:00<00:00, 168.93it/s]\n",
      "Testing: 100%|██████████| 16/16 [00:00<00:00, 425.33it/s]\n"
     ]
    },
    {
     "name": "stdout",
     "output_type": "stream",
     "text": [
      "====> Test set loss: 0.8101 (MSE: 0.7350, KLD: 0.0751)\n",
      "Epoch 32/150\n"
     ]
    },
    {
     "name": "stderr",
     "output_type": "stream",
     "text": [
      " 15%|█▌        | 19/125 [00:00<00:00, 186.85it/s]"
     ]
    },
    {
     "name": "stdout",
     "output_type": "stream",
     "text": [
      "Step 3,900 (N samples: 249,600), Loss: 0.8012 (Recon: 0.7286, KL: 0.0726) Grad: 0.1740\n"
     ]
    },
    {
     "name": "stderr",
     "output_type": "stream",
     "text": [
      "100%|██████████| 125/125 [00:00<00:00, 177.52it/s]\n",
      "Testing: 100%|██████████| 16/16 [00:00<00:00, 478.20it/s]\n"
     ]
    },
    {
     "name": "stdout",
     "output_type": "stream",
     "text": [
      "====> Test set loss: 0.8093 (MSE: 0.7311, KLD: 0.0782)\n",
      "Epoch 33/150\n"
     ]
    },
    {
     "name": "stderr",
     "output_type": "stream",
     "text": [
      " 13%|█▎        | 16/125 [00:00<00:00, 146.53it/s]"
     ]
    },
    {
     "name": "stdout",
     "output_type": "stream",
     "text": [
      "Step 4,000 (N samples: 256,000), Loss: 0.8006 (Recon: 0.7273, KL: 0.0733) Grad: 0.1914\n"
     ]
    },
    {
     "name": "stderr",
     "output_type": "stream",
     "text": [
      "100%|██████████| 125/125 [00:00<00:00, 170.66it/s]\n"
     ]
    },
    {
     "name": "stdout",
     "output_type": "stream",
     "text": [
      "Step 4,100 (N samples: 262,400), Loss: 0.7633 (Recon: 0.6840, KL: 0.0792) Grad: 0.1749\n"
     ]
    },
    {
     "name": "stderr",
     "output_type": "stream",
     "text": [
      "Testing: 100%|██████████| 16/16 [00:00<00:00, 436.50it/s]\n"
     ]
    },
    {
     "name": "stdout",
     "output_type": "stream",
     "text": [
      "====> Test set loss: 0.8040 (MSE: 0.7260, KLD: 0.0781)\n",
      "Epoch 34/150\n"
     ]
    },
    {
     "name": "stderr",
     "output_type": "stream",
     "text": [
      " 88%|████████▊ | 110/125 [00:00<00:00, 161.18it/s]"
     ]
    },
    {
     "name": "stdout",
     "output_type": "stream",
     "text": [
      "Step 4,200 (N samples: 268,800), Loss: 0.7606 (Recon: 0.6945, KL: 0.0661) Grad: 0.1516\n"
     ]
    },
    {
     "name": "stderr",
     "output_type": "stream",
     "text": [
      "100%|██████████| 125/125 [00:00<00:00, 154.32it/s]\n",
      "Testing: 100%|██████████| 16/16 [00:00<00:00, 399.73it/s]\n"
     ]
    },
    {
     "name": "stdout",
     "output_type": "stream",
     "text": [
      "====> Test set loss: 0.8070 (MSE: 0.7290, KLD: 0.0781)\n",
      "Epoch 35/150\n"
     ]
    },
    {
     "name": "stderr",
     "output_type": "stream",
     "text": [
      " 57%|█████▋    | 71/125 [00:00<00:00, 159.44it/s]"
     ]
    },
    {
     "name": "stdout",
     "output_type": "stream",
     "text": [
      "Step 4,300 (N samples: 275,200), Loss: 0.7966 (Recon: 0.7148, KL: 0.0818) Grad: 0.1731\n"
     ]
    },
    {
     "name": "stderr",
     "output_type": "stream",
     "text": [
      "100%|██████████| 125/125 [00:00<00:00, 167.35it/s]\n",
      "Testing: 100%|██████████| 16/16 [00:00<00:00, 495.09it/s]\n"
     ]
    },
    {
     "name": "stdout",
     "output_type": "stream",
     "text": [
      "====> Test set loss: 0.8048 (MSE: 0.7259, KLD: 0.0788)\n",
      "Epoch 36/150\n"
     ]
    },
    {
     "name": "stderr",
     "output_type": "stream",
     "text": [
      " 15%|█▌        | 19/125 [00:00<00:00, 182.93it/s]"
     ]
    },
    {
     "name": "stdout",
     "output_type": "stream",
     "text": [
      "Step 4,400 (N samples: 281,600), Loss: 0.7855 (Recon: 0.7050, KL: 0.0806) Grad: 0.1683\n"
     ]
    },
    {
     "name": "stderr",
     "output_type": "stream",
     "text": [
      "100%|██████████| 125/125 [00:00<00:00, 176.05it/s]\n",
      "Testing: 100%|██████████| 16/16 [00:00<00:00, 444.68it/s]\n"
     ]
    },
    {
     "name": "stdout",
     "output_type": "stream",
     "text": [
      "====> Test set loss: 0.8016 (MSE: 0.7240, KLD: 0.0776)\n",
      "Epoch 37/150\n"
     ]
    },
    {
     "name": "stderr",
     "output_type": "stream",
     "text": [
      " 14%|█▍        | 18/125 [00:00<00:00, 165.71it/s]"
     ]
    },
    {
     "name": "stdout",
     "output_type": "stream",
     "text": [
      "Step 4,500 (N samples: 288,000), Loss: 0.7810 (Recon: 0.7151, KL: 0.0660) Grad: 0.1694\n"
     ]
    },
    {
     "name": "stderr",
     "output_type": "stream",
     "text": [
      "100%|██████████| 125/125 [00:00<00:00, 183.82it/s]\n"
     ]
    },
    {
     "name": "stdout",
     "output_type": "stream",
     "text": [
      "Step 4,600 (N samples: 294,400), Loss: 0.8155 (Recon: 0.7232, KL: 0.0923) Grad: 0.1866\n"
     ]
    },
    {
     "name": "stderr",
     "output_type": "stream",
     "text": [
      "Testing: 100%|██████████| 16/16 [00:00<00:00, 433.89it/s]\n"
     ]
    },
    {
     "name": "stdout",
     "output_type": "stream",
     "text": [
      "====> Test set loss: 0.8037 (MSE: 0.7259, KLD: 0.0778)\n",
      "Epoch 38/150\n"
     ]
    },
    {
     "name": "stderr",
     "output_type": "stream",
     "text": [
      " 75%|███████▌  | 94/125 [00:00<00:00, 179.79it/s]"
     ]
    },
    {
     "name": "stdout",
     "output_type": "stream",
     "text": [
      "Step 4,700 (N samples: 300,800), Loss: 0.7486 (Recon: 0.6625, KL: 0.0861) Grad: 0.1716\n"
     ]
    },
    {
     "name": "stderr",
     "output_type": "stream",
     "text": [
      "100%|██████████| 125/125 [00:00<00:00, 173.61it/s]\n",
      "Testing: 100%|██████████| 16/16 [00:00<00:00, 529.59it/s]\n"
     ]
    },
    {
     "name": "stdout",
     "output_type": "stream",
     "text": [
      "====> Test set loss: 0.7968 (MSE: 0.7159, KLD: 0.0809)\n",
      "Epoch 39/150\n"
     ]
    },
    {
     "name": "stderr",
     "output_type": "stream",
     "text": [
      " 66%|██████▋   | 83/125 [00:00<00:00, 199.55it/s]"
     ]
    },
    {
     "name": "stdout",
     "output_type": "stream",
     "text": [
      "Step 4,800 (N samples: 307,200), Loss: 0.8027 (Recon: 0.7208, KL: 0.0819) Grad: 0.1863\n"
     ]
    },
    {
     "name": "stderr",
     "output_type": "stream",
     "text": [
      "100%|██████████| 125/125 [00:00<00:00, 193.95it/s]\n",
      "Testing: 100%|██████████| 16/16 [00:00<00:00, 461.30it/s]\n"
     ]
    },
    {
     "name": "stdout",
     "output_type": "stream",
     "text": [
      "====> Test set loss: 0.7997 (MSE: 0.7207, KLD: 0.0791)\n",
      "Epoch 40/150\n"
     ]
    },
    {
     "name": "stderr",
     "output_type": "stream",
     "text": [
      " 14%|█▍        | 18/125 [00:00<00:00, 179.98it/s]"
     ]
    },
    {
     "name": "stdout",
     "output_type": "stream",
     "text": [
      "Step 4,900 (N samples: 313,600), Loss: 0.7700 (Recon: 0.6903, KL: 0.0797) Grad: 0.1868\n"
     ]
    },
    {
     "name": "stderr",
     "output_type": "stream",
     "text": [
      "100%|██████████| 125/125 [00:00<00:00, 165.38it/s]\n",
      "Testing: 100%|██████████| 16/16 [00:00<00:00, 514.18it/s]\n"
     ]
    },
    {
     "name": "stdout",
     "output_type": "stream",
     "text": [
      "====> Test set loss: 0.7975 (MSE: 0.7169, KLD: 0.0806)\n",
      "Epoch 41/150\n"
     ]
    },
    {
     "name": "stderr",
     "output_type": "stream",
     "text": [
      " 14%|█▎        | 17/125 [00:00<00:00, 166.82it/s]"
     ]
    },
    {
     "name": "stdout",
     "output_type": "stream",
     "text": [
      "Step 5,000 (N samples: 320,000), Loss: 0.7746 (Recon: 0.6881, KL: 0.0865) Grad: 0.1798\n"
     ]
    },
    {
     "name": "stderr",
     "output_type": "stream",
     "text": [
      "100%|██████████| 125/125 [00:00<00:00, 174.89it/s]\n"
     ]
    },
    {
     "name": "stdout",
     "output_type": "stream",
     "text": [
      "Step 5,100 (N samples: 326,400), Loss: 0.7275 (Recon: 0.6494, KL: 0.0782) Grad: 0.1709\n"
     ]
    },
    {
     "name": "stderr",
     "output_type": "stream",
     "text": [
      "Testing: 100%|██████████| 16/16 [00:00<00:00, 649.11it/s]\n"
     ]
    },
    {
     "name": "stdout",
     "output_type": "stream",
     "text": [
      "====> Test set loss: 0.7980 (MSE: 0.7136, KLD: 0.0844)\n",
      "Epoch 42/150\n"
     ]
    },
    {
     "name": "stderr",
     "output_type": "stream",
     "text": [
      " 82%|████████▏ | 103/125 [00:00<00:00, 185.74it/s]"
     ]
    },
    {
     "name": "stdout",
     "output_type": "stream",
     "text": [
      "Step 5,200 (N samples: 332,800), Loss: 0.8016 (Recon: 0.7120, KL: 0.0896) Grad: 0.1921\n"
     ]
    },
    {
     "name": "stderr",
     "output_type": "stream",
     "text": [
      "100%|██████████| 125/125 [00:00<00:00, 187.16it/s]\n",
      "Testing: 100%|██████████| 16/16 [00:00<00:00, 440.19it/s]\n"
     ]
    },
    {
     "name": "stdout",
     "output_type": "stream",
     "text": [
      "====> Test set loss: 0.7976 (MSE: 0.7168, KLD: 0.0808)\n",
      "Epoch 43/150\n"
     ]
    },
    {
     "name": "stderr",
     "output_type": "stream",
     "text": [
      " 63%|██████▎   | 79/125 [00:00<00:00, 188.70it/s]"
     ]
    },
    {
     "name": "stdout",
     "output_type": "stream",
     "text": [
      "Step 5,300 (N samples: 339,200), Loss: 0.8174 (Recon: 0.7453, KL: 0.0721) Grad: 0.1882\n"
     ]
    },
    {
     "name": "stderr",
     "output_type": "stream",
     "text": [
      "100%|██████████| 125/125 [00:00<00:00, 179.02it/s]\n",
      "Testing: 100%|██████████| 16/16 [00:00<00:00, 405.66it/s]\n"
     ]
    },
    {
     "name": "stdout",
     "output_type": "stream",
     "text": [
      "====> Test set loss: 0.7924 (MSE: 0.7122, KLD: 0.0802)\n",
      "Epoch 44/150\n"
     ]
    },
    {
     "name": "stderr",
     "output_type": "stream",
     "text": [
      " 16%|█▌        | 20/125 [00:00<00:00, 174.21it/s]"
     ]
    },
    {
     "name": "stdout",
     "output_type": "stream",
     "text": [
      "Step 5,400 (N samples: 345,600), Loss: 0.7516 (Recon: 0.6675, KL: 0.0841) Grad: 0.1866\n"
     ]
    },
    {
     "name": "stderr",
     "output_type": "stream",
     "text": [
      "100%|██████████| 125/125 [00:00<00:00, 144.42it/s]\n",
      "Testing: 100%|██████████| 16/16 [00:00<00:00, 228.23it/s]\n"
     ]
    },
    {
     "name": "stdout",
     "output_type": "stream",
     "text": [
      "====> Test set loss: 0.7918 (MSE: 0.7105, KLD: 0.0812)\n",
      "Epoch 45/150\n"
     ]
    },
    {
     "name": "stderr",
     "output_type": "stream",
     "text": [
      " 11%|█         | 14/125 [00:00<00:00, 136.93it/s]"
     ]
    },
    {
     "name": "stdout",
     "output_type": "stream",
     "text": [
      "Step 5,500 (N samples: 352,000), Loss: 0.7836 (Recon: 0.6954, KL: 0.0882) Grad: 0.2196\n"
     ]
    },
    {
     "name": "stderr",
     "output_type": "stream",
     "text": [
      "100%|██████████| 125/125 [00:00<00:00, 145.73it/s]\n"
     ]
    },
    {
     "name": "stdout",
     "output_type": "stream",
     "text": [
      "Step 5,600 (N samples: 358,400), Loss: 0.7987 (Recon: 0.7168, KL: 0.0819) Grad: 0.1751\n"
     ]
    },
    {
     "name": "stderr",
     "output_type": "stream",
     "text": [
      "Testing: 100%|██████████| 16/16 [00:00<00:00, 291.33it/s]\n"
     ]
    },
    {
     "name": "stdout",
     "output_type": "stream",
     "text": [
      "====> Test set loss: 0.7942 (MSE: 0.7144, KLD: 0.0798)\n",
      "Epoch 46/150\n"
     ]
    },
    {
     "name": "stderr",
     "output_type": "stream",
     "text": [
      " 76%|███████▌  | 95/125 [00:00<00:00, 136.12it/s]"
     ]
    },
    {
     "name": "stdout",
     "output_type": "stream",
     "text": [
      "Step 5,700 (N samples: 364,800), Loss: 0.8077 (Recon: 0.7313, KL: 0.0764) Grad: 0.2001\n"
     ]
    },
    {
     "name": "stderr",
     "output_type": "stream",
     "text": [
      "100%|██████████| 125/125 [00:00<00:00, 135.13it/s]\n",
      "Testing: 100%|██████████| 16/16 [00:00<00:00, 288.59it/s]\n"
     ]
    },
    {
     "name": "stdout",
     "output_type": "stream",
     "text": [
      "====> Test set loss: 0.7975 (MSE: 0.7179, KLD: 0.0796)\n",
      "Epoch 47/150\n"
     ]
    },
    {
     "name": "stderr",
     "output_type": "stream",
     "text": [
      " 50%|████▉     | 62/125 [00:00<00:00, 124.15it/s]"
     ]
    },
    {
     "name": "stdout",
     "output_type": "stream",
     "text": [
      "Step 5,800 (N samples: 371,200), Loss: 0.8379 (Recon: 0.7436, KL: 0.0943) Grad: 0.2018\n"
     ]
    },
    {
     "name": "stderr",
     "output_type": "stream",
     "text": [
      "100%|██████████| 125/125 [00:01<00:00, 123.52it/s]\n",
      "Testing: 100%|██████████| 16/16 [00:00<00:00, 459.65it/s]\n"
     ]
    },
    {
     "name": "stdout",
     "output_type": "stream",
     "text": [
      "====> Test set loss: 0.7889 (MSE: 0.7099, KLD: 0.0790)\n",
      "Epoch 48/150\n"
     ]
    },
    {
     "name": "stderr",
     "output_type": "stream",
     "text": [
      " 15%|█▌        | 19/125 [00:00<00:00, 179.75it/s]"
     ]
    },
    {
     "name": "stdout",
     "output_type": "stream",
     "text": [
      "Step 5,900 (N samples: 377,600), Loss: 0.7911 (Recon: 0.7049, KL: 0.0862) Grad: 0.2061\n"
     ]
    },
    {
     "name": "stderr",
     "output_type": "stream",
     "text": [
      "100%|██████████| 125/125 [00:00<00:00, 168.13it/s]\n",
      "Testing: 100%|██████████| 16/16 [00:00<00:00, 383.05it/s]\n"
     ]
    },
    {
     "name": "stdout",
     "output_type": "stream",
     "text": [
      "====> Test set loss: 0.7980 (MSE: 0.7171, KLD: 0.0809)\n",
      "Epoch 49/150\n"
     ]
    },
    {
     "name": "stderr",
     "output_type": "stream",
     "text": [
      " 30%|██▉       | 37/125 [00:00<00:00, 183.78it/s]"
     ]
    },
    {
     "name": "stdout",
     "output_type": "stream",
     "text": [
      "Step 6,000 (N samples: 384,000), Loss: 0.7485 (Recon: 0.6767, KL: 0.0718) Grad: 0.1646\n"
     ]
    },
    {
     "name": "stderr",
     "output_type": "stream",
     "text": [
      "100%|██████████| 125/125 [00:00<00:00, 177.90it/s]\n"
     ]
    },
    {
     "name": "stdout",
     "output_type": "stream",
     "text": [
      "Step 6,100 (N samples: 390,400), Loss: 0.8032 (Recon: 0.7139, KL: 0.0893) Grad: 0.1995\n"
     ]
    },
    {
     "name": "stderr",
     "output_type": "stream",
     "text": [
      "Testing: 100%|██████████| 16/16 [00:00<00:00, 509.39it/s]\n"
     ]
    },
    {
     "name": "stdout",
     "output_type": "stream",
     "text": [
      "====> Test set loss: 0.7937 (MSE: 0.7128, KLD: 0.0809)\n",
      "Epoch 50/150\n"
     ]
    },
    {
     "name": "stderr",
     "output_type": "stream",
     "text": [
      " 74%|███████▍  | 93/125 [00:00<00:00, 174.60it/s]"
     ]
    },
    {
     "name": "stdout",
     "output_type": "stream",
     "text": [
      "Step 6,200 (N samples: 396,800), Loss: 0.7828 (Recon: 0.6975, KL: 0.0852) Grad: 0.1994\n"
     ]
    },
    {
     "name": "stderr",
     "output_type": "stream",
     "text": [
      "100%|██████████| 125/125 [00:00<00:00, 171.12it/s]\n",
      "Testing: 100%|██████████| 16/16 [00:00<00:00, 463.29it/s]\n"
     ]
    },
    {
     "name": "stdout",
     "output_type": "stream",
     "text": [
      "====> Test set loss: 0.7918 (MSE: 0.7111, KLD: 0.0807)\n",
      "Epoch 51/150\n"
     ]
    },
    {
     "name": "stderr",
     "output_type": "stream",
     "text": [
      " 62%|██████▏   | 77/125 [00:00<00:00, 174.58it/s]"
     ]
    },
    {
     "name": "stdout",
     "output_type": "stream",
     "text": [
      "Step 6,300 (N samples: 403,200), Loss: 0.7496 (Recon: 0.6668, KL: 0.0828) Grad: 0.2077\n"
     ]
    },
    {
     "name": "stderr",
     "output_type": "stream",
     "text": [
      "100%|██████████| 125/125 [00:00<00:00, 177.46it/s]\n",
      "Testing: 100%|██████████| 16/16 [00:00<00:00, 411.15it/s]\n"
     ]
    },
    {
     "name": "stdout",
     "output_type": "stream",
     "text": [
      "====> Test set loss: 0.7883 (MSE: 0.7069, KLD: 0.0814)\n",
      "Epoch 52/150\n"
     ]
    },
    {
     "name": "stderr",
     "output_type": "stream",
     "text": [
      " 14%|█▍        | 18/125 [00:00<00:00, 179.94it/s]"
     ]
    },
    {
     "name": "stdout",
     "output_type": "stream",
     "text": [
      "Step 6,400 (N samples: 409,600), Loss: 0.8182 (Recon: 0.7273, KL: 0.0909) Grad: 0.1799\n"
     ]
    },
    {
     "name": "stderr",
     "output_type": "stream",
     "text": [
      "100%|██████████| 125/125 [00:00<00:00, 178.92it/s]\n",
      "Testing: 100%|██████████| 16/16 [00:00<00:00, 399.65it/s]\n"
     ]
    },
    {
     "name": "stdout",
     "output_type": "stream",
     "text": [
      "====> Test set loss: 0.7875 (MSE: 0.7036, KLD: 0.0839)\n",
      "Epoch 53/150\n"
     ]
    },
    {
     "name": "stderr",
     "output_type": "stream",
     "text": [
      " 14%|█▎        | 17/125 [00:00<00:00, 155.25it/s]"
     ]
    },
    {
     "name": "stdout",
     "output_type": "stream",
     "text": [
      "Step 6,500 (N samples: 416,000), Loss: 0.8266 (Recon: 0.7364, KL: 0.0902) Grad: 0.2371\n"
     ]
    },
    {
     "name": "stderr",
     "output_type": "stream",
     "text": [
      "100%|██████████| 125/125 [00:00<00:00, 157.66it/s]\n"
     ]
    },
    {
     "name": "stdout",
     "output_type": "stream",
     "text": [
      "Step 6,600 (N samples: 422,400), Loss: 0.7585 (Recon: 0.6724, KL: 0.0861) Grad: 0.1786\n"
     ]
    },
    {
     "name": "stderr",
     "output_type": "stream",
     "text": [
      "Testing: 100%|██████████| 16/16 [00:00<00:00, 391.83it/s]\n"
     ]
    },
    {
     "name": "stdout",
     "output_type": "stream",
     "text": [
      "====> Test set loss: 0.7884 (MSE: 0.7076, KLD: 0.0808)\n",
      "Epoch 54/150\n"
     ]
    },
    {
     "name": "stderr",
     "output_type": "stream",
     "text": [
      " 71%|███████   | 89/125 [00:00<00:00, 171.16it/s]"
     ]
    },
    {
     "name": "stdout",
     "output_type": "stream",
     "text": [
      "Step 6,700 (N samples: 428,800), Loss: 0.7897 (Recon: 0.7039, KL: 0.0858) Grad: 0.1898\n"
     ]
    },
    {
     "name": "stderr",
     "output_type": "stream",
     "text": [
      "100%|██████████| 125/125 [00:00<00:00, 172.28it/s]\n",
      "Testing: 100%|██████████| 16/16 [00:00<00:00, 444.16it/s]\n"
     ]
    },
    {
     "name": "stdout",
     "output_type": "stream",
     "text": [
      "====> Test set loss: 0.7875 (MSE: 0.7049, KLD: 0.0826)\n",
      "Epoch 55/150\n"
     ]
    },
    {
     "name": "stderr",
     "output_type": "stream",
     "text": [
      " 54%|█████▍    | 68/125 [00:00<00:00, 167.92it/s]"
     ]
    },
    {
     "name": "stdout",
     "output_type": "stream",
     "text": [
      "Step 6,800 (N samples: 435,200), Loss: 0.8054 (Recon: 0.7113, KL: 0.0941) Grad: 0.2513\n"
     ]
    },
    {
     "name": "stderr",
     "output_type": "stream",
     "text": [
      "100%|██████████| 125/125 [00:00<00:00, 169.62it/s]\n",
      "Testing: 100%|██████████| 16/16 [00:00<00:00, 534.48it/s]\n"
     ]
    },
    {
     "name": "stdout",
     "output_type": "stream",
     "text": [
      "====> Test set loss: 0.7859 (MSE: 0.6997, KLD: 0.0862)\n",
      "Epoch 56/150\n"
     ]
    },
    {
     "name": "stderr",
     "output_type": "stream",
     "text": [
      " 14%|█▎        | 17/125 [00:00<00:00, 151.69it/s]"
     ]
    },
    {
     "name": "stdout",
     "output_type": "stream",
     "text": [
      "Step 6,900 (N samples: 441,600), Loss: 0.7548 (Recon: 0.6699, KL: 0.0848) Grad: 0.2035\n"
     ]
    },
    {
     "name": "stderr",
     "output_type": "stream",
     "text": [
      "100%|██████████| 125/125 [00:00<00:00, 154.16it/s]\n",
      "Testing: 100%|██████████| 16/16 [00:00<00:00, 539.88it/s]\n"
     ]
    },
    {
     "name": "stdout",
     "output_type": "stream",
     "text": [
      "====> Test set loss: 0.7830 (MSE: 0.6958, KLD: 0.0872)\n",
      "Epoch 57/150\n"
     ]
    },
    {
     "name": "stderr",
     "output_type": "stream",
     "text": [
      " 13%|█▎        | 16/125 [00:00<00:00, 156.80it/s]"
     ]
    },
    {
     "name": "stdout",
     "output_type": "stream",
     "text": [
      "Step 7,000 (N samples: 448,000), Loss: 0.7845 (Recon: 0.6902, KL: 0.0942) Grad: 0.2415\n"
     ]
    },
    {
     "name": "stderr",
     "output_type": "stream",
     "text": [
      "100%|██████████| 125/125 [00:00<00:00, 169.10it/s]\n"
     ]
    },
    {
     "name": "stdout",
     "output_type": "stream",
     "text": [
      "Step 7,100 (N samples: 454,400), Loss: 0.7043 (Recon: 0.6277, KL: 0.0766) Grad: 0.1898\n"
     ]
    },
    {
     "name": "stderr",
     "output_type": "stream",
     "text": [
      "Testing: 100%|██████████| 16/16 [00:00<00:00, 390.78it/s]\n"
     ]
    },
    {
     "name": "stdout",
     "output_type": "stream",
     "text": [
      "====> Test set loss: 0.7815 (MSE: 0.6961, KLD: 0.0854)\n",
      "Epoch 58/150\n"
     ]
    },
    {
     "name": "stderr",
     "output_type": "stream",
     "text": [
      " 78%|███████▊  | 97/125 [00:00<00:00, 185.96it/s]"
     ]
    },
    {
     "name": "stdout",
     "output_type": "stream",
     "text": [
      "Step 7,200 (N samples: 460,800), Loss: 0.7333 (Recon: 0.6413, KL: 0.0919) Grad: 0.2158\n"
     ]
    },
    {
     "name": "stderr",
     "output_type": "stream",
     "text": [
      "100%|██████████| 125/125 [00:00<00:00, 182.26it/s]\n",
      "Testing: 100%|██████████| 16/16 [00:00<00:00, 434.27it/s]\n"
     ]
    },
    {
     "name": "stdout",
     "output_type": "stream",
     "text": [
      "====> Test set loss: 0.7759 (MSE: 0.6850, KLD: 0.0909)\n",
      "Epoch 59/150\n"
     ]
    },
    {
     "name": "stderr",
     "output_type": "stream",
     "text": [
      " 62%|██████▏   | 77/125 [00:00<00:00, 176.72it/s]"
     ]
    },
    {
     "name": "stdout",
     "output_type": "stream",
     "text": [
      "Step 7,300 (N samples: 467,200), Loss: 0.7569 (Recon: 0.6650, KL: 0.0919) Grad: 0.1853\n"
     ]
    },
    {
     "name": "stderr",
     "output_type": "stream",
     "text": [
      "100%|██████████| 125/125 [00:00<00:00, 173.16it/s]\n",
      "Testing: 100%|██████████| 16/16 [00:00<00:00, 361.19it/s]\n"
     ]
    },
    {
     "name": "stdout",
     "output_type": "stream",
     "text": [
      "====> Test set loss: 0.7783 (MSE: 0.6872, KLD: 0.0911)\n",
      "Epoch 60/150\n"
     ]
    },
    {
     "name": "stderr",
     "output_type": "stream",
     "text": [
      " 13%|█▎        | 16/125 [00:00<00:00, 151.90it/s]"
     ]
    },
    {
     "name": "stdout",
     "output_type": "stream",
     "text": [
      "Step 7,400 (N samples: 473,600), Loss: 0.7400 (Recon: 0.6431, KL: 0.0969) Grad: 0.2253\n"
     ]
    },
    {
     "name": "stderr",
     "output_type": "stream",
     "text": [
      "100%|██████████| 125/125 [00:00<00:00, 151.75it/s]\n",
      "Testing: 100%|██████████| 16/16 [00:00<00:00, 398.75it/s]\n"
     ]
    },
    {
     "name": "stdout",
     "output_type": "stream",
     "text": [
      "====> Test set loss: 0.7704 (MSE: 0.6778, KLD: 0.0926)\n",
      "Epoch 61/150\n"
     ]
    },
    {
     "name": "stderr",
     "output_type": "stream",
     "text": [
      " 14%|█▎        | 17/125 [00:00<00:00, 167.49it/s]"
     ]
    },
    {
     "name": "stdout",
     "output_type": "stream",
     "text": [
      "Step 7,500 (N samples: 480,000), Loss: 0.7256 (Recon: 0.6371, KL: 0.0884) Grad: 0.2059\n"
     ]
    },
    {
     "name": "stderr",
     "output_type": "stream",
     "text": [
      "100%|██████████| 125/125 [00:00<00:00, 178.19it/s]\n"
     ]
    },
    {
     "name": "stdout",
     "output_type": "stream",
     "text": [
      "Step 7,600 (N samples: 486,400), Loss: 0.7649 (Recon: 0.6738, KL: 0.0911) Grad: 0.2551\n"
     ]
    },
    {
     "name": "stderr",
     "output_type": "stream",
     "text": [
      "Testing: 100%|██████████| 16/16 [00:00<00:00, 470.57it/s]\n"
     ]
    },
    {
     "name": "stdout",
     "output_type": "stream",
     "text": [
      "====> Test set loss: 0.7728 (MSE: 0.6801, KLD: 0.0927)\n",
      "Epoch 62/150\n"
     ]
    },
    {
     "name": "stderr",
     "output_type": "stream",
     "text": [
      " 74%|███████▎  | 92/125 [00:00<00:00, 174.97it/s]"
     ]
    },
    {
     "name": "stdout",
     "output_type": "stream",
     "text": [
      "Step 7,700 (N samples: 492,800), Loss: 0.7486 (Recon: 0.6587, KL: 0.0898) Grad: 0.2016\n"
     ]
    },
    {
     "name": "stderr",
     "output_type": "stream",
     "text": [
      "100%|██████████| 125/125 [00:00<00:00, 173.48it/s]\n",
      "Testing: 100%|██████████| 16/16 [00:00<00:00, 431.08it/s]\n"
     ]
    },
    {
     "name": "stdout",
     "output_type": "stream",
     "text": [
      "====> Test set loss: 0.7747 (MSE: 0.6833, KLD: 0.0913)\n",
      "Epoch 63/150\n"
     ]
    },
    {
     "name": "stderr",
     "output_type": "stream",
     "text": [
      " 59%|█████▉    | 74/125 [00:00<00:00, 182.47it/s]"
     ]
    },
    {
     "name": "stdout",
     "output_type": "stream",
     "text": [
      "Step 7,800 (N samples: 499,200), Loss: 0.7000 (Recon: 0.6175, KL: 0.0824) Grad: 0.1853\n"
     ]
    },
    {
     "name": "stderr",
     "output_type": "stream",
     "text": [
      "100%|██████████| 125/125 [00:00<00:00, 179.54it/s]\n",
      "Testing: 100%|██████████| 16/16 [00:00<00:00, 135.77it/s]\n"
     ]
    },
    {
     "name": "stdout",
     "output_type": "stream",
     "text": [
      "====> Test set loss: 0.7662 (MSE: 0.6740, KLD: 0.0922)\n",
      "Epoch 64/150\n"
     ]
    },
    {
     "name": "stderr",
     "output_type": "stream",
     "text": [
      " 14%|█▍        | 18/125 [00:00<00:00, 165.22it/s]"
     ]
    },
    {
     "name": "stdout",
     "output_type": "stream",
     "text": [
      "Step 7,900 (N samples: 505,600), Loss: 0.7931 (Recon: 0.6898, KL: 0.1033) Grad: 0.2173\n"
     ]
    },
    {
     "name": "stderr",
     "output_type": "stream",
     "text": [
      "100%|██████████| 125/125 [00:00<00:00, 183.75it/s]\n",
      "Testing: 100%|██████████| 16/16 [00:00<00:00, 559.97it/s]\n"
     ]
    },
    {
     "name": "stdout",
     "output_type": "stream",
     "text": [
      "====> Test set loss: 0.7717 (MSE: 0.6781, KLD: 0.0936)\n",
      "Epoch 65/150\n"
     ]
    },
    {
     "name": "stderr",
     "output_type": "stream",
     "text": [
      " 15%|█▌        | 19/125 [00:00<00:00, 189.69it/s]"
     ]
    },
    {
     "name": "stdout",
     "output_type": "stream",
     "text": [
      "Step 8,000 (N samples: 512,000), Loss: 0.7378 (Recon: 0.6554, KL: 0.0824) Grad: 0.1948\n"
     ]
    },
    {
     "name": "stderr",
     "output_type": "stream",
     "text": [
      "100%|██████████| 125/125 [00:00<00:00, 180.33it/s]\n"
     ]
    },
    {
     "name": "stdout",
     "output_type": "stream",
     "text": [
      "Step 8,100 (N samples: 518,400), Loss: 0.7311 (Recon: 0.6444, KL: 0.0867) Grad: 0.2063\n"
     ]
    },
    {
     "name": "stderr",
     "output_type": "stream",
     "text": [
      "Testing: 100%|██████████| 16/16 [00:00<00:00, 470.41it/s]\n"
     ]
    },
    {
     "name": "stdout",
     "output_type": "stream",
     "text": [
      "====> Test set loss: 0.7682 (MSE: 0.6745, KLD: 0.0938)\n",
      "Epoch 66/150\n"
     ]
    },
    {
     "name": "stderr",
     "output_type": "stream",
     "text": [
      " 82%|████████▏ | 102/125 [00:00<00:00, 183.21it/s]"
     ]
    },
    {
     "name": "stdout",
     "output_type": "stream",
     "text": [
      "Step 8,200 (N samples: 524,800), Loss: 0.7937 (Recon: 0.6933, KL: 0.1004) Grad: 0.2437\n"
     ]
    },
    {
     "name": "stderr",
     "output_type": "stream",
     "text": [
      "100%|██████████| 125/125 [00:00<00:00, 185.55it/s]\n",
      "Testing: 100%|██████████| 16/16 [00:00<00:00, 454.74it/s]\n"
     ]
    },
    {
     "name": "stdout",
     "output_type": "stream",
     "text": [
      "====> Test set loss: 0.7636 (MSE: 0.6676, KLD: 0.0960)\n",
      "Epoch 67/150\n"
     ]
    },
    {
     "name": "stderr",
     "output_type": "stream",
     "text": [
      " 62%|██████▏   | 77/125 [00:00<00:00, 179.35it/s]"
     ]
    },
    {
     "name": "stdout",
     "output_type": "stream",
     "text": [
      "Step 8,300 (N samples: 531,200), Loss: 0.7087 (Recon: 0.6120, KL: 0.0967) Grad: 0.2521\n"
     ]
    },
    {
     "name": "stderr",
     "output_type": "stream",
     "text": [
      "100%|██████████| 125/125 [00:00<00:00, 175.96it/s]\n",
      "Testing: 100%|██████████| 16/16 [00:00<00:00, 405.04it/s]\n"
     ]
    },
    {
     "name": "stdout",
     "output_type": "stream",
     "text": [
      "====> Test set loss: 0.7691 (MSE: 0.6742, KLD: 0.0949)\n",
      "Epoch 68/150\n"
     ]
    },
    {
     "name": "stderr",
     "output_type": "stream",
     "text": [
      " 28%|██▊       | 35/125 [00:00<00:00, 173.26it/s]"
     ]
    },
    {
     "name": "stdout",
     "output_type": "stream",
     "text": [
      "Step 8,400 (N samples: 537,600), Loss: 0.7139 (Recon: 0.6201, KL: 0.0937) Grad: 0.1955\n"
     ]
    },
    {
     "name": "stderr",
     "output_type": "stream",
     "text": [
      "100%|██████████| 125/125 [00:00<00:00, 173.86it/s]\n",
      "Testing: 100%|██████████| 16/16 [00:00<00:00, 454.61it/s]\n"
     ]
    },
    {
     "name": "stdout",
     "output_type": "stream",
     "text": [
      "====> Test set loss: 0.7601 (MSE: 0.6660, KLD: 0.0941)\n",
      "Epoch 69/150\n"
     ]
    },
    {
     "name": "stderr",
     "output_type": "stream",
     "text": [
      " 16%|█▌        | 20/125 [00:00<00:00, 182.88it/s]"
     ]
    },
    {
     "name": "stdout",
     "output_type": "stream",
     "text": [
      "Step 8,500 (N samples: 544,000), Loss: 0.7354 (Recon: 0.6471, KL: 0.0883) Grad: 0.2551\n"
     ]
    },
    {
     "name": "stderr",
     "output_type": "stream",
     "text": [
      "100%|██████████| 125/125 [00:00<00:00, 164.02it/s]\n"
     ]
    },
    {
     "name": "stdout",
     "output_type": "stream",
     "text": [
      "Step 8,600 (N samples: 550,400), Loss: 0.7325 (Recon: 0.6370, KL: 0.0954) Grad: 0.2145\n"
     ]
    },
    {
     "name": "stderr",
     "output_type": "stream",
     "text": [
      "Testing: 100%|██████████| 16/16 [00:00<00:00, 300.80it/s]\n"
     ]
    },
    {
     "name": "stdout",
     "output_type": "stream",
     "text": [
      "====> Test set loss: 0.7580 (MSE: 0.6597, KLD: 0.0983)\n",
      "Epoch 70/150\n"
     ]
    },
    {
     "name": "stderr",
     "output_type": "stream",
     "text": [
      " 82%|████████▏ | 103/125 [00:00<00:00, 168.75it/s]"
     ]
    },
    {
     "name": "stdout",
     "output_type": "stream",
     "text": [
      "Step 8,700 (N samples: 556,800), Loss: 0.7156 (Recon: 0.6266, KL: 0.0890) Grad: 0.2388\n"
     ]
    },
    {
     "name": "stderr",
     "output_type": "stream",
     "text": [
      "100%|██████████| 125/125 [00:00<00:00, 162.82it/s]\n",
      "Testing: 100%|██████████| 16/16 [00:00<00:00, 494.35it/s]\n"
     ]
    },
    {
     "name": "stdout",
     "output_type": "stream",
     "text": [
      "====> Test set loss: 0.7544 (MSE: 0.6584, KLD: 0.0960)\n",
      "Epoch 71/150\n"
     ]
    },
    {
     "name": "stderr",
     "output_type": "stream",
     "text": [
      " 54%|█████▍    | 68/125 [00:00<00:00, 169.71it/s]"
     ]
    },
    {
     "name": "stdout",
     "output_type": "stream",
     "text": [
      "Step 8,800 (N samples: 563,200), Loss: 0.7231 (Recon: 0.6220, KL: 0.1011) Grad: 0.2097\n"
     ]
    },
    {
     "name": "stderr",
     "output_type": "stream",
     "text": [
      "100%|██████████| 125/125 [00:00<00:00, 171.87it/s]\n",
      "Testing: 100%|██████████| 16/16 [00:00<00:00, 570.07it/s]\n"
     ]
    },
    {
     "name": "stdout",
     "output_type": "stream",
     "text": [
      "====> Test set loss: 0.7572 (MSE: 0.6589, KLD: 0.0983)\n",
      "Epoch 72/150\n"
     ]
    },
    {
     "name": "stderr",
     "output_type": "stream",
     "text": [
      " 14%|█▍        | 18/125 [00:00<00:00, 159.82it/s]"
     ]
    },
    {
     "name": "stdout",
     "output_type": "stream",
     "text": [
      "Step 8,900 (N samples: 569,600), Loss: 0.7178 (Recon: 0.6311, KL: 0.0867) Grad: 0.2166\n"
     ]
    },
    {
     "name": "stderr",
     "output_type": "stream",
     "text": [
      "100%|██████████| 125/125 [00:00<00:00, 149.14it/s]\n",
      "Testing: 100%|██████████| 16/16 [00:00<00:00, 351.62it/s]\n"
     ]
    },
    {
     "name": "stdout",
     "output_type": "stream",
     "text": [
      "====> Test set loss: 0.7551 (MSE: 0.6518, KLD: 0.1032)\n",
      "Epoch 73/150\n"
     ]
    },
    {
     "name": "stderr",
     "output_type": "stream",
     "text": [
      " 29%|██▉       | 36/125 [00:00<00:00, 183.38it/s]"
     ]
    },
    {
     "name": "stdout",
     "output_type": "stream",
     "text": [
      "Step 9,000 (N samples: 576,000), Loss: 0.7268 (Recon: 0.6202, KL: 0.1067) Grad: 0.2478\n"
     ]
    },
    {
     "name": "stderr",
     "output_type": "stream",
     "text": [
      "100%|██████████| 125/125 [00:00<00:00, 157.06it/s]\n"
     ]
    },
    {
     "name": "stdout",
     "output_type": "stream",
     "text": [
      "Step 9,100 (N samples: 582,400), Loss: 0.6765 (Recon: 0.5861, KL: 0.0904) Grad: 0.1956\n"
     ]
    },
    {
     "name": "stderr",
     "output_type": "stream",
     "text": [
      "Testing: 100%|██████████| 16/16 [00:00<00:00, 397.37it/s]\n"
     ]
    },
    {
     "name": "stdout",
     "output_type": "stream",
     "text": [
      "====> Test set loss: 0.7577 (MSE: 0.6578, KLD: 0.0999)\n",
      "Epoch 74/150\n"
     ]
    },
    {
     "name": "stderr",
     "output_type": "stream",
     "text": [
      " 74%|███████▎  | 92/125 [00:00<00:00, 173.29it/s]"
     ]
    },
    {
     "name": "stdout",
     "output_type": "stream",
     "text": [
      "Step 9,200 (N samples: 588,800), Loss: 0.7530 (Recon: 0.6532, KL: 0.0998) Grad: 0.2164\n"
     ]
    },
    {
     "name": "stderr",
     "output_type": "stream",
     "text": [
      "100%|██████████| 125/125 [00:00<00:00, 177.21it/s]\n",
      "Testing: 100%|██████████| 16/16 [00:00<00:00, 536.96it/s]\n"
     ]
    },
    {
     "name": "stdout",
     "output_type": "stream",
     "text": [
      "====> Test set loss: 0.7584 (MSE: 0.6605, KLD: 0.0979)\n",
      "Epoch 75/150\n"
     ]
    },
    {
     "name": "stderr",
     "output_type": "stream",
     "text": [
      " 58%|█████▊    | 72/125 [00:00<00:00, 171.69it/s]"
     ]
    },
    {
     "name": "stdout",
     "output_type": "stream",
     "text": [
      "Step 9,300 (N samples: 595,200), Loss: 0.7410 (Recon: 0.6506, KL: 0.0904) Grad: 0.1938\n"
     ]
    },
    {
     "name": "stderr",
     "output_type": "stream",
     "text": [
      "100%|██████████| 125/125 [00:00<00:00, 165.77it/s]\n",
      "Testing: 100%|██████████| 16/16 [00:00<00:00, 530.69it/s]\n"
     ]
    },
    {
     "name": "stdout",
     "output_type": "stream",
     "text": [
      "====> Test set loss: 0.7554 (MSE: 0.6548, KLD: 0.1006)\n",
      "Epoch 76/150\n"
     ]
    },
    {
     "name": "stderr",
     "output_type": "stream",
     "text": [
      " 14%|█▍        | 18/125 [00:00<00:00, 176.27it/s]"
     ]
    },
    {
     "name": "stdout",
     "output_type": "stream",
     "text": [
      "Step 9,400 (N samples: 601,600), Loss: 0.7510 (Recon: 0.6559, KL: 0.0951) Grad: 0.2342\n"
     ]
    },
    {
     "name": "stderr",
     "output_type": "stream",
     "text": [
      "100%|██████████| 125/125 [00:00<00:00, 166.59it/s]\n",
      "Testing: 100%|██████████| 16/16 [00:00<00:00, 473.90it/s]\n"
     ]
    },
    {
     "name": "stdout",
     "output_type": "stream",
     "text": [
      "====> Test set loss: 0.7494 (MSE: 0.6487, KLD: 0.1007)\n",
      "Epoch 77/150\n"
     ]
    },
    {
     "name": "stderr",
     "output_type": "stream",
     "text": [
      " 17%|█▋        | 21/125 [00:00<00:00, 191.18it/s]"
     ]
    },
    {
     "name": "stdout",
     "output_type": "stream",
     "text": [
      "Step 9,500 (N samples: 608,000), Loss: 0.7322 (Recon: 0.6328, KL: 0.0994) Grad: 0.2417\n"
     ]
    },
    {
     "name": "stderr",
     "output_type": "stream",
     "text": [
      "100%|██████████| 125/125 [00:00<00:00, 173.66it/s]\n"
     ]
    },
    {
     "name": "stdout",
     "output_type": "stream",
     "text": [
      "Step 9,600 (N samples: 614,400), Loss: 0.7294 (Recon: 0.6335, KL: 0.0959) Grad: 0.2190\n"
     ]
    },
    {
     "name": "stderr",
     "output_type": "stream",
     "text": [
      "Testing: 100%|██████████| 16/16 [00:00<00:00, 399.99it/s]\n"
     ]
    },
    {
     "name": "stdout",
     "output_type": "stream",
     "text": [
      "====> Test set loss: 0.7525 (MSE: 0.6534, KLD: 0.0991)\n",
      "Epoch 78/150\n"
     ]
    },
    {
     "name": "stderr",
     "output_type": "stream",
     "text": [
      " 70%|███████   | 88/125 [00:00<00:00, 167.44it/s]"
     ]
    },
    {
     "name": "stdout",
     "output_type": "stream",
     "text": [
      "Step 9,700 (N samples: 620,800), Loss: 0.7399 (Recon: 0.6324, KL: 0.1075) Grad: 0.2430\n"
     ]
    },
    {
     "name": "stderr",
     "output_type": "stream",
     "text": [
      "100%|██████████| 125/125 [00:00<00:00, 163.32it/s]\n",
      "Testing: 100%|██████████| 16/16 [00:00<00:00, 495.85it/s]\n"
     ]
    },
    {
     "name": "stdout",
     "output_type": "stream",
     "text": [
      "====> Test set loss: 0.7553 (MSE: 0.6562, KLD: 0.0991)\n",
      "Epoch 79/150\n"
     ]
    },
    {
     "name": "stderr",
     "output_type": "stream",
     "text": [
      " 62%|██████▏   | 78/125 [00:00<00:00, 180.07it/s]"
     ]
    },
    {
     "name": "stdout",
     "output_type": "stream",
     "text": [
      "Step 9,800 (N samples: 627,200), Loss: 0.7322 (Recon: 0.6434, KL: 0.0887) Grad: 0.1805\n"
     ]
    },
    {
     "name": "stderr",
     "output_type": "stream",
     "text": [
      "100%|██████████| 125/125 [00:00<00:00, 144.03it/s]\n",
      "Testing: 100%|██████████| 16/16 [00:00<00:00, 445.04it/s]\n"
     ]
    },
    {
     "name": "stdout",
     "output_type": "stream",
     "text": [
      "====> Test set loss: 0.7489 (MSE: 0.6477, KLD: 0.1012)\n",
      "Epoch 80/150\n"
     ]
    },
    {
     "name": "stderr",
     "output_type": "stream",
     "text": [
      " 12%|█▏        | 15/125 [00:00<00:00, 148.58it/s]"
     ]
    },
    {
     "name": "stdout",
     "output_type": "stream",
     "text": [
      "Step 9,900 (N samples: 633,600), Loss: 0.6897 (Recon: 0.5949, KL: 0.0948) Grad: 0.2015\n"
     ]
    },
    {
     "name": "stderr",
     "output_type": "stream",
     "text": [
      "100%|██████████| 125/125 [00:00<00:00, 138.68it/s]\n",
      "Testing: 100%|██████████| 16/16 [00:00<00:00, 370.40it/s]\n"
     ]
    },
    {
     "name": "stdout",
     "output_type": "stream",
     "text": [
      "====> Test set loss: 0.7519 (MSE: 0.6499, KLD: 0.1019)\n",
      "Epoch 81/150\n"
     ]
    },
    {
     "name": "stderr",
     "output_type": "stream",
     "text": [
      " 14%|█▎        | 17/125 [00:00<00:00, 161.11it/s]"
     ]
    },
    {
     "name": "stdout",
     "output_type": "stream",
     "text": [
      "Step 10,000 (N samples: 640,000), Loss: 0.7459 (Recon: 0.6365, KL: 0.1094) Grad: 0.2671\n"
     ]
    },
    {
     "name": "stderr",
     "output_type": "stream",
     "text": [
      "100%|██████████| 125/125 [00:00<00:00, 161.74it/s]\n"
     ]
    },
    {
     "name": "stdout",
     "output_type": "stream",
     "text": [
      "Step 10,100 (N samples: 646,400), Loss: 0.7657 (Recon: 0.6632, KL: 0.1025) Grad: 0.2657\n"
     ]
    },
    {
     "name": "stderr",
     "output_type": "stream",
     "text": [
      "Testing: 100%|██████████| 16/16 [00:00<00:00, 370.83it/s]\n"
     ]
    },
    {
     "name": "stdout",
     "output_type": "stream",
     "text": [
      "====> Test set loss: 0.7541 (MSE: 0.6526, KLD: 0.1014)\n",
      "Epoch 82/150\n"
     ]
    },
    {
     "name": "stderr",
     "output_type": "stream",
     "text": [
      " 74%|███████▎  | 92/125 [00:00<00:00, 153.93it/s]"
     ]
    },
    {
     "name": "stdout",
     "output_type": "stream",
     "text": [
      "Step 10,200 (N samples: 652,800), Loss: 0.7086 (Recon: 0.5951, KL: 0.1136) Grad: 0.2269\n"
     ]
    },
    {
     "name": "stderr",
     "output_type": "stream",
     "text": [
      "100%|██████████| 125/125 [00:00<00:00, 147.44it/s]\n",
      "Testing: 100%|██████████| 16/16 [00:00<00:00, 351.58it/s]\n"
     ]
    },
    {
     "name": "stdout",
     "output_type": "stream",
     "text": [
      "====> Test set loss: 0.7538 (MSE: 0.6499, KLD: 0.1039)\n",
      "Epoch 83/150\n"
     ]
    },
    {
     "name": "stderr",
     "output_type": "stream",
     "text": [
      " 55%|█████▌    | 69/125 [00:00<00:00, 160.60it/s]"
     ]
    },
    {
     "name": "stdout",
     "output_type": "stream",
     "text": [
      "Step 10,300 (N samples: 659,200), Loss: 0.8035 (Recon: 0.6986, KL: 0.1049) Grad: 0.2804\n"
     ]
    },
    {
     "name": "stderr",
     "output_type": "stream",
     "text": [
      "100%|██████████| 125/125 [00:00<00:00, 165.81it/s]\n",
      "Testing: 100%|██████████| 16/16 [00:00<00:00, 450.12it/s]\n"
     ]
    },
    {
     "name": "stdout",
     "output_type": "stream",
     "text": [
      "====> Test set loss: 0.7472 (MSE: 0.6469, KLD: 0.1003)\n",
      "Epoch 84/150\n"
     ]
    },
    {
     "name": "stderr",
     "output_type": "stream",
     "text": [
      " 14%|█▍        | 18/125 [00:00<00:00, 179.90it/s]"
     ]
    },
    {
     "name": "stdout",
     "output_type": "stream",
     "text": [
      "Step 10,400 (N samples: 665,600), Loss: 0.7123 (Recon: 0.6131, KL: 0.0992) Grad: 0.2286\n"
     ]
    },
    {
     "name": "stderr",
     "output_type": "stream",
     "text": [
      "100%|██████████| 125/125 [00:00<00:00, 166.93it/s]\n",
      "Testing: 100%|██████████| 16/16 [00:00<00:00, 535.26it/s]\n"
     ]
    },
    {
     "name": "stdout",
     "output_type": "stream",
     "text": [
      "====> Test set loss: 0.7505 (MSE: 0.6484, KLD: 0.1021)\n",
      "Epoch 85/150\n"
     ]
    },
    {
     "name": "stderr",
     "output_type": "stream",
     "text": [
      " 12%|█▏        | 15/125 [00:00<00:00, 143.96it/s]"
     ]
    },
    {
     "name": "stdout",
     "output_type": "stream",
     "text": [
      "Step 10,500 (N samples: 672,000), Loss: 0.7553 (Recon: 0.6411, KL: 0.1141) Grad: 0.2782\n"
     ]
    },
    {
     "name": "stderr",
     "output_type": "stream",
     "text": [
      "100%|██████████| 125/125 [00:00<00:00, 160.18it/s]"
     ]
    },
    {
     "name": "stdout",
     "output_type": "stream",
     "text": [
      "Step 10,600 (N samples: 678,400), Loss: 0.7049 (Recon: 0.6112, KL: 0.0938) Grad: 0.2173\n"
     ]
    },
    {
     "name": "stderr",
     "output_type": "stream",
     "text": [
      "\n",
      "Testing: 100%|██████████| 16/16 [00:00<00:00, 347.11it/s]\n"
     ]
    },
    {
     "name": "stdout",
     "output_type": "stream",
     "text": [
      "====> Test set loss: 0.7496 (MSE: 0.6453, KLD: 0.1043)\n",
      "Epoch 86/150\n"
     ]
    },
    {
     "name": "stderr",
     "output_type": "stream",
     "text": [
      " 82%|████████▏ | 103/125 [00:00<00:00, 156.08it/s]"
     ]
    },
    {
     "name": "stdout",
     "output_type": "stream",
     "text": [
      "Step 10,700 (N samples: 684,800), Loss: 0.7078 (Recon: 0.6027, KL: 0.1052) Grad: 0.2457\n"
     ]
    },
    {
     "name": "stderr",
     "output_type": "stream",
     "text": [
      "100%|██████████| 125/125 [00:00<00:00, 161.72it/s]\n",
      "Testing: 100%|██████████| 16/16 [00:00<00:00, 430.81it/s]\n"
     ]
    },
    {
     "name": "stdout",
     "output_type": "stream",
     "text": [
      "====> Test set loss: 0.7457 (MSE: 0.6419, KLD: 0.1038)\n",
      "Epoch 87/150\n"
     ]
    },
    {
     "name": "stderr",
     "output_type": "stream",
     "text": [
      " 58%|█████▊    | 73/125 [00:00<00:00, 166.84it/s]"
     ]
    },
    {
     "name": "stdout",
     "output_type": "stream",
     "text": [
      "Step 10,800 (N samples: 691,200), Loss: 0.6950 (Recon: 0.5956, KL: 0.0994) Grad: 0.2371\n"
     ]
    },
    {
     "name": "stderr",
     "output_type": "stream",
     "text": [
      "100%|██████████| 125/125 [00:00<00:00, 166.63it/s]\n",
      "Testing: 100%|██████████| 16/16 [00:00<00:00, 344.71it/s]\n"
     ]
    },
    {
     "name": "stdout",
     "output_type": "stream",
     "text": [
      "====> Test set loss: 0.7480 (MSE: 0.6475, KLD: 0.1005)\n",
      "Epoch 88/150\n"
     ]
    },
    {
     "name": "stderr",
     "output_type": "stream",
     "text": [
      " 14%|█▍        | 18/125 [00:00<00:00, 161.86it/s]"
     ]
    },
    {
     "name": "stdout",
     "output_type": "stream",
     "text": [
      "Step 10,900 (N samples: 697,600), Loss: 0.7415 (Recon: 0.6436, KL: 0.0979) Grad: 0.2479\n"
     ]
    },
    {
     "name": "stderr",
     "output_type": "stream",
     "text": [
      "100%|██████████| 125/125 [00:00<00:00, 169.66it/s]\n",
      "Testing: 100%|██████████| 16/16 [00:00<00:00, 397.63it/s]\n"
     ]
    },
    {
     "name": "stdout",
     "output_type": "stream",
     "text": [
      "====> Test set loss: 0.7453 (MSE: 0.6458, KLD: 0.0995)\n",
      "Epoch 89/150\n"
     ]
    },
    {
     "name": "stderr",
     "output_type": "stream",
     "text": [
      " 29%|██▉       | 36/125 [00:00<00:00, 173.28it/s]"
     ]
    },
    {
     "name": "stdout",
     "output_type": "stream",
     "text": [
      "Step 11,000 (N samples: 704,000), Loss: 0.7064 (Recon: 0.6122, KL: 0.0941) Grad: 0.2300\n"
     ]
    },
    {
     "name": "stderr",
     "output_type": "stream",
     "text": [
      "100%|██████████| 125/125 [00:00<00:00, 149.95it/s]\n"
     ]
    },
    {
     "name": "stdout",
     "output_type": "stream",
     "text": [
      "Step 11,100 (N samples: 710,400), Loss: 0.7339 (Recon: 0.6322, KL: 0.1018) Grad: 0.1873\n"
     ]
    },
    {
     "name": "stderr",
     "output_type": "stream",
     "text": [
      "Testing: 100%|██████████| 16/16 [00:00<00:00, 439.50it/s]\n"
     ]
    },
    {
     "name": "stdout",
     "output_type": "stream",
     "text": [
      "====> Test set loss: 0.7447 (MSE: 0.6411, KLD: 0.1037)\n",
      "Epoch 90/150\n"
     ]
    },
    {
     "name": "stderr",
     "output_type": "stream",
     "text": [
      " 85%|████████▍ | 106/125 [00:00<00:00, 170.29it/s]"
     ]
    },
    {
     "name": "stdout",
     "output_type": "stream",
     "text": [
      "Step 11,200 (N samples: 716,800), Loss: 0.7391 (Recon: 0.6345, KL: 0.1046) Grad: 0.2458\n"
     ]
    },
    {
     "name": "stderr",
     "output_type": "stream",
     "text": [
      "100%|██████████| 125/125 [00:00<00:00, 165.84it/s]\n",
      "Testing: 100%|██████████| 16/16 [00:00<00:00, 398.01it/s]\n"
     ]
    },
    {
     "name": "stdout",
     "output_type": "stream",
     "text": [
      "====> Test set loss: 0.7511 (MSE: 0.6474, KLD: 0.1037)\n",
      "Epoch 91/150\n"
     ]
    },
    {
     "name": "stderr",
     "output_type": "stream",
     "text": [
      " 59%|█████▉    | 74/125 [00:00<00:00, 174.30it/s]"
     ]
    },
    {
     "name": "stdout",
     "output_type": "stream",
     "text": [
      "Step 11,300 (N samples: 723,200), Loss: 0.7782 (Recon: 0.6610, KL: 0.1171) Grad: 0.3256\n"
     ]
    },
    {
     "name": "stderr",
     "output_type": "stream",
     "text": [
      "100%|██████████| 125/125 [00:00<00:00, 169.76it/s]\n",
      "Testing: 100%|██████████| 16/16 [00:00<00:00, 438.65it/s]\n"
     ]
    },
    {
     "name": "stdout",
     "output_type": "stream",
     "text": [
      "====> Test set loss: 0.7452 (MSE: 0.6422, KLD: 0.1030)\n",
      "Epoch 92/150\n"
     ]
    },
    {
     "name": "stderr",
     "output_type": "stream",
     "text": [
      " 12%|█▏        | 15/125 [00:00<00:00, 149.90it/s]"
     ]
    },
    {
     "name": "stdout",
     "output_type": "stream",
     "text": [
      "Step 11,400 (N samples: 729,600), Loss: 0.7021 (Recon: 0.6030, KL: 0.0991) Grad: 0.2385"
     ]
    },
    {
     "name": "stderr",
     "output_type": "stream",
     "text": [
      " 36%|███▌      | 45/125 [00:00<00:00, 139.47it/s]"
     ]
    },
    {
     "name": "stdout",
     "output_type": "stream",
     "text": [
      "\n"
     ]
    },
    {
     "name": "stderr",
     "output_type": "stream",
     "text": [
      "100%|██████████| 125/125 [00:00<00:00, 153.06it/s]\n",
      "Testing: 100%|██████████| 16/16 [00:00<00:00, 537.38it/s]\n"
     ]
    },
    {
     "name": "stdout",
     "output_type": "stream",
     "text": [
      "====> Test set loss: 0.7463 (MSE: 0.6422, KLD: 0.1041)\n",
      "Epoch 93/150\n"
     ]
    },
    {
     "name": "stderr",
     "output_type": "stream",
     "text": [
      " 13%|█▎        | 16/125 [00:00<00:00, 154.63it/s]"
     ]
    },
    {
     "name": "stdout",
     "output_type": "stream",
     "text": [
      "Step 11,500 (N samples: 736,000), Loss: 0.7471 (Recon: 0.6375, KL: 0.1096) Grad: 0.2645\n"
     ]
    },
    {
     "name": "stderr",
     "output_type": "stream",
     "text": [
      "100%|██████████| 125/125 [00:00<00:00, 177.71it/s]\n"
     ]
    },
    {
     "name": "stdout",
     "output_type": "stream",
     "text": [
      "Step 11,600 (N samples: 742,400), Loss: 0.7129 (Recon: 0.6242, KL: 0.0887) Grad: 0.2067\n"
     ]
    },
    {
     "name": "stderr",
     "output_type": "stream",
     "text": [
      "Testing: 100%|██████████| 16/16 [00:00<00:00, 438.07it/s]\n"
     ]
    },
    {
     "name": "stdout",
     "output_type": "stream",
     "text": [
      "====> Test set loss: 0.7455 (MSE: 0.6443, KLD: 0.1012)\n",
      "Epoch 94/150\n"
     ]
    },
    {
     "name": "stderr",
     "output_type": "stream",
     "text": [
      " 81%|████████  | 101/125 [00:00<00:00, 138.87it/s]"
     ]
    },
    {
     "name": "stdout",
     "output_type": "stream",
     "text": [
      "Step 11,700 (N samples: 748,800), Loss: 0.7625 (Recon: 0.6633, KL: 0.0992) Grad: 0.2322\n"
     ]
    },
    {
     "name": "stderr",
     "output_type": "stream",
     "text": [
      "100%|██████████| 125/125 [00:00<00:00, 149.77it/s]\n",
      "Testing: 100%|██████████| 16/16 [00:00<00:00, 494.86it/s]\n"
     ]
    },
    {
     "name": "stdout",
     "output_type": "stream",
     "text": [
      "====> Test set loss: 0.7448 (MSE: 0.6416, KLD: 0.1032)\n",
      "Epoch 95/150\n"
     ]
    },
    {
     "name": "stderr",
     "output_type": "stream",
     "text": [
      " 62%|██████▏   | 78/125 [00:00<00:00, 186.24it/s]"
     ]
    },
    {
     "name": "stdout",
     "output_type": "stream",
     "text": [
      "Step 11,800 (N samples: 755,200), Loss: 0.7040 (Recon: 0.6218, KL: 0.0821) Grad: 0.2026\n"
     ]
    },
    {
     "name": "stderr",
     "output_type": "stream",
     "text": [
      "100%|██████████| 125/125 [00:00<00:00, 179.76it/s]\n",
      "Testing: 100%|██████████| 16/16 [00:00<00:00, 414.44it/s]\n"
     ]
    },
    {
     "name": "stdout",
     "output_type": "stream",
     "text": [
      "====> Test set loss: 0.7460 (MSE: 0.6412, KLD: 0.1048)\n",
      "Epoch 96/150\n"
     ]
    },
    {
     "name": "stderr",
     "output_type": "stream",
     "text": [
      " 44%|████▍     | 55/125 [00:00<00:00, 133.85it/s]"
     ]
    },
    {
     "name": "stdout",
     "output_type": "stream",
     "text": [
      "Step 11,900 (N samples: 761,600), Loss: 0.7268 (Recon: 0.6389, KL: 0.0879) Grad: 0.2116\n"
     ]
    },
    {
     "name": "stderr",
     "output_type": "stream",
     "text": [
      "100%|██████████| 125/125 [00:00<00:00, 150.97it/s]\n",
      "Testing: 100%|██████████| 16/16 [00:00<00:00, 388.88it/s]\n"
     ]
    },
    {
     "name": "stdout",
     "output_type": "stream",
     "text": [
      "====> Test set loss: 0.7419 (MSE: 0.6422, KLD: 0.0997)\n",
      "Epoch 97/150\n"
     ]
    },
    {
     "name": "stderr",
     "output_type": "stream",
     "text": [
      " 14%|█▎        | 17/125 [00:00<00:00, 169.88it/s]"
     ]
    },
    {
     "name": "stdout",
     "output_type": "stream",
     "text": [
      "Step 12,000 (N samples: 768,000), Loss: 0.7488 (Recon: 0.6543, KL: 0.0945) Grad: 0.2051\n"
     ]
    },
    {
     "name": "stderr",
     "output_type": "stream",
     "text": [
      "100%|██████████| 125/125 [00:00<00:00, 163.65it/s]\n"
     ]
    },
    {
     "name": "stdout",
     "output_type": "stream",
     "text": [
      "Step 12,100 (N samples: 774,400), Loss: 0.7523 (Recon: 0.6551, KL: 0.0972) Grad: 0.2225\n"
     ]
    },
    {
     "name": "stderr",
     "output_type": "stream",
     "text": [
      "Testing: 100%|██████████| 16/16 [00:00<00:00, 329.22it/s]\n"
     ]
    },
    {
     "name": "stdout",
     "output_type": "stream",
     "text": [
      "====> Test set loss: 0.7467 (MSE: 0.6416, KLD: 0.1051)\n",
      "Epoch 98/150\n"
     ]
    },
    {
     "name": "stderr",
     "output_type": "stream",
     "text": [
      " 84%|████████▍ | 105/125 [00:00<00:00, 173.41it/s]"
     ]
    },
    {
     "name": "stdout",
     "output_type": "stream",
     "text": [
      "Step 12,200 (N samples: 780,800), Loss: 0.7035 (Recon: 0.6143, KL: 0.0892) Grad: 0.2220\n"
     ]
    },
    {
     "name": "stderr",
     "output_type": "stream",
     "text": [
      "100%|██████████| 125/125 [00:00<00:00, 165.20it/s]\n",
      "Testing: 100%|██████████| 16/16 [00:00<00:00, 403.00it/s]\n"
     ]
    },
    {
     "name": "stdout",
     "output_type": "stream",
     "text": [
      "====> Test set loss: 0.7467 (MSE: 0.6458, KLD: 0.1009)\n",
      "Epoch 99/150\n"
     ]
    },
    {
     "name": "stderr",
     "output_type": "stream",
     "text": [
      " 58%|█████▊    | 72/125 [00:00<00:00, 170.52it/s]"
     ]
    },
    {
     "name": "stdout",
     "output_type": "stream",
     "text": [
      "Step 12,300 (N samples: 787,200), Loss: 0.7170 (Recon: 0.6153, KL: 0.1017) Grad: 0.2393\n"
     ]
    },
    {
     "name": "stderr",
     "output_type": "stream",
     "text": [
      "100%|██████████| 125/125 [00:00<00:00, 172.78it/s]\n",
      "Testing: 100%|██████████| 16/16 [00:00<00:00, 432.14it/s]\n"
     ]
    },
    {
     "name": "stdout",
     "output_type": "stream",
     "text": [
      "====> Test set loss: 0.7460 (MSE: 0.6440, KLD: 0.1021)\n",
      "Epoch 100/150\n"
     ]
    },
    {
     "name": "stderr",
     "output_type": "stream",
     "text": [
      " 17%|█▋        | 21/125 [00:00<00:00, 189.62it/s]"
     ]
    },
    {
     "name": "stdout",
     "output_type": "stream",
     "text": [
      "Step 12,400 (N samples: 793,600), Loss: 0.7033 (Recon: 0.6149, KL: 0.0884) Grad: 0.2083\n"
     ]
    },
    {
     "name": "stderr",
     "output_type": "stream",
     "text": [
      "100%|██████████| 125/125 [00:00<00:00, 174.15it/s]\n",
      "Testing: 100%|██████████| 16/16 [00:00<00:00, 534.58it/s]\n"
     ]
    },
    {
     "name": "stdout",
     "output_type": "stream",
     "text": [
      "====> Test set loss: 0.7467 (MSE: 0.6436, KLD: 0.1031)\n",
      "Epoch 101/150\n"
     ]
    },
    {
     "name": "stderr",
     "output_type": "stream",
     "text": [
      " 14%|█▍        | 18/125 [00:00<00:00, 178.68it/s]"
     ]
    },
    {
     "name": "stdout",
     "output_type": "stream",
     "text": [
      "Step 12,500 (N samples: 800,000), Loss: 0.7591 (Recon: 0.6387, KL: 0.1204) Grad: 0.2625\n"
     ]
    },
    {
     "name": "stderr",
     "output_type": "stream",
     "text": [
      "100%|██████████| 125/125 [00:00<00:00, 172.98it/s]\n"
     ]
    },
    {
     "name": "stdout",
     "output_type": "stream",
     "text": [
      "Step 12,600 (N samples: 806,400), Loss: 0.6976 (Recon: 0.6005, KL: 0.0971) Grad: 0.2128\n"
     ]
    },
    {
     "name": "stderr",
     "output_type": "stream",
     "text": [
      "Testing: 100%|██████████| 16/16 [00:00<00:00, 366.02it/s]"
     ]
    },
    {
     "name": "stdout",
     "output_type": "stream",
     "text": [
      "====> Test set loss: 0.7435 (MSE: 0.6376, KLD: 0.1059)\n"
     ]
    },
    {
     "name": "stderr",
     "output_type": "stream",
     "text": [
      "\n"
     ]
    },
    {
     "name": "stdout",
     "output_type": "stream",
     "text": [
      "Epoch 102/150\n"
     ]
    },
    {
     "name": "stderr",
     "output_type": "stream",
     "text": [
      " 85%|████████▍ | 106/125 [00:00<00:00, 165.57it/s]"
     ]
    },
    {
     "name": "stdout",
     "output_type": "stream",
     "text": [
      "Step 12,700 (N samples: 812,800), Loss: 0.6439 (Recon: 0.5552, KL: 0.0886) Grad: 0.2080\n"
     ]
    },
    {
     "name": "stderr",
     "output_type": "stream",
     "text": [
      "100%|██████████| 125/125 [00:00<00:00, 167.82it/s]\n",
      "Testing: 100%|██████████| 16/16 [00:00<00:00, 475.12it/s]\n"
     ]
    },
    {
     "name": "stdout",
     "output_type": "stream",
     "text": [
      "====> Test set loss: 0.7393 (MSE: 0.6339, KLD: 0.1053)\n",
      "Epoch 103/150\n"
     ]
    },
    {
     "name": "stderr",
     "output_type": "stream",
     "text": [
      " 70%|███████   | 88/125 [00:00<00:00, 176.29it/s]"
     ]
    },
    {
     "name": "stdout",
     "output_type": "stream",
     "text": [
      "Step 12,800 (N samples: 819,200), Loss: 0.7277 (Recon: 0.6204, KL: 0.1073) Grad: 0.2530\n"
     ]
    },
    {
     "name": "stderr",
     "output_type": "stream",
     "text": [
      "100%|██████████| 125/125 [00:00<00:00, 177.13it/s]\n",
      "Testing: 100%|██████████| 16/16 [00:00<00:00, 204.14it/s]\n"
     ]
    },
    {
     "name": "stdout",
     "output_type": "stream",
     "text": [
      "====> Test set loss: 0.7420 (MSE: 0.6388, KLD: 0.1032)\n",
      "Epoch 104/150\n"
     ]
    },
    {
     "name": "stderr",
     "output_type": "stream",
     "text": [
      " 50%|████▉     | 62/125 [00:00<00:00, 163.33it/s]"
     ]
    },
    {
     "name": "stdout",
     "output_type": "stream",
     "text": [
      "Step 12,900 (N samples: 825,600), Loss: 0.7284 (Recon: 0.6315, KL: 0.0969) Grad: 0.2194\n"
     ]
    },
    {
     "name": "stderr",
     "output_type": "stream",
     "text": [
      "100%|██████████| 125/125 [00:00<00:00, 148.94it/s]\n",
      "Testing: 100%|██████████| 16/16 [00:00<00:00, 336.94it/s]\n"
     ]
    },
    {
     "name": "stdout",
     "output_type": "stream",
     "text": [
      "====> Test set loss: 0.7392 (MSE: 0.6367, KLD: 0.1025)\n",
      "Epoch 105/150\n"
     ]
    },
    {
     "name": "stderr",
     "output_type": "stream",
     "text": [
      " 14%|█▍        | 18/125 [00:00<00:00, 179.90it/s]"
     ]
    },
    {
     "name": "stdout",
     "output_type": "stream",
     "text": [
      "Step 13,000 (N samples: 832,000), Loss: 0.7345 (Recon: 0.6324, KL: 0.1020) Grad: 0.2605\n"
     ]
    },
    {
     "name": "stderr",
     "output_type": "stream",
     "text": [
      "100%|██████████| 125/125 [00:00<00:00, 173.44it/s]\n"
     ]
    },
    {
     "name": "stdout",
     "output_type": "stream",
     "text": [
      "Step 13,100 (N samples: 838,400), Loss: 0.7267 (Recon: 0.6222, KL: 0.1044) Grad: 0.2653\n"
     ]
    },
    {
     "name": "stderr",
     "output_type": "stream",
     "text": [
      "Testing: 100%|██████████| 16/16 [00:00<00:00, 390.86it/s]\n"
     ]
    },
    {
     "name": "stdout",
     "output_type": "stream",
     "text": [
      "====> Test set loss: 0.7446 (MSE: 0.6402, KLD: 0.1045)\n",
      "Epoch 106/150\n"
     ]
    },
    {
     "name": "stderr",
     "output_type": "stream",
     "text": [
      " 86%|████████▋ | 108/125 [00:00<00:00, 168.24it/s]"
     ]
    },
    {
     "name": "stdout",
     "output_type": "stream",
     "text": [
      "Step 13,200 (N samples: 844,800), Loss: 0.6711 (Recon: 0.5796, KL: 0.0915) Grad: 0.2004\n"
     ]
    },
    {
     "name": "stderr",
     "output_type": "stream",
     "text": [
      "100%|██████████| 125/125 [00:00<00:00, 168.41it/s]\n",
      "Testing: 100%|██████████| 16/16 [00:00<00:00, 458.11it/s]\n"
     ]
    },
    {
     "name": "stdout",
     "output_type": "stream",
     "text": [
      "====> Test set loss: 0.7451 (MSE: 0.6434, KLD: 0.1017)\n",
      "Epoch 107/150\n"
     ]
    },
    {
     "name": "stderr",
     "output_type": "stream",
     "text": [
      " 57%|█████▋    | 71/125 [00:00<00:00, 143.50it/s]"
     ]
    },
    {
     "name": "stdout",
     "output_type": "stream",
     "text": [
      "Step 13,300 (N samples: 851,200), Loss: 0.7268 (Recon: 0.6278, KL: 0.0990) Grad: 0.2389\n"
     ]
    },
    {
     "name": "stderr",
     "output_type": "stream",
     "text": [
      "100%|██████████| 125/125 [00:00<00:00, 154.67it/s]\n",
      "Testing: 100%|██████████| 16/16 [00:00<00:00, 397.93it/s]\n"
     ]
    },
    {
     "name": "stdout",
     "output_type": "stream",
     "text": [
      "====> Test set loss: 0.7431 (MSE: 0.6385, KLD: 0.1046)\n",
      "Epoch 108/150\n"
     ]
    },
    {
     "name": "stderr",
     "output_type": "stream",
     "text": [
      " 16%|█▌        | 20/125 [00:00<00:00, 181.91it/s]"
     ]
    },
    {
     "name": "stdout",
     "output_type": "stream",
     "text": [
      "Step 13,400 (N samples: 857,600), Loss: 0.7341 (Recon: 0.6305, KL: 0.1037) Grad: 0.2105\n"
     ]
    },
    {
     "name": "stderr",
     "output_type": "stream",
     "text": [
      "100%|██████████| 125/125 [00:00<00:00, 163.91it/s]\n",
      "Testing: 100%|██████████| 16/16 [00:00<00:00, 397.33it/s]\n"
     ]
    },
    {
     "name": "stdout",
     "output_type": "stream",
     "text": [
      "====> Test set loss: 0.7398 (MSE: 0.6367, KLD: 0.1031)\n",
      "Epoch 109/150\n"
     ]
    },
    {
     "name": "stderr",
     "output_type": "stream",
     "text": [
      " 14%|█▍        | 18/125 [00:00<00:00, 171.93it/s]"
     ]
    },
    {
     "name": "stdout",
     "output_type": "stream",
     "text": [
      "Step 13,500 (N samples: 864,000), Loss: 0.7300 (Recon: 0.6294, KL: 0.1006) Grad: 0.2551\n"
     ]
    },
    {
     "name": "stderr",
     "output_type": "stream",
     "text": [
      "100%|██████████| 125/125 [00:00<00:00, 179.22it/s]\n"
     ]
    },
    {
     "name": "stdout",
     "output_type": "stream",
     "text": [
      "Step 13,600 (N samples: 870,400), Loss: 0.7149 (Recon: 0.6098, KL: 0.1051) Grad: 0.2003\n"
     ]
    },
    {
     "name": "stderr",
     "output_type": "stream",
     "text": [
      "Testing: 100%|██████████| 16/16 [00:00<00:00, 396.48it/s]\n"
     ]
    },
    {
     "name": "stdout",
     "output_type": "stream",
     "text": [
      "====> Test set loss: 0.7357 (MSE: 0.6320, KLD: 0.1037)\n",
      "Epoch 110/150\n"
     ]
    },
    {
     "name": "stderr",
     "output_type": "stream",
     "text": [
      " 78%|███████▊  | 98/125 [00:00<00:00, 179.66it/s]"
     ]
    },
    {
     "name": "stdout",
     "output_type": "stream",
     "text": [
      "Step 13,700 (N samples: 876,800), Loss: 0.7269 (Recon: 0.6269, KL: 0.1000) Grad: 0.2263\n"
     ]
    },
    {
     "name": "stderr",
     "output_type": "stream",
     "text": [
      "100%|██████████| 125/125 [00:00<00:00, 177.68it/s]\n",
      "Testing: 100%|██████████| 16/16 [00:00<00:00, 348.10it/s]\n"
     ]
    },
    {
     "name": "stdout",
     "output_type": "stream",
     "text": [
      "====> Test set loss: 0.7405 (MSE: 0.6369, KLD: 0.1036)\n",
      "Epoch 111/150\n"
     ]
    },
    {
     "name": "stderr",
     "output_type": "stream",
     "text": [
      " 49%|████▉     | 61/125 [00:00<00:00, 122.47it/s]"
     ]
    },
    {
     "name": "stdout",
     "output_type": "stream",
     "text": [
      "Step 13,800 (N samples: 883,200), Loss: 0.7525 (Recon: 0.6409, KL: 0.1116) Grad: 0.2205\n"
     ]
    },
    {
     "name": "stderr",
     "output_type": "stream",
     "text": [
      "100%|██████████| 125/125 [00:00<00:00, 144.99it/s]\n",
      "Testing: 100%|██████████| 16/16 [00:00<00:00, 444.23it/s]\n"
     ]
    },
    {
     "name": "stdout",
     "output_type": "stream",
     "text": [
      "====> Test set loss: 0.7384 (MSE: 0.6372, KLD: 0.1012)\n",
      "Epoch 112/150\n"
     ]
    },
    {
     "name": "stderr",
     "output_type": "stream",
     "text": [
      " 15%|█▌        | 19/125 [00:00<00:00, 168.50it/s]"
     ]
    },
    {
     "name": "stdout",
     "output_type": "stream",
     "text": [
      "Step 13,900 (N samples: 889,600), Loss: 0.7747 (Recon: 0.6736, KL: 0.1011) Grad: 0.2542\n"
     ]
    },
    {
     "name": "stderr",
     "output_type": "stream",
     "text": [
      "100%|██████████| 125/125 [00:00<00:00, 171.88it/s]\n",
      "Testing: 100%|██████████| 16/16 [00:00<00:00, 388.95it/s]\n"
     ]
    },
    {
     "name": "stdout",
     "output_type": "stream",
     "text": [
      "====> Test set loss: 0.7378 (MSE: 0.6335, KLD: 0.1043)\n",
      "Epoch 113/150\n"
     ]
    },
    {
     "name": "stderr",
     "output_type": "stream",
     "text": [
      " 13%|█▎        | 16/125 [00:00<00:00, 152.55it/s]"
     ]
    },
    {
     "name": "stdout",
     "output_type": "stream",
     "text": [
      "Step 14,000 (N samples: 896,000), Loss: 0.7485 (Recon: 0.6391, KL: 0.1094) Grad: 0.2875\n"
     ]
    },
    {
     "name": "stderr",
     "output_type": "stream",
     "text": [
      "100%|██████████| 125/125 [00:00<00:00, 163.39it/s]\n"
     ]
    },
    {
     "name": "stdout",
     "output_type": "stream",
     "text": [
      "Step 14,100 (N samples: 902,400), Loss: 0.6756 (Recon: 0.5725, KL: 0.1031) Grad: 0.2417\n"
     ]
    },
    {
     "name": "stderr",
     "output_type": "stream",
     "text": [
      "Testing: 100%|██████████| 16/16 [00:00<00:00, 442.27it/s]\n"
     ]
    },
    {
     "name": "stdout",
     "output_type": "stream",
     "text": [
      "====> Test set loss: 0.7383 (MSE: 0.6327, KLD: 0.1055)\n",
      "Epoch 114/150\n"
     ]
    },
    {
     "name": "stderr",
     "output_type": "stream",
     "text": [
      " 88%|████████▊ | 110/125 [00:00<00:00, 172.17it/s]"
     ]
    },
    {
     "name": "stdout",
     "output_type": "stream",
     "text": [
      "Step 14,200 (N samples: 908,800), Loss: 0.7323 (Recon: 0.6234, KL: 0.1089) Grad: 0.2231\n"
     ]
    },
    {
     "name": "stderr",
     "output_type": "stream",
     "text": [
      "100%|██████████| 125/125 [00:00<00:00, 169.19it/s]\n",
      "Testing: 100%|██████████| 16/16 [00:00<00:00, 416.88it/s]\n"
     ]
    },
    {
     "name": "stdout",
     "output_type": "stream",
     "text": [
      "====> Test set loss: 0.7343 (MSE: 0.6299, KLD: 0.1044)\n",
      "Epoch 115/150\n"
     ]
    },
    {
     "name": "stderr",
     "output_type": "stream",
     "text": [
      " 57%|█████▋    | 71/125 [00:00<00:00, 169.80it/s]"
     ]
    },
    {
     "name": "stdout",
     "output_type": "stream",
     "text": [
      "Step 14,300 (N samples: 915,200), Loss: 0.6941 (Recon: 0.5955, KL: 0.0986) Grad: 0.2043\n"
     ]
    },
    {
     "name": "stderr",
     "output_type": "stream",
     "text": [
      "100%|██████████| 125/125 [00:00<00:00, 176.04it/s]\n",
      "Testing: 100%|██████████| 16/16 [00:00<00:00, 403.20it/s]\n"
     ]
    },
    {
     "name": "stdout",
     "output_type": "stream",
     "text": [
      "====> Test set loss: 0.7360 (MSE: 0.6311, KLD: 0.1049)\n",
      "Epoch 116/150\n"
     ]
    },
    {
     "name": "stderr",
     "output_type": "stream",
     "text": [
      " 14%|█▎        | 17/125 [00:00<00:00, 166.15it/s]"
     ]
    },
    {
     "name": "stdout",
     "output_type": "stream",
     "text": [
      "Step 14,400 (N samples: 921,600), Loss: 0.6969 (Recon: 0.6066, KL: 0.0904) Grad: 0.2106\n"
     ]
    },
    {
     "name": "stderr",
     "output_type": "stream",
     "text": [
      "100%|██████████| 125/125 [00:00<00:00, 167.13it/s]\n",
      "Testing: 100%|██████████| 16/16 [00:00<00:00, 600.20it/s]\n"
     ]
    },
    {
     "name": "stdout",
     "output_type": "stream",
     "text": [
      "====> Test set loss: 0.7384 (MSE: 0.6367, KLD: 0.1018)\n",
      "Epoch 117/150\n"
     ]
    },
    {
     "name": "stderr",
     "output_type": "stream",
     "text": [
      " 13%|█▎        | 16/125 [00:00<00:00, 159.74it/s]"
     ]
    },
    {
     "name": "stdout",
     "output_type": "stream",
     "text": [
      "Step 14,500 (N samples: 928,000), Loss: 0.7159 (Recon: 0.6159, KL: 0.1000) Grad: 0.2335\n"
     ]
    },
    {
     "name": "stderr",
     "output_type": "stream",
     "text": [
      "100%|██████████| 125/125 [00:00<00:00, 163.55it/s]\n"
     ]
    },
    {
     "name": "stdout",
     "output_type": "stream",
     "text": [
      "Step 14,600 (N samples: 934,400), Loss: 0.7213 (Recon: 0.6105, KL: 0.1108) Grad: 0.2675\n"
     ]
    },
    {
     "name": "stderr",
     "output_type": "stream",
     "text": [
      "Testing: 100%|██████████| 16/16 [00:00<00:00, 320.74it/s]\n"
     ]
    },
    {
     "name": "stdout",
     "output_type": "stream",
     "text": [
      "====> Test set loss: 0.7357 (MSE: 0.6290, KLD: 0.1067)\n",
      "Epoch 118/150\n"
     ]
    },
    {
     "name": "stderr",
     "output_type": "stream",
     "text": [
      " 74%|███████▍  | 93/125 [00:00<00:00, 160.98it/s]"
     ]
    },
    {
     "name": "stdout",
     "output_type": "stream",
     "text": [
      "Step 14,700 (N samples: 940,800), Loss: 0.6995 (Recon: 0.5948, KL: 0.1047) Grad: 0.2281\n"
     ]
    },
    {
     "name": "stderr",
     "output_type": "stream",
     "text": [
      "100%|██████████| 125/125 [00:00<00:00, 150.96it/s]\n",
      "Testing: 100%|██████████| 16/16 [00:00<00:00, 532.12it/s]\n"
     ]
    },
    {
     "name": "stdout",
     "output_type": "stream",
     "text": [
      "====> Test set loss: 0.7366 (MSE: 0.6329, KLD: 0.1037)\n",
      "Epoch 119/150\n"
     ]
    },
    {
     "name": "stderr",
     "output_type": "stream",
     "text": [
      " 60%|██████    | 75/125 [00:00<00:00, 172.03it/s]"
     ]
    },
    {
     "name": "stdout",
     "output_type": "stream",
     "text": [
      "Step 14,800 (N samples: 947,200), Loss: 0.7155 (Recon: 0.6187, KL: 0.0968) Grad: 0.2322\n"
     ]
    },
    {
     "name": "stderr",
     "output_type": "stream",
     "text": [
      "100%|██████████| 125/125 [00:00<00:00, 171.23it/s]\n",
      "Testing: 100%|██████████| 16/16 [00:00<00:00, 401.80it/s]\n"
     ]
    },
    {
     "name": "stdout",
     "output_type": "stream",
     "text": [
      "====> Test set loss: 0.7344 (MSE: 0.6290, KLD: 0.1054)\n",
      "Epoch 120/150\n"
     ]
    },
    {
     "name": "stderr",
     "output_type": "stream",
     "text": [
      " 10%|▉         | 12/125 [00:00<00:00, 113.66it/s]"
     ]
    },
    {
     "name": "stdout",
     "output_type": "stream",
     "text": [
      "Step 14,900 (N samples: 953,600), Loss: 0.7270 (Recon: 0.6366, KL: 0.0904) Grad: 0.2399\n"
     ]
    },
    {
     "name": "stderr",
     "output_type": "stream",
     "text": [
      "100%|██████████| 125/125 [00:00<00:00, 158.28it/s]\n",
      "Testing: 100%|██████████| 16/16 [00:00<00:00, 327.00it/s]\n"
     ]
    },
    {
     "name": "stdout",
     "output_type": "stream",
     "text": [
      "====> Test set loss: 0.7320 (MSE: 0.6285, KLD: 0.1035)\n",
      "Epoch 121/150\n"
     ]
    },
    {
     "name": "stderr",
     "output_type": "stream",
     "text": [
      " 10%|█         | 13/125 [00:00<00:00, 122.50it/s]"
     ]
    },
    {
     "name": "stdout",
     "output_type": "stream",
     "text": [
      "Step 15,000 (N samples: 960,000), Loss: 0.6984 (Recon: 0.5906, KL: 0.1078) Grad: 0.2617\n"
     ]
    },
    {
     "name": "stderr",
     "output_type": "stream",
     "text": [
      "100%|██████████| 125/125 [00:00<00:00, 152.03it/s]\n"
     ]
    },
    {
     "name": "stdout",
     "output_type": "stream",
     "text": [
      "Step 15,100 (N samples: 966,400), Loss: 0.7280 (Recon: 0.6264, KL: 0.1016) Grad: 0.2679\n"
     ]
    },
    {
     "name": "stderr",
     "output_type": "stream",
     "text": [
      "Testing: 100%|██████████| 16/16 [00:00<00:00, 500.19it/s]\n"
     ]
    },
    {
     "name": "stdout",
     "output_type": "stream",
     "text": [
      "====> Test set loss: 0.7322 (MSE: 0.6275, KLD: 0.1047)\n",
      "Epoch 122/150\n"
     ]
    },
    {
     "name": "stderr",
     "output_type": "stream",
     "text": [
      " 80%|████████  | 100/125 [00:00<00:00, 165.07it/s]"
     ]
    },
    {
     "name": "stdout",
     "output_type": "stream",
     "text": [
      "Step 15,200 (N samples: 972,800), Loss: 0.7226 (Recon: 0.6087, KL: 0.1138) Grad: 0.2631\n"
     ]
    },
    {
     "name": "stderr",
     "output_type": "stream",
     "text": [
      "100%|██████████| 125/125 [00:00<00:00, 163.85it/s]\n",
      "Testing: 100%|██████████| 16/16 [00:00<00:00, 401.40it/s]\n"
     ]
    },
    {
     "name": "stdout",
     "output_type": "stream",
     "text": [
      "====> Test set loss: 0.7344 (MSE: 0.6299, KLD: 0.1045)\n",
      "Epoch 123/150\n"
     ]
    },
    {
     "name": "stderr",
     "output_type": "stream",
     "text": [
      " 56%|█████▌    | 70/125 [00:00<00:00, 167.93it/s]"
     ]
    },
    {
     "name": "stdout",
     "output_type": "stream",
     "text": [
      "Step 15,300 (N samples: 979,200), Loss: 0.6933 (Recon: 0.5907, KL: 0.1026) Grad: 0.2499\n"
     ]
    },
    {
     "name": "stderr",
     "output_type": "stream",
     "text": [
      "100%|██████████| 125/125 [00:00<00:00, 156.89it/s]\n",
      "Testing: 100%|██████████| 16/16 [00:00<00:00, 380.63it/s]\n"
     ]
    },
    {
     "name": "stdout",
     "output_type": "stream",
     "text": [
      "====> Test set loss: 0.7357 (MSE: 0.6305, KLD: 0.1053)\n",
      "Epoch 124/150\n"
     ]
    },
    {
     "name": "stderr",
     "output_type": "stream",
     "text": [
      " 14%|█▎        | 17/125 [00:00<00:00, 166.72it/s]"
     ]
    },
    {
     "name": "stdout",
     "output_type": "stream",
     "text": [
      "Step 15,400 (N samples: 985,600), Loss: 0.7388 (Recon: 0.6362, KL: 0.1026) Grad: 0.2554\n"
     ]
    },
    {
     "name": "stderr",
     "output_type": "stream",
     "text": [
      "100%|██████████| 125/125 [00:00<00:00, 151.11it/s]\n",
      "Testing: 100%|██████████| 16/16 [00:00<00:00, 459.26it/s]\n"
     ]
    },
    {
     "name": "stdout",
     "output_type": "stream",
     "text": [
      "====> Test set loss: 0.7355 (MSE: 0.6315, KLD: 0.1040)\n",
      "Epoch 125/150\n"
     ]
    },
    {
     "name": "stderr",
     "output_type": "stream",
     "text": [
      " 15%|█▌        | 19/125 [00:00<00:00, 184.68it/s]"
     ]
    },
    {
     "name": "stdout",
     "output_type": "stream",
     "text": [
      "Step 15,500 (N samples: 992,000), Loss: 0.7527 (Recon: 0.6439, KL: 0.1088) Grad: 0.2646\n"
     ]
    },
    {
     "name": "stderr",
     "output_type": "stream",
     "text": [
      "100%|██████████| 125/125 [00:00<00:00, 169.80it/s]\n"
     ]
    },
    {
     "name": "stdout",
     "output_type": "stream",
     "text": [
      "Step 15,600 (N samples: 998,400), Loss: 0.7742 (Recon: 0.6578, KL: 0.1163) Grad: 0.2627\n"
     ]
    },
    {
     "name": "stderr",
     "output_type": "stream",
     "text": [
      "Testing: 100%|██████████| 16/16 [00:00<00:00, 399.44it/s]\n"
     ]
    },
    {
     "name": "stdout",
     "output_type": "stream",
     "text": [
      "====> Test set loss: 0.7331 (MSE: 0.6280, KLD: 0.1051)\n",
      "Epoch 126/150\n"
     ]
    },
    {
     "name": "stderr",
     "output_type": "stream",
     "text": [
      " 74%|███████▎  | 92/125 [00:00<00:00, 179.82it/s]"
     ]
    },
    {
     "name": "stdout",
     "output_type": "stream",
     "text": [
      "Step 15,700 (N samples: 1,004,800), Loss: 0.7107 (Recon: 0.6144, KL: 0.0963) Grad: 0.2219\n"
     ]
    },
    {
     "name": "stderr",
     "output_type": "stream",
     "text": [
      "100%|██████████| 125/125 [00:00<00:00, 173.05it/s]\n",
      "Testing: 100%|██████████| 16/16 [00:00<00:00, 532.40it/s]\n"
     ]
    },
    {
     "name": "stdout",
     "output_type": "stream",
     "text": [
      "====> Test set loss: 0.7350 (MSE: 0.6279, KLD: 0.1071)\n",
      "Epoch 127/150\n"
     ]
    },
    {
     "name": "stderr",
     "output_type": "stream",
     "text": [
      " 68%|██████▊   | 85/125 [00:00<00:00, 165.59it/s]"
     ]
    },
    {
     "name": "stdout",
     "output_type": "stream",
     "text": [
      "Step 15,800 (N samples: 1,011,200), Loss: 0.7102 (Recon: 0.6183, KL: 0.0918) Grad: 0.1842\n"
     ]
    },
    {
     "name": "stderr",
     "output_type": "stream",
     "text": [
      "100%|██████████| 125/125 [00:00<00:00, 151.47it/s]\n",
      "Testing: 100%|██████████| 16/16 [00:00<00:00, 367.06it/s]\n"
     ]
    },
    {
     "name": "stdout",
     "output_type": "stream",
     "text": [
      "====> Test set loss: 0.7333 (MSE: 0.6263, KLD: 0.1070)\n",
      "Epoch 128/150\n"
     ]
    },
    {
     "name": "stderr",
     "output_type": "stream",
     "text": [
      " 13%|█▎        | 16/125 [00:00<00:00, 153.63it/s]"
     ]
    },
    {
     "name": "stdout",
     "output_type": "stream",
     "text": [
      "Step 15,900 (N samples: 1,017,600), Loss: 0.7218 (Recon: 0.6122, KL: 0.1096) Grad: 0.2520\n"
     ]
    },
    {
     "name": "stderr",
     "output_type": "stream",
     "text": [
      "100%|██████████| 125/125 [00:00<00:00, 166.49it/s]\n",
      "Testing: 100%|██████████| 16/16 [00:00<00:00, 418.46it/s]\n"
     ]
    },
    {
     "name": "stdout",
     "output_type": "stream",
     "text": [
      "====> Test set loss: 0.7386 (MSE: 0.6350, KLD: 0.1035)\n",
      "Epoch 129/150\n"
     ]
    },
    {
     "name": "stderr",
     "output_type": "stream",
     "text": [
      " 13%|█▎        | 16/125 [00:00<00:00, 152.25it/s]"
     ]
    },
    {
     "name": "stdout",
     "output_type": "stream",
     "text": [
      "Step 16,000 (N samples: 1,024,000), Loss: 0.7560 (Recon: 0.6451, KL: 0.1110) Grad: 0.2419\n"
     ]
    },
    {
     "name": "stderr",
     "output_type": "stream",
     "text": [
      "100%|██████████| 125/125 [00:00<00:00, 155.27it/s]\n"
     ]
    },
    {
     "name": "stdout",
     "output_type": "stream",
     "text": [
      "Step 16,100 (N samples: 1,030,400), Loss: 0.7424 (Recon: 0.6258, KL: 0.1167) Grad: 0.2609\n"
     ]
    },
    {
     "name": "stderr",
     "output_type": "stream",
     "text": [
      "Testing: 100%|██████████| 16/16 [00:00<00:00, 376.11it/s]\n"
     ]
    },
    {
     "name": "stdout",
     "output_type": "stream",
     "text": [
      "====> Test set loss: 0.7396 (MSE: 0.6327, KLD: 0.1069)\n",
      "Epoch 130/150\n"
     ]
    },
    {
     "name": "stderr",
     "output_type": "stream",
     "text": [
      " 77%|███████▋  | 96/125 [00:00<00:00, 183.95it/s]"
     ]
    },
    {
     "name": "stdout",
     "output_type": "stream",
     "text": [
      "Step 16,200 (N samples: 1,036,800), Loss: 0.7186 (Recon: 0.6282, KL: 0.0903) Grad: 0.2685\n"
     ]
    },
    {
     "name": "stderr",
     "output_type": "stream",
     "text": [
      "100%|██████████| 125/125 [00:00<00:00, 175.54it/s]\n",
      "Testing: 100%|██████████| 16/16 [00:00<00:00, 538.39it/s]\n"
     ]
    },
    {
     "name": "stdout",
     "output_type": "stream",
     "text": [
      "====> Test set loss: 0.7351 (MSE: 0.6274, KLD: 0.1077)\n",
      "Epoch 131/150\n"
     ]
    },
    {
     "name": "stderr",
     "output_type": "stream",
     "text": [
      " 57%|█████▋    | 71/125 [00:00<00:00, 171.81it/s]"
     ]
    },
    {
     "name": "stdout",
     "output_type": "stream",
     "text": [
      "Step 16,300 (N samples: 1,043,200), Loss: 0.7708 (Recon: 0.6594, KL: 0.1113) Grad: 0.2354\n"
     ]
    },
    {
     "name": "stderr",
     "output_type": "stream",
     "text": [
      "100%|██████████| 125/125 [00:01<00:00, 119.59it/s]\n",
      "Testing: 100%|██████████| 16/16 [00:00<00:00, 407.54it/s]\n"
     ]
    },
    {
     "name": "stdout",
     "output_type": "stream",
     "text": [
      "====> Test set loss: 0.7361 (MSE: 0.6304, KLD: 0.1057)\n",
      "Epoch 132/150\n"
     ]
    },
    {
     "name": "stderr",
     "output_type": "stream",
     "text": [
      " 11%|█         | 14/125 [00:00<00:00, 139.68it/s]"
     ]
    },
    {
     "name": "stdout",
     "output_type": "stream",
     "text": [
      "Step 16,400 (N samples: 1,049,600), Loss: 0.7748 (Recon: 0.6761, KL: 0.0987) Grad: 0.3043"
     ]
    },
    {
     "name": "stderr",
     "output_type": "stream",
     "text": [
      " 42%|████▏     | 52/125 [00:00<00:00, 171.99it/s]"
     ]
    },
    {
     "name": "stdout",
     "output_type": "stream",
     "text": [
      "\n"
     ]
    },
    {
     "name": "stderr",
     "output_type": "stream",
     "text": [
      "100%|██████████| 125/125 [00:00<00:00, 174.32it/s]\n",
      "Testing: 100%|██████████| 16/16 [00:00<00:00, 484.27it/s]\n"
     ]
    },
    {
     "name": "stdout",
     "output_type": "stream",
     "text": [
      "====> Test set loss: 0.7305 (MSE: 0.6226, KLD: 0.1078)\n",
      "Epoch 133/150\n"
     ]
    },
    {
     "name": "stderr",
     "output_type": "stream",
     "text": [
      " 14%|█▍        | 18/125 [00:00<00:00, 179.90it/s]"
     ]
    },
    {
     "name": "stdout",
     "output_type": "stream",
     "text": [
      "Step 16,500 (N samples: 1,056,000), Loss: 0.7053 (Recon: 0.6069, KL: 0.0984) Grad: 0.2423\n"
     ]
    },
    {
     "name": "stderr",
     "output_type": "stream",
     "text": [
      " 94%|█████████▍| 118/125 [00:00<00:00, 117.38it/s]"
     ]
    },
    {
     "name": "stdout",
     "output_type": "stream",
     "text": [
      "Step 16,600 (N samples: 1,062,400), Loss: 0.7232 (Recon: 0.6231, KL: 0.1001) Grad: 0.2274\n"
     ]
    },
    {
     "name": "stderr",
     "output_type": "stream",
     "text": [
      "100%|██████████| 125/125 [00:01<00:00, 123.34it/s]\n",
      "Testing: 100%|██████████| 16/16 [00:00<00:00, 294.25it/s]\n"
     ]
    },
    {
     "name": "stdout",
     "output_type": "stream",
     "text": [
      "====> Test set loss: 0.7333 (MSE: 0.6262, KLD: 0.1071)\n",
      "Epoch 134/150\n"
     ]
    },
    {
     "name": "stderr",
     "output_type": "stream",
     "text": [
      " 74%|███████▍  | 93/125 [00:00<00:00, 178.68it/s]"
     ]
    },
    {
     "name": "stdout",
     "output_type": "stream",
     "text": [
      "Step 16,700 (N samples: 1,068,800), Loss: 0.7551 (Recon: 0.6411, KL: 0.1140) Grad: 0.2306\n"
     ]
    },
    {
     "name": "stderr",
     "output_type": "stream",
     "text": [
      "100%|██████████| 125/125 [00:00<00:00, 151.55it/s]\n",
      "Testing: 100%|██████████| 16/16 [00:00<00:00, 295.51it/s]\n"
     ]
    },
    {
     "name": "stdout",
     "output_type": "stream",
     "text": [
      "====> Test set loss: 0.7341 (MSE: 0.6265, KLD: 0.1076)\n",
      "Epoch 135/150\n"
     ]
    },
    {
     "name": "stderr",
     "output_type": "stream",
     "text": [
      " 58%|█████▊    | 72/125 [00:00<00:00, 138.04it/s]"
     ]
    },
    {
     "name": "stdout",
     "output_type": "stream",
     "text": [
      "Step 16,800 (N samples: 1,075,200), Loss: 0.7587 (Recon: 0.6366, KL: 0.1221) Grad: 0.2789\n"
     ]
    },
    {
     "name": "stderr",
     "output_type": "stream",
     "text": [
      "100%|██████████| 125/125 [00:01<00:00, 122.57it/s]\n",
      "Testing: 100%|██████████| 16/16 [00:00<00:00, 321.46it/s]\n"
     ]
    },
    {
     "name": "stdout",
     "output_type": "stream",
     "text": [
      "====> Test set loss: 0.7339 (MSE: 0.6266, KLD: 0.1073)\n",
      "Epoch 136/150\n"
     ]
    },
    {
     "name": "stderr",
     "output_type": "stream",
     "text": [
      " 10%|▉         | 12/125 [00:00<00:00, 116.93it/s]"
     ]
    },
    {
     "name": "stdout",
     "output_type": "stream",
     "text": [
      "Step 16,900 (N samples: 1,081,600), Loss: 0.7265 (Recon: 0.6294, KL: 0.0970) Grad: 0.2420\n"
     ]
    },
    {
     "name": "stderr",
     "output_type": "stream",
     "text": [
      "100%|██████████| 125/125 [00:01<00:00, 123.95it/s]\n",
      "Testing: 100%|██████████| 16/16 [00:00<00:00, 472.83it/s]\n"
     ]
    },
    {
     "name": "stdout",
     "output_type": "stream",
     "text": [
      "====> Test set loss: 0.7310 (MSE: 0.6243, KLD: 0.1068)\n",
      "Epoch 137/150\n"
     ]
    },
    {
     "name": "stderr",
     "output_type": "stream",
     "text": [
      " 13%|█▎        | 16/125 [00:00<00:00, 156.94it/s]"
     ]
    },
    {
     "name": "stdout",
     "output_type": "stream",
     "text": [
      "Step 17,000 (N samples: 1,088,000), Loss: 0.7290 (Recon: 0.6238, KL: 0.1052) Grad: 0.2127\n"
     ]
    },
    {
     "name": "stderr",
     "output_type": "stream",
     "text": [
      "100%|██████████| 125/125 [00:00<00:00, 173.08it/s]\n"
     ]
    },
    {
     "name": "stdout",
     "output_type": "stream",
     "text": [
      "Step 17,100 (N samples: 1,094,400), Loss: 0.7214 (Recon: 0.6085, KL: 0.1129) Grad: 0.3073\n"
     ]
    },
    {
     "name": "stderr",
     "output_type": "stream",
     "text": [
      "Testing: 100%|██████████| 16/16 [00:00<00:00, 388.40it/s]\n"
     ]
    },
    {
     "name": "stdout",
     "output_type": "stream",
     "text": [
      "====> Test set loss: 0.7315 (MSE: 0.6264, KLD: 0.1051)\n",
      "Epoch 138/150\n"
     ]
    },
    {
     "name": "stderr",
     "output_type": "stream",
     "text": [
      " 75%|███████▌  | 94/125 [00:00<00:00, 128.53it/s]"
     ]
    },
    {
     "name": "stdout",
     "output_type": "stream",
     "text": [
      "Step 17,200 (N samples: 1,100,800), Loss: 0.7793 (Recon: 0.6709, KL: 0.1084) Grad: 0.2666\n"
     ]
    },
    {
     "name": "stderr",
     "output_type": "stream",
     "text": [
      "100%|██████████| 125/125 [00:00<00:00, 136.50it/s]\n",
      "Testing: 100%|██████████| 16/16 [00:00<00:00, 421.81it/s]\n"
     ]
    },
    {
     "name": "stdout",
     "output_type": "stream",
     "text": [
      "====> Test set loss: 0.7317 (MSE: 0.6280, KLD: 0.1037)\n",
      "Epoch 139/150\n"
     ]
    },
    {
     "name": "stderr",
     "output_type": "stream",
     "text": [
      " 48%|████▊     | 60/125 [00:00<00:00, 137.65it/s]"
     ]
    },
    {
     "name": "stdout",
     "output_type": "stream",
     "text": [
      "Step 17,300 (N samples: 1,107,200), Loss: 0.7001 (Recon: 0.5969, KL: 0.1032) Grad: 0.2043\n"
     ]
    },
    {
     "name": "stderr",
     "output_type": "stream",
     "text": [
      "100%|██████████| 125/125 [00:01<00:00, 112.61it/s]\n",
      "Testing: 100%|██████████| 16/16 [00:00<00:00, 316.86it/s]\n"
     ]
    },
    {
     "name": "stdout",
     "output_type": "stream",
     "text": [
      "====> Test set loss: 0.7321 (MSE: 0.6251, KLD: 0.1070)\n",
      "Epoch 140/150\n"
     ]
    },
    {
     "name": "stderr",
     "output_type": "stream",
     "text": [
      " 32%|███▏      | 40/125 [00:00<00:00, 132.35it/s]"
     ]
    },
    {
     "name": "stdout",
     "output_type": "stream",
     "text": [
      "Step 17,400 (N samples: 1,113,600), Loss: 0.7268 (Recon: 0.6210, KL: 0.1059) Grad: 0.2300\n"
     ]
    },
    {
     "name": "stderr",
     "output_type": "stream",
     "text": [
      "100%|██████████| 125/125 [00:00<00:00, 139.93it/s]\n",
      "Testing: 100%|██████████| 16/16 [00:00<00:00, 353.21it/s]\n"
     ]
    },
    {
     "name": "stdout",
     "output_type": "stream",
     "text": [
      "====> Test set loss: 0.7366 (MSE: 0.6298, KLD: 0.1068)\n",
      "Epoch 141/150\n"
     ]
    },
    {
     "name": "stderr",
     "output_type": "stream",
     "text": [
      " 26%|██▋       | 33/125 [00:00<00:00, 166.14it/s]"
     ]
    },
    {
     "name": "stdout",
     "output_type": "stream",
     "text": [
      "Step 17,500 (N samples: 1,120,000), Loss: 0.7241 (Recon: 0.6213, KL: 0.1028) Grad: 0.2175\n"
     ]
    },
    {
     "name": "stderr",
     "output_type": "stream",
     "text": [
      "100%|██████████| 125/125 [00:00<00:00, 167.06it/s]\n"
     ]
    },
    {
     "name": "stdout",
     "output_type": "stream",
     "text": [
      "Step 17,600 (N samples: 1,126,400), Loss: 0.7102 (Recon: 0.6165, KL: 0.0937) Grad: 0.2282\n"
     ]
    },
    {
     "name": "stderr",
     "output_type": "stream",
     "text": [
      "Testing: 100%|██████████| 16/16 [00:00<00:00, 414.90it/s]\n"
     ]
    },
    {
     "name": "stdout",
     "output_type": "stream",
     "text": [
      "====> Test set loss: 0.7283 (MSE: 0.6254, KLD: 0.1029)\n",
      "Epoch 142/150\n"
     ]
    },
    {
     "name": "stderr",
     "output_type": "stream",
     "text": [
      " 71%|███████   | 89/125 [00:00<00:00, 116.76it/s]"
     ]
    },
    {
     "name": "stdout",
     "output_type": "stream",
     "text": [
      "Step 17,700 (N samples: 1,132,800), Loss: 0.6964 (Recon: 0.5926, KL: 0.1038) Grad: 0.2318\n"
     ]
    },
    {
     "name": "stderr",
     "output_type": "stream",
     "text": [
      "100%|██████████| 125/125 [00:00<00:00, 133.90it/s]\n",
      "Testing: 100%|██████████| 16/16 [00:00<00:00, 426.48it/s]\n"
     ]
    },
    {
     "name": "stdout",
     "output_type": "stream",
     "text": [
      "====> Test set loss: 0.7336 (MSE: 0.6274, KLD: 0.1062)\n",
      "Epoch 143/150\n"
     ]
    },
    {
     "name": "stderr",
     "output_type": "stream",
     "text": [
      " 61%|██████    | 76/125 [00:00<00:00, 175.01it/s]"
     ]
    },
    {
     "name": "stdout",
     "output_type": "stream",
     "text": [
      "Step 17,800 (N samples: 1,139,200), Loss: 0.7318 (Recon: 0.6220, KL: 0.1099) Grad: 0.2320\n"
     ]
    },
    {
     "name": "stderr",
     "output_type": "stream",
     "text": [
      "100%|██████████| 125/125 [00:00<00:00, 175.08it/s]\n",
      "Testing: 100%|██████████| 16/16 [00:00<00:00, 364.14it/s]\n"
     ]
    },
    {
     "name": "stdout",
     "output_type": "stream",
     "text": [
      "====> Test set loss: 0.7351 (MSE: 0.6273, KLD: 0.1078)\n",
      "Epoch 144/150\n"
     ]
    },
    {
     "name": "stderr",
     "output_type": "stream",
     "text": [
      " 14%|█▎        | 17/125 [00:00<00:00, 169.83it/s]"
     ]
    },
    {
     "name": "stdout",
     "output_type": "stream",
     "text": [
      "Step 17,900 (N samples: 1,145,600), Loss: 0.7203 (Recon: 0.6057, KL: 0.1146) Grad: 0.2338\n"
     ]
    },
    {
     "name": "stderr",
     "output_type": "stream",
     "text": [
      "100%|██████████| 125/125 [00:00<00:00, 166.68it/s]\n",
      "Testing: 100%|██████████| 16/16 [00:00<00:00, 448.71it/s]\n"
     ]
    },
    {
     "name": "stdout",
     "output_type": "stream",
     "text": [
      "====> Test set loss: 0.7320 (MSE: 0.6279, KLD: 0.1041)\n",
      "Epoch 145/150\n"
     ]
    },
    {
     "name": "stderr",
     "output_type": "stream",
     "text": [
      " 13%|█▎        | 16/125 [00:00<00:00, 145.44it/s]"
     ]
    },
    {
     "name": "stdout",
     "output_type": "stream",
     "text": [
      "Step 18,000 (N samples: 1,152,000), Loss: 0.7038 (Recon: 0.5968, KL: 0.1070) Grad: 0.2581\n"
     ]
    },
    {
     "name": "stderr",
     "output_type": "stream",
     "text": [
      "100%|██████████| 125/125 [00:00<00:00, 155.58it/s]\n"
     ]
    },
    {
     "name": "stdout",
     "output_type": "stream",
     "text": [
      "Step 18,100 (N samples: 1,158,400), Loss: 0.7257 (Recon: 0.6139, KL: 0.1117) Grad: 0.2705\n"
     ]
    },
    {
     "name": "stderr",
     "output_type": "stream",
     "text": [
      "Testing: 100%|██████████| 16/16 [00:00<00:00, 329.99it/s]\n"
     ]
    },
    {
     "name": "stdout",
     "output_type": "stream",
     "text": [
      "====> Test set loss: 0.7258 (MSE: 0.6177, KLD: 0.1081)\n",
      "Epoch 146/150\n"
     ]
    },
    {
     "name": "stderr",
     "output_type": "stream",
     "text": [
      " 70%|███████   | 88/125 [00:00<00:00, 119.92it/s]"
     ]
    },
    {
     "name": "stdout",
     "output_type": "stream",
     "text": [
      "Step 18,200 (N samples: 1,164,800), Loss: 0.7115 (Recon: 0.6018, KL: 0.1097) Grad: 0.2385\n"
     ]
    },
    {
     "name": "stderr",
     "output_type": "stream",
     "text": [
      "100%|██████████| 125/125 [00:00<00:00, 133.86it/s]\n",
      "Testing: 100%|██████████| 16/16 [00:00<00:00, 362.33it/s]\n"
     ]
    },
    {
     "name": "stdout",
     "output_type": "stream",
     "text": [
      "====> Test set loss: 0.7320 (MSE: 0.6235, KLD: 0.1084)\n",
      "Epoch 147/150\n"
     ]
    },
    {
     "name": "stderr",
     "output_type": "stream",
     "text": [
      " 57%|█████▋    | 71/125 [00:00<00:00, 173.68it/s]"
     ]
    },
    {
     "name": "stdout",
     "output_type": "stream",
     "text": [
      "Step 18,300 (N samples: 1,171,200), Loss: 0.7381 (Recon: 0.6292, KL: 0.1089) Grad: 0.2636\n"
     ]
    },
    {
     "name": "stderr",
     "output_type": "stream",
     "text": [
      "100%|██████████| 125/125 [00:00<00:00, 162.47it/s]\n",
      "Testing: 100%|██████████| 16/16 [00:00<00:00, 346.34it/s]\n"
     ]
    },
    {
     "name": "stdout",
     "output_type": "stream",
     "text": [
      "====> Test set loss: 0.7238 (MSE: 0.6154, KLD: 0.1084)\n",
      "Epoch 148/150\n"
     ]
    },
    {
     "name": "stderr",
     "output_type": "stream",
     "text": [
      " 33%|███▎      | 41/125 [00:00<00:00, 95.74it/s] "
     ]
    },
    {
     "name": "stdout",
     "output_type": "stream",
     "text": [
      "Step 18,400 (N samples: 1,177,600), Loss: 0.7208 (Recon: 0.6056, KL: 0.1152) Grad: 0.2448\n"
     ]
    },
    {
     "name": "stderr",
     "output_type": "stream",
     "text": [
      "100%|██████████| 125/125 [00:00<00:00, 139.29it/s]\n",
      "Testing: 100%|██████████| 16/16 [00:00<00:00, 480.08it/s]\n"
     ]
    },
    {
     "name": "stdout",
     "output_type": "stream",
     "text": [
      "====> Test set loss: 0.7273 (MSE: 0.6212, KLD: 0.1061)\n",
      "Epoch 149/150\n"
     ]
    },
    {
     "name": "stderr",
     "output_type": "stream",
     "text": [
      " 26%|██▌       | 32/125 [00:00<00:00, 159.94it/s]"
     ]
    },
    {
     "name": "stdout",
     "output_type": "stream",
     "text": [
      "Step 18,500 (N samples: 1,184,000), Loss: 0.6869 (Recon: 0.5897, KL: 0.0972) Grad: 0.2763\n"
     ]
    },
    {
     "name": "stderr",
     "output_type": "stream",
     "text": [
      "100%|██████████| 125/125 [00:00<00:00, 164.25it/s]\n"
     ]
    },
    {
     "name": "stdout",
     "output_type": "stream",
     "text": [
      "Step 18,600 (N samples: 1,190,400), Loss: 0.7439 (Recon: 0.6109, KL: 0.1330) Grad: 0.2938\n"
     ]
    },
    {
     "name": "stderr",
     "output_type": "stream",
     "text": [
      "Testing: 100%|██████████| 16/16 [00:00<00:00, 420.62it/s]\n"
     ]
    },
    {
     "name": "stdout",
     "output_type": "stream",
     "text": [
      "====> Test set loss: 0.7269 (MSE: 0.6155, KLD: 0.1115)\n",
      "Epoch 150/150\n"
     ]
    },
    {
     "name": "stderr",
     "output_type": "stream",
     "text": [
      " 89%|████████▉ | 111/125 [00:00<00:00, 174.04it/s]"
     ]
    },
    {
     "name": "stdout",
     "output_type": "stream",
     "text": [
      "Step 18,700 (N samples: 1,196,800), Loss: 0.6716 (Recon: 0.5700, KL: 0.1016) Grad: 0.2248\n"
     ]
    },
    {
     "name": "stderr",
     "output_type": "stream",
     "text": [
      "100%|██████████| 125/125 [00:00<00:00, 172.41it/s]\n",
      "Testing: 100%|██████████| 16/16 [00:00<00:00, 361.14it/s]"
     ]
    },
    {
     "name": "stdout",
     "output_type": "stream",
     "text": [
      "====> Test set loss: 0.7286 (MSE: 0.6186, KLD: 0.1100)\n"
     ]
    },
    {
     "name": "stderr",
     "output_type": "stream",
     "text": [
      "\n"
     ]
    }
   ],
   "source": [
    "%load_ext autoreload\n",
    "%autoreload 2\n",
    "from train_model import train_model\n",
    "model, scaler, [train_loader, val_loader, test_loader] = train_model()"
   ]
  },
  {
   "cell_type": "code",
   "execution_count": 41,
   "id": "b46e5f78",
   "metadata": {},
   "outputs": [
    {
     "data": {
      "image/png": "[encoded data removed]",
      "text/plain": [
       "<Figure size 1000x500 with 1 Axes>"
      ]
     },
     "metadata": {},
     "output_type": "display_data"
    }
   ],
   "source": [
    "import matplotlib.pyplot as plt\n",
    "import torch\n",
    "\n",
    "with torch.no_grad():\n",
    "    x_sample = train_loader.dataset.dataset[train_loader.dataset.indices[5]]\n",
    "    output_sample = model.forward(x_sample)\n",
    "    output_recon = output_sample.x_recon\n",
    "\n",
    "    plt.figure(figsize=(10, 5))\n",
    "    plt.plot(x_sample.numpy())\n",
    "    plt.plot(output_recon.numpy(), '--')\n",
    "    plt.title('Sample Input vs Reconstructed Output')\n",
    "    plt.xlabel('Feature Index')\n",
    "    plt.ylabel('Value')\n",
    "    \n",
    "    plt.legend(['Input', 'Reconstructed Output'])\n",
    "    plt.show()"
   ]
  },
  {
   "cell_type": "code",
   "execution_count": 33,
   "id": "c95cbf07",
   "metadata": {},
   "outputs": [
    {
     "name": "stdout",
     "output_type": "stream",
     "text": [
      "VAE(\n",
      "  (encoder): Sequential(\n",
      "    (0): Linear(in_features=50, out_features=32, bias=True)\n",
      "    (1): SiLU()\n",
      "    (2): Linear(in_features=32, out_features=16, bias=True)\n",
      "    (3): SiLU()\n",
      "    (4): Linear(in_features=16, out_features=32, bias=True)\n",
      "    (5): SiLU()\n",
      "  )\n",
      "  (softplus): Softplus(beta=1.0, threshold=20.0)\n",
      "  (decoder): Sequential(\n",
      "    (0): Linear(in_features=16, out_features=16, bias=True)\n",
      "    (1): SiLU()\n",
      "    (2): Linear(in_features=16, out_features=32, bias=True)\n",
      "    (3): SiLU()\n",
      "    (4): Linear(in_features=32, out_features=50, bias=True)\n",
      "  )\n",
      ")\n"
     ]
    }
   ],
   "source": [
    "print(model)"
   ]
  },
  {
   "cell_type": "code",
   "execution_count": 3,
   "id": "77178e54",
   "metadata": {},
   "outputs": [
    {
     "name": "stdout",
     "output_type": "stream",
     "text": [
      "tensor([ 4.4703e-09,  1.7881e-08, -2.9802e-09,  2.9802e-09,  1.1921e-08]) tensor([1.0000, 1.0000, 1.0000, 1.0000, 1.0000])\n"
     ]
    }
   ],
   "source": [
    "rand_tensor = torch.randn(20, 5)\n",
    "from Normalizer import Normalizer\n",
    "\n",
    "norm = Normalizer(rand_tensor)\n",
    "x_norm = norm.normalize(rand_tensor)\n",
    "print(x_norm.mean(dim=0), x_norm.var(dim=0))"
   ]
  }
 ],
 "metadata": {
  "kernelspec": {
   "display_name": ".venv",
   "language": "python",
   "name": "python3"
  },
  "language_info": {
   "codemirror_mode": {
    "name": "ipython",
    "version": 3
   },
   "file_extension": ".py",
   "mimetype": "text/x-python",
   "name": "python",
   "nbconvert_exporter": "python",
   "pygments_lexer": "ipython3",
   "version": "3.12.9"
  }
 },
 "nbformat": 4,
 "nbformat_minor": 5
}
