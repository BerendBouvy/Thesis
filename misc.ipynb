{
 "cells": [
  {
   "cell_type": "code",
   "execution_count": 2,
   "id": "97bdbfaa",
   "metadata": {},
   "outputs": [],
   "source": [
    "import pandas as pd\n",
    "from Normalizer import Normalizer\n",
    "import torch"
   ]
  },
  {
   "cell_type": "code",
   "execution_count": 2,
   "id": "ad0c1340",
   "metadata": {},
   "outputs": [
    {
     "name": "stderr",
     "output_type": "stream",
     "text": [
      "<>:1: SyntaxWarning: invalid escape sequence '\\s'\n",
      "<>:1: SyntaxWarning: invalid escape sequence '\\s'\n",
      "C:\\Users\\beren\\AppData\\Local\\Temp\\ipykernel_18668\\2346573497.py:1: SyntaxWarning: invalid escape sequence '\\s'\n",
      "  df = pd.read_csv('data\\sim_10000_50_25_1_0.25\\set_1\\data.csv')\n"
     ]
    },
    {
     "name": "stdout",
     "output_type": "stream",
     "text": [
      "   Feature 0   Feature 1  Feature 2  Feature 3  Feature 4  Feature 5  \\\n",
      "0  -1.094910    1.711303  -0.261491   0.267541   4.680015   3.396031   \n",
      "1  -1.835957    8.255426   0.563531  -1.576666  -2.047095  -0.461613   \n",
      "2  -6.098495   36.326857  -0.791101  -1.580378   3.008232  -3.647442   \n",
      "3   0.632690    1.191196  -0.923213  -2.982837  -1.594931  -2.090608   \n",
      "4   1.565111  103.775960   0.098752  -3.116991   1.473482   4.508480   \n",
      "\n",
      "   Feature 6  Feature 7  Feature 8  Feature 9  ...  Feature 40  Feature 41  \\\n",
      "0  -0.128042  -4.753596  -3.569409  -1.668630  ...    3.733466    0.369352   \n",
      "1   0.332267  -0.274442  -6.261167   1.470868  ...    4.876949    0.991257   \n",
      "2   1.593966  -2.481266  -2.908655   1.142163  ...   -7.089216    0.981938   \n",
      "3   0.818938   0.971949  -3.812384   5.307973  ...    0.202190    0.088587   \n",
      "4  -5.592208   9.719898  -0.624351  -6.355002  ...    0.538530    0.059226   \n",
      "\n",
      "   Feature 42  Feature 43  Feature 44  Feature 45  Feature 46  Feature 47  \\\n",
      "0 -154.458656    0.031998    2.293274    3.766337   70.280755    9.449111   \n",
      "1   -1.883473   -0.993742    1.388963    1.173481   -0.786416    1.591430   \n",
      "2  -87.112016   -0.118174    0.227188   -0.086802   -2.676034    3.608915   \n",
      "3   -0.046106   -0.989158    5.208047   -1.302009   -1.830360    5.185177   \n",
      "4    3.678638    0.676036   -4.378539    1.605530    0.280372    0.555852   \n",
      "\n",
      "   Feature 48  Feature 49  \n",
      "0    1.194658  -11.856560  \n",
      "1   -0.268153    4.493825  \n",
      "2    4.294423   -2.267909  \n",
      "3    3.314332    6.356983  \n",
      "4    5.705308   -6.755430  \n",
      "\n",
      "[5 rows x 50 columns]\n"
     ]
    },
    {
     "data": {
      "text/html": [
       "<div>\n",
       "<style scoped>\n",
       "    .dataframe tbody tr th:only-of-type {\n",
       "        vertical-align: middle;\n",
       "    }\n",
       "\n",
       "    .dataframe tbody tr th {\n",
       "        vertical-align: top;\n",
       "    }\n",
       "\n",
       "    .dataframe thead th {\n",
       "        text-align: right;\n",
       "    }\n",
       "</style>\n",
       "<table border=\"1\" class=\"dataframe\">\n",
       "  <thead>\n",
       "    <tr style=\"text-align: right;\">\n",
       "      <th></th>\n",
       "      <th>Feature 0</th>\n",
       "      <th>Feature 1</th>\n",
       "      <th>Feature 2</th>\n",
       "      <th>Feature 3</th>\n",
       "      <th>Feature 4</th>\n",
       "      <th>Feature 5</th>\n",
       "      <th>Feature 6</th>\n",
       "      <th>Feature 7</th>\n",
       "      <th>Feature 8</th>\n",
       "      <th>Feature 9</th>\n",
       "      <th>...</th>\n",
       "      <th>Feature 40</th>\n",
       "      <th>Feature 41</th>\n",
       "      <th>Feature 42</th>\n",
       "      <th>Feature 43</th>\n",
       "      <th>Feature 44</th>\n",
       "      <th>Feature 45</th>\n",
       "      <th>Feature 46</th>\n",
       "      <th>Feature 47</th>\n",
       "      <th>Feature 48</th>\n",
       "      <th>Feature 49</th>\n",
       "    </tr>\n",
       "  </thead>\n",
       "  <tbody>\n",
       "    <tr>\n",
       "      <th>count</th>\n",
       "      <td>10000.000000</td>\n",
       "      <td>10000.000000</td>\n",
       "      <td>10000.000000</td>\n",
       "      <td>10000.000000</td>\n",
       "      <td>10000.000000</td>\n",
       "      <td>10000.000000</td>\n",
       "      <td>10000.000000</td>\n",
       "      <td>10000.000000</td>\n",
       "      <td>10000.000000</td>\n",
       "      <td>10000.000000</td>\n",
       "      <td>...</td>\n",
       "      <td>10000.000000</td>\n",
       "      <td>10000.000000</td>\n",
       "      <td>10000.000000</td>\n",
       "      <td>10000.000000</td>\n",
       "      <td>10000.000000</td>\n",
       "      <td>10000.000000</td>\n",
       "      <td>1.000000e+04</td>\n",
       "      <td>10000.000000</td>\n",
       "      <td>10000.000000</td>\n",
       "      <td>10000.000000</td>\n",
       "    </tr>\n",
       "    <tr>\n",
       "      <th>mean</th>\n",
       "      <td>0.032324</td>\n",
       "      <td>28.765423</td>\n",
       "      <td>-0.006109</td>\n",
       "      <td>0.017488</td>\n",
       "      <td>0.065887</td>\n",
       "      <td>0.018515</td>\n",
       "      <td>-0.013015</td>\n",
       "      <td>-0.070165</td>\n",
       "      <td>0.014865</td>\n",
       "      <td>0.061957</td>\n",
       "      <td>...</td>\n",
       "      <td>-0.041854</td>\n",
       "      <td>0.501135</td>\n",
       "      <td>-5.157799</td>\n",
       "      <td>0.003684</td>\n",
       "      <td>-0.025151</td>\n",
       "      <td>-0.032270</td>\n",
       "      <td>-1.761315e+00</td>\n",
       "      <td>3.781127</td>\n",
       "      <td>-0.013434</td>\n",
       "      <td>-0.076942</td>\n",
       "    </tr>\n",
       "    <tr>\n",
       "      <th>std</th>\n",
       "      <td>5.046554</td>\n",
       "      <td>39.894768</td>\n",
       "      <td>0.701395</td>\n",
       "      <td>4.959854</td>\n",
       "      <td>5.064286</td>\n",
       "      <td>4.968420</td>\n",
       "      <td>4.100455</td>\n",
       "      <td>5.290085</td>\n",
       "      <td>4.560467</td>\n",
       "      <td>4.537387</td>\n",
       "      <td>...</td>\n",
       "      <td>4.459178</td>\n",
       "      <td>0.421424</td>\n",
       "      <td>674.799969</td>\n",
       "      <td>0.708963</td>\n",
       "      <td>4.869323</td>\n",
       "      <td>4.774198</td>\n",
       "      <td>2.739307e+02</td>\n",
       "      <td>2.733903</td>\n",
       "      <td>5.506274</td>\n",
       "      <td>5.416061</td>\n",
       "    </tr>\n",
       "    <tr>\n",
       "      <th>min</th>\n",
       "      <td>-25.179187</td>\n",
       "      <td>0.000003</td>\n",
       "      <td>-1.000000</td>\n",
       "      <td>-17.811896</td>\n",
       "      <td>-18.084637</td>\n",
       "      <td>-18.381824</td>\n",
       "      <td>-19.770982</td>\n",
       "      <td>-21.749305</td>\n",
       "      <td>-16.943555</td>\n",
       "      <td>-19.821691</td>\n",
       "      <td>...</td>\n",
       "      <td>-16.301819</td>\n",
       "      <td>0.000000</td>\n",
       "      <td>-11360.723380</td>\n",
       "      <td>-1.000000</td>\n",
       "      <td>-16.674756</td>\n",
       "      <td>-18.501688</td>\n",
       "      <td>-4.977156e+03</td>\n",
       "      <td>0.553713</td>\n",
       "      <td>-21.343211</td>\n",
       "      <td>-18.269209</td>\n",
       "    </tr>\n",
       "    <tr>\n",
       "      <th>25%</th>\n",
       "      <td>-3.385785</td>\n",
       "      <td>2.927102</td>\n",
       "      <td>-0.696702</td>\n",
       "      <td>-3.317123</td>\n",
       "      <td>-3.299169</td>\n",
       "      <td>-3.341158</td>\n",
       "      <td>-2.769803</td>\n",
       "      <td>-3.610427</td>\n",
       "      <td>-3.014605</td>\n",
       "      <td>-2.966071</td>\n",
       "      <td>...</td>\n",
       "      <td>-3.086620</td>\n",
       "      <td>0.028568</td>\n",
       "      <td>-53.446641</td>\n",
       "      <td>-0.701651</td>\n",
       "      <td>-3.305825</td>\n",
       "      <td>-3.305234</td>\n",
       "      <td>-2.104650e+01</td>\n",
       "      <td>1.587794</td>\n",
       "      <td>-3.706041</td>\n",
       "      <td>-3.742161</td>\n",
       "    </tr>\n",
       "    <tr>\n",
       "      <th>50%</th>\n",
       "      <td>0.020702</td>\n",
       "      <td>13.109255</td>\n",
       "      <td>-0.013833</td>\n",
       "      <td>-0.020667</td>\n",
       "      <td>0.108023</td>\n",
       "      <td>-0.000955</td>\n",
       "      <td>0.051212</td>\n",
       "      <td>-0.085596</td>\n",
       "      <td>0.028413</td>\n",
       "      <td>0.055685</td>\n",
       "      <td>...</td>\n",
       "      <td>-0.008070</td>\n",
       "      <td>0.512655</td>\n",
       "      <td>-0.000008</td>\n",
       "      <td>0.002396</td>\n",
       "      <td>0.008967</td>\n",
       "      <td>-0.054704</td>\n",
       "      <td>5.000000e-07</td>\n",
       "      <td>3.135527</td>\n",
       "      <td>0.011007</td>\n",
       "      <td>-0.091884</td>\n",
       "    </tr>\n",
       "    <tr>\n",
       "      <th>75%</th>\n",
       "      <td>3.432230</td>\n",
       "      <td>38.635695</td>\n",
       "      <td>0.694296</td>\n",
       "      <td>3.387949</td>\n",
       "      <td>3.428225</td>\n",
       "      <td>3.385070</td>\n",
       "      <td>2.789134</td>\n",
       "      <td>3.488833</td>\n",
       "      <td>3.119671</td>\n",
       "      <td>3.171314</td>\n",
       "      <td>...</td>\n",
       "      <td>2.967988</td>\n",
       "      <td>0.968734</td>\n",
       "      <td>55.184841</td>\n",
       "      <td>0.716157</td>\n",
       "      <td>3.240168</td>\n",
       "      <td>3.229009</td>\n",
       "      <td>1.996585e+01</td>\n",
       "      <td>5.317860</td>\n",
       "      <td>3.646392</td>\n",
       "      <td>3.604363</td>\n",
       "    </tr>\n",
       "    <tr>\n",
       "      <th>max</th>\n",
       "      <td>18.280860</td>\n",
       "      <td>480.828850</td>\n",
       "      <td>1.000000</td>\n",
       "      <td>17.558255</td>\n",
       "      <td>17.693677</td>\n",
       "      <td>17.983639</td>\n",
       "      <td>15.853818</td>\n",
       "      <td>20.544930</td>\n",
       "      <td>16.315894</td>\n",
       "      <td>17.271857</td>\n",
       "      <td>...</td>\n",
       "      <td>16.975573</td>\n",
       "      <td>1.000000</td>\n",
       "      <td>9074.951811</td>\n",
       "      <td>1.000000</td>\n",
       "      <td>19.519680</td>\n",
       "      <td>17.806456</td>\n",
       "      <td>3.609113e+03</td>\n",
       "      <td>17.139327</td>\n",
       "      <td>22.461091</td>\n",
       "      <td>19.516758</td>\n",
       "    </tr>\n",
       "  </tbody>\n",
       "</table>\n",
       "<p>8 rows × 50 columns</p>\n",
       "</div>"
      ],
      "text/plain": [
       "          Feature 0     Feature 1     Feature 2     Feature 3     Feature 4  \\\n",
       "count  10000.000000  10000.000000  10000.000000  10000.000000  10000.000000   \n",
       "mean       0.032324     28.765423     -0.006109      0.017488      0.065887   \n",
       "std        5.046554     39.894768      0.701395      4.959854      5.064286   \n",
       "min      -25.179187      0.000003     -1.000000    -17.811896    -18.084637   \n",
       "25%       -3.385785      2.927102     -0.696702     -3.317123     -3.299169   \n",
       "50%        0.020702     13.109255     -0.013833     -0.020667      0.108023   \n",
       "75%        3.432230     38.635695      0.694296      3.387949      3.428225   \n",
       "max       18.280860    480.828850      1.000000     17.558255     17.693677   \n",
       "\n",
       "          Feature 5     Feature 6     Feature 7     Feature 8     Feature 9  \\\n",
       "count  10000.000000  10000.000000  10000.000000  10000.000000  10000.000000   \n",
       "mean       0.018515     -0.013015     -0.070165      0.014865      0.061957   \n",
       "std        4.968420      4.100455      5.290085      4.560467      4.537387   \n",
       "min      -18.381824    -19.770982    -21.749305    -16.943555    -19.821691   \n",
       "25%       -3.341158     -2.769803     -3.610427     -3.014605     -2.966071   \n",
       "50%       -0.000955      0.051212     -0.085596      0.028413      0.055685   \n",
       "75%        3.385070      2.789134      3.488833      3.119671      3.171314   \n",
       "max       17.983639     15.853818     20.544930     16.315894     17.271857   \n",
       "\n",
       "       ...    Feature 40    Feature 41    Feature 42    Feature 43  \\\n",
       "count  ...  10000.000000  10000.000000  10000.000000  10000.000000   \n",
       "mean   ...     -0.041854      0.501135     -5.157799      0.003684   \n",
       "std    ...      4.459178      0.421424    674.799969      0.708963   \n",
       "min    ...    -16.301819      0.000000 -11360.723380     -1.000000   \n",
       "25%    ...     -3.086620      0.028568    -53.446641     -0.701651   \n",
       "50%    ...     -0.008070      0.512655     -0.000008      0.002396   \n",
       "75%    ...      2.967988      0.968734     55.184841      0.716157   \n",
       "max    ...     16.975573      1.000000   9074.951811      1.000000   \n",
       "\n",
       "         Feature 44    Feature 45    Feature 46    Feature 47    Feature 48  \\\n",
       "count  10000.000000  10000.000000  1.000000e+04  10000.000000  10000.000000   \n",
       "mean      -0.025151     -0.032270 -1.761315e+00      3.781127     -0.013434   \n",
       "std        4.869323      4.774198  2.739307e+02      2.733903      5.506274   \n",
       "min      -16.674756    -18.501688 -4.977156e+03      0.553713    -21.343211   \n",
       "25%       -3.305825     -3.305234 -2.104650e+01      1.587794     -3.706041   \n",
       "50%        0.008967     -0.054704  5.000000e-07      3.135527      0.011007   \n",
       "75%        3.240168      3.229009  1.996585e+01      5.317860      3.646392   \n",
       "max       19.519680     17.806456  3.609113e+03     17.139327     22.461091   \n",
       "\n",
       "         Feature 49  \n",
       "count  10000.000000  \n",
       "mean      -0.076942  \n",
       "std        5.416061  \n",
       "min      -18.269209  \n",
       "25%       -3.742161  \n",
       "50%       -0.091884  \n",
       "75%        3.604363  \n",
       "max       19.516758  \n",
       "\n",
       "[8 rows x 50 columns]"
      ]
     },
     "execution_count": 2,
     "metadata": {},
     "output_type": "execute_result"
    }
   ],
   "source": [
    "df = pd.read_csv('data\\sim_10000_50_25_1_0.25\\set_1\\data.csv')\n",
    "print(df.head())\n",
    "\n",
    "df.describe()"
   ]
  },
  {
   "cell_type": "code",
   "execution_count": 3,
   "id": "89e8ab7f",
   "metadata": {},
   "outputs": [],
   "source": [
    "X = torch.tensor(df.iloc[:, :].values, dtype=torch.float32)"
   ]
  },
  {
   "cell_type": "code",
   "execution_count": 4,
   "id": "93c5406d",
   "metadata": {},
   "outputs": [
    {
     "name": "stdout",
     "output_type": "stream",
     "text": [
      "                 0             1             2             3             4   \\\n",
      "count  1.000000e+04  1.000000e+04  1.000000e+04  1.000000e+04  1.000000e+04   \n",
      "mean   1.487732e-08 -4.138947e-08 -1.621246e-08  1.907349e-10  2.670288e-09   \n",
      "std    1.000000e+00  1.000000e+00  1.000000e+00  9.999999e-01  1.000000e+00   \n",
      "min   -4.995788e+00 -7.210324e-01 -1.417020e+00 -3.594740e+00 -3.584024e+00   \n",
      "25%   -6.773154e-01 -6.476619e-01 -9.845996e-01 -6.723206e-01 -6.644681e-01   \n",
      "50%   -2.302945e-03 -3.924367e-01 -1.101336e-02 -7.692764e-03  8.320132e-03   \n",
      "75%    6.737083e-01  2.474076e-01  9.985886e-01  6.795484e-01  6.639312e-01   \n",
      "max    3.616039e+00  1.133140e+01  1.434439e+00  3.536549e+00  3.480805e+00   \n",
      "\n",
      "                 5             6             7             8             9   \\\n",
      "count  1.000000e+04  1.000000e+04  1.000000e+04  1.000000e+04  1.000000e+04   \n",
      "mean  -1.373291e-08 -1.029968e-08  9.536743e-09  6.294250e-09 -5.722046e-09   \n",
      "std    1.000000e+00  1.000000e+00  1.000000e+00  9.999999e-01  1.000000e+00   \n",
      "min   -3.703459e+00 -4.818482e+00 -4.098071e+00 -3.718571e+00 -4.382180e+00   \n",
      "25%   -6.762054e-01 -6.723128e-01 -6.692260e-01 -6.642894e-01 -6.673506e-01   \n",
      "50%   -3.918727e-03  1.566348e-02 -2.917056e-03  2.970734e-03 -1.382230e-03   \n",
      "75%    6.775905e-01  6.833750e-01  6.727676e-01  6.808087e-01  6.852748e-01   \n",
      "max    3.615862e+00  3.869530e+00  3.896930e+00  3.574420e+00  3.792910e+00   \n",
      "\n",
      "       ...            40            41            42            43  \\\n",
      "count  ...  1.000000e+04  1.000000e+04  1.000000e+04  1.000000e+04   \n",
      "mean   ...  1.525879e-09 -1.663208e-07 -3.433227e-09  8.392334e-09   \n",
      "std    ...  1.000000e+00  9.999999e-01  9.999999e-01  1.000000e+00   \n",
      "min    ... -3.646404e+00 -1.189148e+00 -1.682805e+01 -1.415706e+00   \n",
      "25%    ... -6.828088e-01 -1.121358e+00 -7.156023e-02 -9.948817e-01   \n",
      "50%    ...  7.576330e-03  2.733434e-02  7.643434e-03 -1.816052e-03   \n",
      "75%    ...  6.749770e-01  1.109568e+00  8.942300e-02  1.004951e+00   \n",
      "max    ...  3.816271e+00  1.183760e+00  1.345600e+01  1.405314e+00   \n",
      "\n",
      "                 44            45            46            47            48  \\\n",
      "count  1.000000e+04  1.000000e+04  1.000000e+04  1.000000e+04  1.000000e+04   \n",
      "mean  -6.866455e-09 -4.959106e-09  1.525879e-09 -1.590729e-07  9.536743e-09   \n",
      "std    1.000000e+00  9.999999e-01  9.999999e-01  1.000000e+00  9.999999e-01   \n",
      "min   -3.419286e+00 -3.868590e+00 -1.816297e+01 -1.180515e+00 -3.873722e+00   \n",
      "25%   -6.737434e-01 -6.855524e-01 -7.040170e-02 -8.022718e-01 -6.706180e-01   \n",
      "50%    7.006907e-03 -4.698909e-03  6.429785e-03 -2.361462e-01  4.438895e-03   \n",
      "75%    6.705900e-01  6.831052e-01  7.931628e-02  5.621019e-01  6.646648e-01   \n",
      "max    4.013871e+00  3.736486e+00  1.318171e+01  4.886127e+00  4.081621e+00   \n",
      "\n",
      "                 49  \n",
      "count  1.000000e+04  \n",
      "mean   1.525879e-08  \n",
      "std    1.000000e+00  \n",
      "min   -3.358948e+00  \n",
      "25%   -6.767315e-01  \n",
      "50%   -2.758697e-03  \n",
      "75%    6.797015e-01  \n",
      "max    3.617703e+00  \n",
      "\n",
      "[8 rows x 50 columns]\n"
     ]
    }
   ],
   "source": [
    "Norm = Normalizer(X)\n",
    "X_norm = Norm.normalize(X)\n",
    "print(pd.DataFrame(X_norm.numpy()).describe())"
   ]
  },
  {
   "cell_type": "code",
   "execution_count": 21,
   "id": "ebbd592d",
   "metadata": {},
   "outputs": [
    {
     "name": "stderr",
     "output_type": "stream",
     "text": [
      "<unknown>:16: SyntaxWarning: invalid escape sequence '\\s'\n",
      "<unknown>:16: SyntaxWarning: invalid escape sequence '\\s'\n"
     ]
    },
    {
     "name": "stdout",
     "output_type": "stream",
     "text": [
      "The autoreload extension is already loaded. To reload it, use:\n",
      "  %reload_ext autoreload\n",
      "Epoch 1/100\n"
     ]
    },
    {
     "name": "stderr",
     "output_type": "stream",
     "text": [
      "  0%|          | 0/125 [00:00<?, ?it/s]"
     ]
    },
    {
     "name": "stdout",
     "output_type": "stream",
     "text": [
      "Step 0 (N samples: 0), Loss: 2.3647 (Recon: 2.3531, KL: 0.0115) Grad: 0.2794\n"
     ]
    },
    {
     "name": "stderr",
     "output_type": "stream",
     "text": [
      " 84%|████████▍ | 105/125 [00:01<00:00, 99.86it/s]"
     ]
    },
    {
     "name": "stdout",
     "output_type": "stream",
     "text": [
      "Step 100 (N samples: 6,400), Loss: 1.0830 (Recon: 1.0296, KL: 0.0534) Grad: 0.3771\n"
     ]
    },
    {
     "name": "stderr",
     "output_type": "stream",
     "text": [
      "100%|██████████| 125/125 [00:01<00:00, 96.10it/s]\n",
      "Testing: 100%|██████████| 16/16 [00:00<00:00, 269.63it/s]\n"
     ]
    },
    {
     "name": "stdout",
     "output_type": "stream",
     "text": [
      "====> Test set loss: 0.9164 (MSE: 0.8453, KLD: 0.0710)\n",
      "Epoch 2/100\n"
     ]
    },
    {
     "name": "stderr",
     "output_type": "stream",
     "text": [
      " 70%|███████   | 88/125 [00:00<00:00, 102.89it/s]"
     ]
    },
    {
     "name": "stdout",
     "output_type": "stream",
     "text": [
      "Step 200 (N samples: 12,800), Loss: 0.9238 (Recon: 0.8620, KL: 0.0617) Grad: 0.5423\n"
     ]
    },
    {
     "name": "stderr",
     "output_type": "stream",
     "text": [
      "100%|██████████| 125/125 [00:01<00:00, 103.38it/s]\n",
      "Testing: 100%|██████████| 16/16 [00:00<00:00, 350.25it/s]\n"
     ]
    },
    {
     "name": "stdout",
     "output_type": "stream",
     "text": [
      "====> Test set loss: 0.8255 (MSE: 0.7680, KLD: 0.0575)\n",
      "Epoch 3/100\n"
     ]
    },
    {
     "name": "stderr",
     "output_type": "stream",
     "text": [
      " 48%|████▊     | 60/125 [00:00<00:00, 109.55it/s]"
     ]
    },
    {
     "name": "stdout",
     "output_type": "stream",
     "text": [
      "Step 300 (N samples: 19,200), Loss: 0.9250 (Recon: 0.8706, KL: 0.0544) Grad: 0.4188\n"
     ]
    },
    {
     "name": "stderr",
     "output_type": "stream",
     "text": [
      "100%|██████████| 125/125 [00:01<00:00, 112.19it/s]\n",
      "Testing: 100%|██████████| 16/16 [00:00<00:00, 397.15it/s]\n"
     ]
    },
    {
     "name": "stdout",
     "output_type": "stream",
     "text": [
      "====> Test set loss: 0.7690 (MSE: 0.7117, KLD: 0.0573)\n",
      "Epoch 4/100\n"
     ]
    },
    {
     "name": "stderr",
     "output_type": "stream",
     "text": [
      " 30%|██▉       | 37/125 [00:00<00:00, 118.72it/s]"
     ]
    },
    {
     "name": "stdout",
     "output_type": "stream",
     "text": [
      "Step 400 (N samples: 25,600), Loss: 0.7823 (Recon: 0.7316, KL: 0.0507) Grad: 0.3815\n"
     ]
    },
    {
     "name": "stderr",
     "output_type": "stream",
     "text": [
      "100%|██████████| 125/125 [00:01<00:00, 107.43it/s]\n",
      "Testing: 100%|██████████| 16/16 [00:00<00:00, 341.31it/s]\n"
     ]
    },
    {
     "name": "stdout",
     "output_type": "stream",
     "text": [
      "====> Test set loss: 0.7607 (MSE: 0.7091, KLD: 0.0516)\n",
      "Epoch 5/100\n"
     ]
    },
    {
     "name": "stderr",
     "output_type": "stream",
     "text": [
      "  8%|▊         | 10/125 [00:00<00:01, 97.46it/s]"
     ]
    },
    {
     "name": "stdout",
     "output_type": "stream",
     "text": [
      "Step 500 (N samples: 32,000), Loss: 0.9180 (Recon: 0.8701, KL: 0.0479) Grad: 0.8001\n"
     ]
    },
    {
     "name": "stderr",
     "output_type": "stream",
     "text": [
      " 89%|████████▉ | 111/125 [00:00<00:00, 117.70it/s]"
     ]
    },
    {
     "name": "stdout",
     "output_type": "stream",
     "text": [
      "Step 600 (N samples: 38,400), Loss: 0.7921 (Recon: 0.7393, KL: 0.0529) Grad: 0.5139\n"
     ]
    },
    {
     "name": "stderr",
     "output_type": "stream",
     "text": [
      "100%|██████████| 125/125 [00:01<00:00, 114.37it/s]\n",
      "Testing: 100%|██████████| 16/16 [00:00<00:00, 340.43it/s]\n"
     ]
    },
    {
     "name": "stdout",
     "output_type": "stream",
     "text": [
      "====> Test set loss: 0.7549 (MSE: 0.7061, KLD: 0.0488)\n",
      "Epoch 6/100\n"
     ]
    },
    {
     "name": "stderr",
     "output_type": "stream",
     "text": [
      " 78%|███████▊  | 98/125 [00:00<00:00, 116.92it/s]"
     ]
    },
    {
     "name": "stdout",
     "output_type": "stream",
     "text": [
      "Step 700 (N samples: 44,800), Loss: 0.7676 (Recon: 0.7179, KL: 0.0497) Grad: 0.7203\n"
     ]
    },
    {
     "name": "stderr",
     "output_type": "stream",
     "text": [
      "100%|██████████| 125/125 [00:01<00:00, 112.87it/s]\n",
      "Testing: 100%|██████████| 16/16 [00:00<00:00, 343.41it/s]\n"
     ]
    },
    {
     "name": "stdout",
     "output_type": "stream",
     "text": [
      "====> Test set loss: 0.7544 (MSE: 0.7028, KLD: 0.0516)\n",
      "Epoch 7/100\n"
     ]
    },
    {
     "name": "stderr",
     "output_type": "stream",
     "text": [
      " 58%|█████▊    | 73/125 [00:00<00:00, 117.03it/s]"
     ]
    },
    {
     "name": "stdout",
     "output_type": "stream",
     "text": [
      "Step 800 (N samples: 51,200), Loss: 0.8335 (Recon: 0.7904, KL: 0.0431) Grad: 0.2536\n"
     ]
    },
    {
     "name": "stderr",
     "output_type": "stream",
     "text": [
      "100%|██████████| 125/125 [00:01<00:00, 113.95it/s]\n",
      "Testing: 100%|██████████| 16/16 [00:00<00:00, 459.29it/s]\n"
     ]
    },
    {
     "name": "stdout",
     "output_type": "stream",
     "text": [
      "====> Test set loss: 0.7451 (MSE: 0.6944, KLD: 0.0508)\n",
      "Epoch 8/100\n"
     ]
    },
    {
     "name": "stderr",
     "output_type": "stream",
     "text": [
      " 38%|███▊      | 48/125 [00:00<00:00, 119.47it/s]"
     ]
    },
    {
     "name": "stdout",
     "output_type": "stream",
     "text": [
      "Step 900 (N samples: 57,600), Loss: 0.7362 (Recon: 0.6862, KL: 0.0500) Grad: 0.5259\n"
     ]
    },
    {
     "name": "stderr",
     "output_type": "stream",
     "text": [
      "100%|██████████| 125/125 [00:01<00:00, 117.38it/s]\n",
      "Testing: 100%|██████████| 16/16 [00:00<00:00, 389.31it/s]\n"
     ]
    },
    {
     "name": "stdout",
     "output_type": "stream",
     "text": [
      "====> Test set loss: 0.7174 (MSE: 0.6570, KLD: 0.0604)\n",
      "Epoch 9/100\n"
     ]
    },
    {
     "name": "stderr",
     "output_type": "stream",
     "text": [
      "  9%|▉         | 11/125 [00:00<00:01, 107.96it/s]"
     ]
    },
    {
     "name": "stdout",
     "output_type": "stream",
     "text": [
      "Step 1,000 (N samples: 64,000), Loss: 0.7790 (Recon: 0.7209, KL: 0.0581) Grad: 1.2255\n"
     ]
    },
    {
     "name": "stderr",
     "output_type": "stream",
     "text": [
      " 89%|████████▉ | 111/125 [00:00<00:00, 111.31it/s]"
     ]
    },
    {
     "name": "stdout",
     "output_type": "stream",
     "text": [
      "Step 1,100 (N samples: 70,400), Loss: 0.6578 (Recon: 0.5802, KL: 0.0777) Grad: 0.5710\n"
     ]
    },
    {
     "name": "stderr",
     "output_type": "stream",
     "text": [
      "100%|██████████| 125/125 [00:01<00:00, 114.98it/s]\n",
      "Testing: 100%|██████████| 16/16 [00:00<00:00, 287.79it/s]\n"
     ]
    },
    {
     "name": "stdout",
     "output_type": "stream",
     "text": [
      "====> Test set loss: 0.6937 (MSE: 0.6052, KLD: 0.0885)\n",
      "Epoch 10/100\n"
     ]
    },
    {
     "name": "stderr",
     "output_type": "stream",
     "text": [
      " 68%|██████▊   | 85/125 [00:00<00:00, 110.27it/s]"
     ]
    },
    {
     "name": "stdout",
     "output_type": "stream",
     "text": [
      "Step 1,200 (N samples: 76,800), Loss: 0.6471 (Recon: 0.5555, KL: 0.0916) Grad: 0.6019\n"
     ]
    },
    {
     "name": "stderr",
     "output_type": "stream",
     "text": [
      "100%|██████████| 125/125 [00:01<00:00, 105.74it/s]\n",
      "Testing: 100%|██████████| 16/16 [00:00<00:00, 341.72it/s]\n"
     ]
    },
    {
     "name": "stdout",
     "output_type": "stream",
     "text": [
      "====> Test set loss: 0.6328 (MSE: 0.5419, KLD: 0.0909)\n",
      "Epoch 11/100\n"
     ]
    },
    {
     "name": "stderr",
     "output_type": "stream",
     "text": [
      " 50%|█████     | 63/125 [00:00<00:00, 108.89it/s]"
     ]
    },
    {
     "name": "stdout",
     "output_type": "stream",
     "text": [
      "Step 1,300 (N samples: 83,200), Loss: 0.5930 (Recon: 0.5071, KL: 0.0858) Grad: 1.1078\n"
     ]
    },
    {
     "name": "stderr",
     "output_type": "stream",
     "text": [
      "100%|██████████| 125/125 [00:01<00:00, 107.67it/s]\n",
      "Testing: 100%|██████████| 16/16 [00:00<00:00, 422.75it/s]\n"
     ]
    },
    {
     "name": "stdout",
     "output_type": "stream",
     "text": [
      "====> Test set loss: 0.5662 (MSE: 0.4976, KLD: 0.0686)\n",
      "Epoch 12/100\n"
     ]
    },
    {
     "name": "stderr",
     "output_type": "stream",
     "text": [
      " 39%|███▉      | 49/125 [00:00<00:00, 116.50it/s]"
     ]
    },
    {
     "name": "stdout",
     "output_type": "stream",
     "text": [
      "Step 1,400 (N samples: 89,600), Loss: 0.5436 (Recon: 0.4731, KL: 0.0705) Grad: 0.9091\n"
     ]
    },
    {
     "name": "stderr",
     "output_type": "stream",
     "text": [
      "100%|██████████| 125/125 [00:01<00:00, 115.94it/s]\n",
      "Testing: 100%|██████████| 16/16 [00:00<00:00, 335.08it/s]\n"
     ]
    },
    {
     "name": "stdout",
     "output_type": "stream",
     "text": [
      "====> Test set loss: 0.5378 (MSE: 0.4731, KLD: 0.0647)\n",
      "Epoch 13/100\n"
     ]
    },
    {
     "name": "stderr",
     "output_type": "stream",
     "text": [
      " 10%|▉         | 12/125 [00:00<00:00, 119.23it/s]"
     ]
    },
    {
     "name": "stdout",
     "output_type": "stream",
     "text": [
      "Step 1,500 (N samples: 96,000), Loss: 0.5741 (Recon: 0.5119, KL: 0.0622) Grad: 0.5852\n"
     ]
    },
    {
     "name": "stderr",
     "output_type": "stream",
     "text": [
      " 95%|█████████▌| 119/125 [00:01<00:00, 109.45it/s]"
     ]
    },
    {
     "name": "stdout",
     "output_type": "stream",
     "text": [
      "Step 1,600 (N samples: 102,400), Loss: 0.5132 (Recon: 0.4468, KL: 0.0664) Grad: 0.4379\n"
     ]
    },
    {
     "name": "stderr",
     "output_type": "stream",
     "text": [
      "100%|██████████| 125/125 [00:01<00:00, 105.42it/s]\n",
      "Testing: 100%|██████████| 16/16 [00:00<00:00, 351.95it/s]\n"
     ]
    },
    {
     "name": "stdout",
     "output_type": "stream",
     "text": [
      "====> Test set loss: 0.5444 (MSE: 0.4833, KLD: 0.0611)\n",
      "Epoch 14/100\n"
     ]
    },
    {
     "name": "stderr",
     "output_type": "stream",
     "text": [
      " 70%|██████▉   | 87/125 [00:00<00:00, 115.22it/s]"
     ]
    },
    {
     "name": "stdout",
     "output_type": "stream",
     "text": [
      "Step 1,700 (N samples: 108,800), Loss: 0.5067 (Recon: 0.4516, KL: 0.0551) Grad: 0.5238\n"
     ]
    },
    {
     "name": "stderr",
     "output_type": "stream",
     "text": [
      "100%|██████████| 125/125 [00:01<00:00, 109.93it/s]\n",
      "Testing: 100%|██████████| 16/16 [00:00<00:00, 417.19it/s]\n"
     ]
    },
    {
     "name": "stdout",
     "output_type": "stream",
     "text": [
      "====> Test set loss: 0.5275 (MSE: 0.4592, KLD: 0.0683)\n",
      "Epoch 15/100\n"
     ]
    },
    {
     "name": "stderr",
     "output_type": "stream",
     "text": [
      " 61%|██████    | 76/125 [00:00<00:00, 116.30it/s]"
     ]
    },
    {
     "name": "stdout",
     "output_type": "stream",
     "text": [
      "Step 1,800 (N samples: 115,200), Loss: 0.5768 (Recon: 0.5149, KL: 0.0619) Grad: 0.6015\n"
     ]
    },
    {
     "name": "stderr",
     "output_type": "stream",
     "text": [
      "100%|██████████| 125/125 [00:01<00:00, 116.09it/s]\n",
      "Testing: 100%|██████████| 16/16 [00:00<00:00, 325.56it/s]\n"
     ]
    },
    {
     "name": "stdout",
     "output_type": "stream",
     "text": [
      "====> Test set loss: 0.5195 (MSE: 0.4551, KLD: 0.0644)\n",
      "Epoch 16/100\n"
     ]
    },
    {
     "name": "stderr",
     "output_type": "stream",
     "text": [
      " 30%|██▉       | 37/125 [00:00<00:00, 115.68it/s]"
     ]
    },
    {
     "name": "stdout",
     "output_type": "stream",
     "text": [
      "Step 1,900 (N samples: 121,600), Loss: 0.4930 (Recon: 0.4278, KL: 0.0652) Grad: 0.6463\n"
     ]
    },
    {
     "name": "stderr",
     "output_type": "stream",
     "text": [
      "100%|██████████| 125/125 [00:01<00:00, 114.14it/s]\n",
      "Testing: 100%|██████████| 16/16 [00:00<00:00, 345.36it/s]\n"
     ]
    },
    {
     "name": "stdout",
     "output_type": "stream",
     "text": [
      "====> Test set loss: 0.5137 (MSE: 0.4483, KLD: 0.0654)\n",
      "Epoch 17/100\n"
     ]
    },
    {
     "name": "stderr",
     "output_type": "stream",
     "text": [
      "  9%|▉         | 11/125 [00:00<00:01, 101.29it/s]"
     ]
    },
    {
     "name": "stdout",
     "output_type": "stream",
     "text": [
      "Step 2,000 (N samples: 128,000), Loss: 0.5126 (Recon: 0.4471, KL: 0.0656) Grad: 0.3513\n"
     ]
    },
    {
     "name": "stderr",
     "output_type": "stream",
     "text": [
      " 90%|████████▉ | 112/125 [00:00<00:00, 119.22it/s]"
     ]
    },
    {
     "name": "stdout",
     "output_type": "stream",
     "text": [
      "Step 2,100 (N samples: 134,400), Loss: 0.5704 (Recon: 0.5043, KL: 0.0661) Grad: 0.9135\n"
     ]
    },
    {
     "name": "stderr",
     "output_type": "stream",
     "text": [
      "100%|██████████| 125/125 [00:01<00:00, 114.90it/s]\n",
      "Testing: 100%|██████████| 16/16 [00:00<00:00, 386.88it/s]\n"
     ]
    },
    {
     "name": "stdout",
     "output_type": "stream",
     "text": [
      "====> Test set loss: 0.5119 (MSE: 0.4457, KLD: 0.0662)\n",
      "Epoch 18/100\n"
     ]
    },
    {
     "name": "stderr",
     "output_type": "stream",
     "text": [
      " 69%|██████▉   | 86/125 [00:00<00:00, 109.62it/s]"
     ]
    },
    {
     "name": "stdout",
     "output_type": "stream",
     "text": [
      "Step 2,200 (N samples: 140,800), Loss: 0.5364 (Recon: 0.4680, KL: 0.0684) Grad: 0.5586\n"
     ]
    },
    {
     "name": "stderr",
     "output_type": "stream",
     "text": [
      "100%|██████████| 125/125 [00:01<00:00, 113.56it/s]\n",
      "Testing: 100%|██████████| 16/16 [00:00<00:00, 358.14it/s]\n"
     ]
    },
    {
     "name": "stdout",
     "output_type": "stream",
     "text": [
      "====> Test set loss: 0.5187 (MSE: 0.4518, KLD: 0.0669)\n",
      "Epoch 19/100\n"
     ]
    },
    {
     "name": "stderr",
     "output_type": "stream",
     "text": [
      " 50%|█████     | 63/125 [00:00<00:00, 95.28it/s] "
     ]
    },
    {
     "name": "stdout",
     "output_type": "stream",
     "text": [
      "Step 2,300 (N samples: 147,200), Loss: 0.5285 (Recon: 0.4632, KL: 0.0653) Grad: 0.7002\n"
     ]
    },
    {
     "name": "stderr",
     "output_type": "stream",
     "text": [
      "100%|██████████| 125/125 [00:01<00:00, 105.89it/s]\n",
      "Testing: 100%|██████████| 16/16 [00:00<00:00, 453.55it/s]\n"
     ]
    },
    {
     "name": "stdout",
     "output_type": "stream",
     "text": [
      "====> Test set loss: 0.5070 (MSE: 0.4434, KLD: 0.0636)\n",
      "Epoch 20/100\n"
     ]
    },
    {
     "name": "stderr",
     "output_type": "stream",
     "text": [
      " 29%|██▉       | 36/125 [00:00<00:00, 116.98it/s]"
     ]
    },
    {
     "name": "stdout",
     "output_type": "stream",
     "text": [
      "Step 2,400 (N samples: 153,600), Loss: 0.4898 (Recon: 0.4194, KL: 0.0704) Grad: 0.4063\n"
     ]
    },
    {
     "name": "stderr",
     "output_type": "stream",
     "text": [
      "100%|██████████| 125/125 [00:01<00:00, 118.00it/s]\n",
      "Testing: 100%|██████████| 16/16 [00:00<00:00, 453.14it/s]\n"
     ]
    },
    {
     "name": "stdout",
     "output_type": "stream",
     "text": [
      "====> Test set loss: 0.5122 (MSE: 0.4455, KLD: 0.0667)\n",
      "Epoch 21/100\n"
     ]
    },
    {
     "name": "stderr",
     "output_type": "stream",
     "text": [
      " 10%|▉         | 12/125 [00:00<00:00, 116.67it/s]"
     ]
    },
    {
     "name": "stdout",
     "output_type": "stream",
     "text": [
      "Step 2,500 (N samples: 160,000), Loss: 0.5516 (Recon: 0.4882, KL: 0.0634) Grad: 0.7031\n"
     ]
    },
    {
     "name": "stderr",
     "output_type": "stream",
     "text": [
      "100%|██████████| 125/125 [00:01<00:00, 109.63it/s]"
     ]
    },
    {
     "name": "stdout",
     "output_type": "stream",
     "text": [
      "Step 2,600 (N samples: 166,400), Loss: 0.5122 (Recon: 0.4459, KL: 0.0663) Grad: 0.6228\n"
     ]
    },
    {
     "name": "stderr",
     "output_type": "stream",
     "text": [
      "\n",
      "Testing: 100%|██████████| 16/16 [00:00<00:00, 138.19it/s]\n"
     ]
    },
    {
     "name": "stdout",
     "output_type": "stream",
     "text": [
      "====> Test set loss: 0.5015 (MSE: 0.4375, KLD: 0.0641)\n",
      "Epoch 22/100\n"
     ]
    },
    {
     "name": "stderr",
     "output_type": "stream",
     "text": [
      " 73%|███████▎  | 91/125 [00:00<00:00, 116.44it/s]"
     ]
    },
    {
     "name": "stdout",
     "output_type": "stream",
     "text": [
      "Step 2,700 (N samples: 172,800), Loss: 0.4968 (Recon: 0.4328, KL: 0.0640) Grad: 0.3230\n"
     ]
    },
    {
     "name": "stderr",
     "output_type": "stream",
     "text": [
      "100%|██████████| 125/125 [00:01<00:00, 108.42it/s]\n",
      "Testing: 100%|██████████| 16/16 [00:00<00:00, 409.83it/s]\n"
     ]
    },
    {
     "name": "stdout",
     "output_type": "stream",
     "text": [
      "====> Test set loss: 0.5028 (MSE: 0.4380, KLD: 0.0649)\n",
      "Epoch 23/100\n"
     ]
    },
    {
     "name": "stderr",
     "output_type": "stream",
     "text": [
      " 48%|████▊     | 60/125 [00:00<00:00, 112.78it/s]"
     ]
    },
    {
     "name": "stdout",
     "output_type": "stream",
     "text": [
      "Step 2,800 (N samples: 179,200), Loss: 0.4770 (Recon: 0.4151, KL: 0.0619) Grad: 0.2966\n"
     ]
    },
    {
     "name": "stderr",
     "output_type": "stream",
     "text": [
      "100%|██████████| 125/125 [00:01<00:00, 113.83it/s]\n",
      "Testing: 100%|██████████| 16/16 [00:00<00:00, 358.10it/s]\n"
     ]
    },
    {
     "name": "stdout",
     "output_type": "stream",
     "text": [
      "====> Test set loss: 0.5060 (MSE: 0.4423, KLD: 0.0637)\n",
      "Epoch 24/100\n"
     ]
    },
    {
     "name": "stderr",
     "output_type": "stream",
     "text": [
      " 31%|███       | 39/125 [00:00<00:00, 123.84it/s]"
     ]
    },
    {
     "name": "stdout",
     "output_type": "stream",
     "text": [
      "Step 2,900 (N samples: 185,600), Loss: 0.4817 (Recon: 0.4154, KL: 0.0663) Grad: 0.4979\n"
     ]
    },
    {
     "name": "stderr",
     "output_type": "stream",
     "text": [
      "100%|██████████| 125/125 [00:01<00:00, 113.07it/s]\n",
      "Testing: 100%|██████████| 16/16 [00:00<00:00, 387.32it/s]\n"
     ]
    },
    {
     "name": "stdout",
     "output_type": "stream",
     "text": [
      "====> Test set loss: 0.5011 (MSE: 0.4325, KLD: 0.0686)\n",
      "Epoch 25/100\n"
     ]
    },
    {
     "name": "stderr",
     "output_type": "stream",
     "text": [
      " 10%|▉         | 12/125 [00:00<00:00, 113.49it/s]"
     ]
    },
    {
     "name": "stdout",
     "output_type": "stream",
     "text": [
      "Step 3,000 (N samples: 192,000), Loss: 0.5177 (Recon: 0.4528, KL: 0.0648) Grad: 0.5876\n"
     ]
    },
    {
     "name": "stderr",
     "output_type": "stream",
     "text": [
      "100%|██████████| 125/125 [00:01<00:00, 111.29it/s]"
     ]
    },
    {
     "name": "stdout",
     "output_type": "stream",
     "text": [
      "Step 3,100 (N samples: 198,400), Loss: 0.5191 (Recon: 0.4615, KL: 0.0577) Grad: 0.2959\n"
     ]
    },
    {
     "name": "stderr",
     "output_type": "stream",
     "text": [
      "\n",
      "Testing: 100%|██████████| 16/16 [00:00<00:00, 347.44it/s]\n"
     ]
    },
    {
     "name": "stdout",
     "output_type": "stream",
     "text": [
      "====> Test set loss: 0.4969 (MSE: 0.4322, KLD: 0.0647)\n",
      "Epoch 26/100\n"
     ]
    },
    {
     "name": "stderr",
     "output_type": "stream",
     "text": [
      " 77%|███████▋  | 96/125 [00:00<00:00, 116.04it/s]"
     ]
    },
    {
     "name": "stdout",
     "output_type": "stream",
     "text": [
      "Step 3,200 (N samples: 204,800), Loss: 0.5051 (Recon: 0.4429, KL: 0.0622) Grad: 0.3146\n"
     ]
    },
    {
     "name": "stderr",
     "output_type": "stream",
     "text": [
      "100%|██████████| 125/125 [00:01<00:00, 113.99it/s]\n",
      "Testing: 100%|██████████| 16/16 [00:00<00:00, 396.19it/s]\n"
     ]
    },
    {
     "name": "stdout",
     "output_type": "stream",
     "text": [
      "====> Test set loss: 0.4989 (MSE: 0.4345, KLD: 0.0644)\n",
      "Epoch 27/100\n"
     ]
    },
    {
     "name": "stderr",
     "output_type": "stream",
     "text": [
      " 50%|█████     | 63/125 [00:00<00:00, 112.93it/s]"
     ]
    },
    {
     "name": "stdout",
     "output_type": "stream",
     "text": [
      "Step 3,300 (N samples: 211,200), Loss: 0.4850 (Recon: 0.4212, KL: 0.0638) Grad: 0.3550\n"
     ]
    },
    {
     "name": "stderr",
     "output_type": "stream",
     "text": [
      "100%|██████████| 125/125 [00:01<00:00, 112.05it/s]\n",
      "Testing: 100%|██████████| 16/16 [00:00<00:00, 310.80it/s]\n"
     ]
    },
    {
     "name": "stdout",
     "output_type": "stream",
     "text": [
      "====> Test set loss: 0.4971 (MSE: 0.4298, KLD: 0.0672)\n",
      "Epoch 28/100\n"
     ]
    },
    {
     "name": "stderr",
     "output_type": "stream",
     "text": [
      " 32%|███▏      | 40/125 [00:00<00:00, 94.92it/s]"
     ]
    },
    {
     "name": "stdout",
     "output_type": "stream",
     "text": [
      "Step 3,400 (N samples: 217,600), Loss: 0.4807 (Recon: 0.4145, KL: 0.0662) Grad: 0.4161\n"
     ]
    },
    {
     "name": "stderr",
     "output_type": "stream",
     "text": [
      "100%|██████████| 125/125 [00:01<00:00, 102.65it/s]\n",
      "Testing: 100%|██████████| 16/16 [00:00<00:00, 343.72it/s]\n"
     ]
    },
    {
     "name": "stdout",
     "output_type": "stream",
     "text": [
      "====> Test set loss: 0.4958 (MSE: 0.4301, KLD: 0.0657)\n",
      "Epoch 29/100\n"
     ]
    },
    {
     "name": "stderr",
     "output_type": "stream",
     "text": [
      " 10%|█         | 13/125 [00:00<00:00, 120.93it/s]"
     ]
    },
    {
     "name": "stdout",
     "output_type": "stream",
     "text": [
      "Step 3,500 (N samples: 224,000), Loss: 0.4771 (Recon: 0.4146, KL: 0.0625) Grad: 0.4971\n"
     ]
    },
    {
     "name": "stderr",
     "output_type": "stream",
     "text": [
      " 91%|█████████ | 114/125 [00:00<00:00, 120.68it/s]"
     ]
    },
    {
     "name": "stdout",
     "output_type": "stream",
     "text": [
      "Step 3,600 (N samples: 230,400), Loss: 0.4772 (Recon: 0.4114, KL: 0.0658) Grad: 0.4383\n"
     ]
    },
    {
     "name": "stderr",
     "output_type": "stream",
     "text": [
      "100%|██████████| 125/125 [00:01<00:00, 116.76it/s]\n",
      "Testing: 100%|██████████| 16/16 [00:00<00:00, 424.58it/s]\n"
     ]
    },
    {
     "name": "stdout",
     "output_type": "stream",
     "text": [
      "====> Test set loss: 0.4907 (MSE: 0.4210, KLD: 0.0697)\n",
      "Epoch 30/100\n"
     ]
    },
    {
     "name": "stderr",
     "output_type": "stream",
     "text": [
      " 74%|███████▎  | 92/125 [00:00<00:00, 112.09it/s]"
     ]
    },
    {
     "name": "stdout",
     "output_type": "stream",
     "text": [
      "Step 3,700 (N samples: 236,800), Loss: 0.5086 (Recon: 0.4468, KL: 0.0619) Grad: 0.2807\n"
     ]
    },
    {
     "name": "stderr",
     "output_type": "stream",
     "text": [
      "100%|██████████| 125/125 [00:01<00:00, 106.35it/s]\n",
      "Testing: 100%|██████████| 16/16 [00:00<00:00, 336.12it/s]\n"
     ]
    },
    {
     "name": "stdout",
     "output_type": "stream",
     "text": [
      "====> Test set loss: 0.4852 (MSE: 0.4165, KLD: 0.0687)\n",
      "Epoch 31/100\n"
     ]
    },
    {
     "name": "stderr",
     "output_type": "stream",
     "text": [
      " 54%|█████▎    | 67/125 [00:00<00:00, 107.04it/s]"
     ]
    },
    {
     "name": "stdout",
     "output_type": "stream",
     "text": [
      "Step 3,800 (N samples: 243,200), Loss: 0.5135 (Recon: 0.4483, KL: 0.0652) Grad: 0.7047\n"
     ]
    },
    {
     "name": "stderr",
     "output_type": "stream",
     "text": [
      "100%|██████████| 125/125 [00:01<00:00, 109.26it/s]\n",
      "Testing: 100%|██████████| 16/16 [00:00<00:00, 321.01it/s]\n"
     ]
    },
    {
     "name": "stdout",
     "output_type": "stream",
     "text": [
      "====> Test set loss: 0.4846 (MSE: 0.4127, KLD: 0.0719)\n",
      "Epoch 32/100\n"
     ]
    },
    {
     "name": "stderr",
     "output_type": "stream",
     "text": [
      " 34%|███▎      | 42/125 [00:00<00:00, 98.43it/s] "
     ]
    },
    {
     "name": "stdout",
     "output_type": "stream",
     "text": [
      "Step 3,900 (N samples: 249,600), Loss: 0.5138 (Recon: 0.4465, KL: 0.0674) Grad: 0.4258\n"
     ]
    },
    {
     "name": "stderr",
     "output_type": "stream",
     "text": [
      "100%|██████████| 125/125 [00:01<00:00, 109.30it/s]\n",
      "Testing: 100%|██████████| 16/16 [00:00<00:00, 381.95it/s]\n"
     ]
    },
    {
     "name": "stdout",
     "output_type": "stream",
     "text": [
      "====> Test set loss: 0.4781 (MSE: 0.4086, KLD: 0.0695)\n",
      "Epoch 33/100\n"
     ]
    },
    {
     "name": "stderr",
     "output_type": "stream",
     "text": [
      " 10%|▉         | 12/125 [00:00<00:01, 112.19it/s]"
     ]
    },
    {
     "name": "stdout",
     "output_type": "stream",
     "text": [
      "Step 4,000 (N samples: 256,000), Loss: 0.4944 (Recon: 0.4236, KL: 0.0708) Grad: 0.4813\n"
     ]
    },
    {
     "name": "stderr",
     "output_type": "stream",
     "text": [
      " 97%|█████████▋| 121/125 [00:01<00:00, 112.16it/s]"
     ]
    },
    {
     "name": "stdout",
     "output_type": "stream",
     "text": [
      "Step 4,100 (N samples: 262,400), Loss: 0.4591 (Recon: 0.3860, KL: 0.0730) Grad: 0.7786\n"
     ]
    },
    {
     "name": "stderr",
     "output_type": "stream",
     "text": [
      "100%|██████████| 125/125 [00:01<00:00, 111.33it/s]\n",
      "Testing: 100%|██████████| 16/16 [00:00<00:00, 294.78it/s]\n"
     ]
    },
    {
     "name": "stdout",
     "output_type": "stream",
     "text": [
      "====> Test set loss: 0.4820 (MSE: 0.4085, KLD: 0.0735)\n",
      "Epoch 34/100\n"
     ]
    },
    {
     "name": "stderr",
     "output_type": "stream",
     "text": [
      " 72%|███████▏  | 90/125 [00:00<00:00, 113.64it/s]"
     ]
    },
    {
     "name": "stdout",
     "output_type": "stream",
     "text": [
      "Step 4,200 (N samples: 268,800), Loss: 0.5030 (Recon: 0.4312, KL: 0.0718) Grad: 1.0250\n"
     ]
    },
    {
     "name": "stderr",
     "output_type": "stream",
     "text": [
      "100%|██████████| 125/125 [00:01<00:00, 115.23it/s]\n",
      "Testing: 100%|██████████| 16/16 [00:00<00:00, 397.34it/s]\n"
     ]
    },
    {
     "name": "stdout",
     "output_type": "stream",
     "text": [
      "====> Test set loss: 0.4774 (MSE: 0.4039, KLD: 0.0735)\n",
      "Epoch 35/100\n"
     ]
    },
    {
     "name": "stderr",
     "output_type": "stream",
     "text": [
      " 50%|████▉     | 62/125 [00:00<00:00, 115.59it/s]"
     ]
    },
    {
     "name": "stdout",
     "output_type": "stream",
     "text": [
      "Step 4,300 (N samples: 275,200), Loss: 0.4460 (Recon: 0.3704, KL: 0.0756) Grad: 0.3931\n"
     ]
    },
    {
     "name": "stderr",
     "output_type": "stream",
     "text": [
      "100%|██████████| 125/125 [00:01<00:00, 111.17it/s]\n",
      "Testing: 100%|██████████| 16/16 [00:00<00:00, 313.12it/s]\n"
     ]
    },
    {
     "name": "stdout",
     "output_type": "stream",
     "text": [
      "====> Test set loss: 0.4709 (MSE: 0.4017, KLD: 0.0692)\n",
      "Epoch 36/100\n"
     ]
    },
    {
     "name": "stderr",
     "output_type": "stream",
     "text": [
      " 29%|██▉       | 36/125 [00:00<00:00, 109.65it/s]"
     ]
    },
    {
     "name": "stdout",
     "output_type": "stream",
     "text": [
      "Step 4,400 (N samples: 281,600), Loss: 0.5085 (Recon: 0.4472, KL: 0.0613) Grad: 0.3706\n"
     ]
    },
    {
     "name": "stderr",
     "output_type": "stream",
     "text": [
      "100%|██████████| 125/125 [00:01<00:00, 103.58it/s]\n",
      "Testing: 100%|██████████| 16/16 [00:00<00:00, 252.87it/s]\n"
     ]
    },
    {
     "name": "stdout",
     "output_type": "stream",
     "text": [
      "====> Test set loss: 0.4718 (MSE: 0.4011, KLD: 0.0707)\n",
      "Epoch 37/100\n"
     ]
    },
    {
     "name": "stderr",
     "output_type": "stream",
     "text": [
      "  8%|▊         | 10/125 [00:00<00:01, 95.65it/s]"
     ]
    },
    {
     "name": "stdout",
     "output_type": "stream",
     "text": [
      "Step 4,500 (N samples: 288,000), Loss: 0.4660 (Recon: 0.3972, KL: 0.0688) Grad: 0.4378\n"
     ]
    },
    {
     "name": "stderr",
     "output_type": "stream",
     "text": [
      "100%|██████████| 125/125 [00:01<00:00, 111.49it/s]"
     ]
    },
    {
     "name": "stdout",
     "output_type": "stream",
     "text": [
      "Step 4,600 (N samples: 294,400), Loss: 0.4792 (Recon: 0.4045, KL: 0.0747) Grad: 0.4936\n"
     ]
    },
    {
     "name": "stderr",
     "output_type": "stream",
     "text": [
      "\n",
      "Testing: 100%|██████████| 16/16 [00:00<00:00, 359.83it/s]\n"
     ]
    },
    {
     "name": "stdout",
     "output_type": "stream",
     "text": [
      "====> Test set loss: 0.4787 (MSE: 0.4103, KLD: 0.0684)\n",
      "Epoch 38/100\n"
     ]
    },
    {
     "name": "stderr",
     "output_type": "stream",
     "text": [
      " 78%|███████▊  | 98/125 [00:00<00:00, 113.66it/s]"
     ]
    },
    {
     "name": "stdout",
     "output_type": "stream",
     "text": [
      "Step 4,700 (N samples: 300,800), Loss: 0.4867 (Recon: 0.4204, KL: 0.0663) Grad: 0.3519\n"
     ]
    },
    {
     "name": "stderr",
     "output_type": "stream",
     "text": [
      "100%|██████████| 125/125 [00:01<00:00, 104.27it/s]\n",
      "Testing: 100%|██████████| 16/16 [00:00<00:00, 295.48it/s]\n"
     ]
    },
    {
     "name": "stdout",
     "output_type": "stream",
     "text": [
      "====> Test set loss: 0.4681 (MSE: 0.4006, KLD: 0.0675)\n",
      "Epoch 39/100\n"
     ]
    },
    {
     "name": "stderr",
     "output_type": "stream",
     "text": [
      " 46%|████▋     | 58/125 [00:00<00:00, 111.29it/s]"
     ]
    },
    {
     "name": "stdout",
     "output_type": "stream",
     "text": [
      "Step 4,800 (N samples: 307,200), Loss: 0.4877 (Recon: 0.4125, KL: 0.0752) Grad: 0.6390\n"
     ]
    },
    {
     "name": "stderr",
     "output_type": "stream",
     "text": [
      "100%|██████████| 125/125 [00:01<00:00, 96.10it/s]\n",
      "Testing: 100%|██████████| 16/16 [00:00<00:00, 405.57it/s]\n"
     ]
    },
    {
     "name": "stdout",
     "output_type": "stream",
     "text": [
      "====> Test set loss: 0.4667 (MSE: 0.3934, KLD: 0.0733)\n",
      "Epoch 40/100\n"
     ]
    },
    {
     "name": "stderr",
     "output_type": "stream",
     "text": [
      " 32%|███▏      | 40/125 [00:00<00:00, 91.09it/s]"
     ]
    },
    {
     "name": "stdout",
     "output_type": "stream",
     "text": [
      "Step 4,900 (N samples: 313,600), Loss: 0.4983 (Recon: 0.4283, KL: 0.0700) Grad: 0.4256\n"
     ]
    },
    {
     "name": "stderr",
     "output_type": "stream",
     "text": [
      "100%|██████████| 125/125 [00:01<00:00, 103.87it/s]\n",
      "Testing: 100%|██████████| 16/16 [00:00<00:00, 416.99it/s]\n"
     ]
    },
    {
     "name": "stdout",
     "output_type": "stream",
     "text": [
      "====> Test set loss: 0.4716 (MSE: 0.4010, KLD: 0.0706)\n",
      "Epoch 41/100\n"
     ]
    },
    {
     "name": "stderr",
     "output_type": "stream",
     "text": [
      "  9%|▉         | 11/125 [00:00<00:01, 105.82it/s]"
     ]
    },
    {
     "name": "stdout",
     "output_type": "stream",
     "text": [
      "Step 5,000 (N samples: 320,000), Loss: 0.5020 (Recon: 0.4363, KL: 0.0657) Grad: 0.3949\n"
     ]
    },
    {
     "name": "stderr",
     "output_type": "stream",
     "text": [
      " 97%|█████████▋| 121/125 [00:01<00:00, 111.45it/s]"
     ]
    },
    {
     "name": "stdout",
     "output_type": "stream",
     "text": [
      "Step 5,100 (N samples: 326,400), Loss: 0.4897 (Recon: 0.4208, KL: 0.0689) Grad: 0.6054\n"
     ]
    },
    {
     "name": "stderr",
     "output_type": "stream",
     "text": [
      "100%|██████████| 125/125 [00:01<00:00, 115.25it/s]\n",
      "Testing: 100%|██████████| 16/16 [00:00<00:00, 366.87it/s]\n"
     ]
    },
    {
     "name": "stdout",
     "output_type": "stream",
     "text": [
      "====> Test set loss: 0.4715 (MSE: 0.4020, KLD: 0.0695)\n",
      "Epoch 42/100\n"
     ]
    },
    {
     "name": "stderr",
     "output_type": "stream",
     "text": [
      " 68%|██████▊   | 85/125 [00:00<00:00, 112.10it/s]"
     ]
    },
    {
     "name": "stdout",
     "output_type": "stream",
     "text": [
      "Step 5,200 (N samples: 332,800), Loss: 0.4449 (Recon: 0.3753, KL: 0.0696) Grad: 0.4309\n"
     ]
    },
    {
     "name": "stderr",
     "output_type": "stream",
     "text": [
      "100%|██████████| 125/125 [00:01<00:00, 110.43it/s]\n",
      "Testing: 100%|██████████| 16/16 [00:00<00:00, 377.87it/s]\n"
     ]
    },
    {
     "name": "stdout",
     "output_type": "stream",
     "text": [
      "====> Test set loss: 0.4738 (MSE: 0.4048, KLD: 0.0690)\n",
      "Epoch 43/100\n"
     ]
    },
    {
     "name": "stderr",
     "output_type": "stream",
     "text": [
      " 54%|█████▎    | 67/125 [00:00<00:00, 107.35it/s]"
     ]
    },
    {
     "name": "stdout",
     "output_type": "stream",
     "text": [
      "Step 5,300 (N samples: 339,200), Loss: 0.4467 (Recon: 0.3794, KL: 0.0673) Grad: 0.4102\n"
     ]
    },
    {
     "name": "stderr",
     "output_type": "stream",
     "text": [
      "100%|██████████| 125/125 [00:01<00:00, 106.36it/s]\n",
      "Testing: 100%|██████████| 16/16 [00:00<00:00, 467.96it/s]\n"
     ]
    },
    {
     "name": "stdout",
     "output_type": "stream",
     "text": [
      "====> Test set loss: 0.4652 (MSE: 0.3918, KLD: 0.0734)\n",
      "Epoch 44/100\n"
     ]
    },
    {
     "name": "stderr",
     "output_type": "stream",
     "text": [
      " 28%|██▊       | 35/125 [00:00<00:00, 110.56it/s]"
     ]
    },
    {
     "name": "stdout",
     "output_type": "stream",
     "text": [
      "Step 5,400 (N samples: 345,600), Loss: 0.4939 (Recon: 0.4122, KL: 0.0818) Grad: 0.7260\n"
     ]
    },
    {
     "name": "stderr",
     "output_type": "stream",
     "text": [
      "100%|██████████| 125/125 [00:01<00:00, 105.99it/s]\n",
      "Testing: 100%|██████████| 16/16 [00:00<00:00, 273.15it/s]\n"
     ]
    },
    {
     "name": "stdout",
     "output_type": "stream",
     "text": [
      "====> Test set loss: 0.4654 (MSE: 0.3979, KLD: 0.0675)\n",
      "Epoch 45/100\n"
     ]
    },
    {
     "name": "stderr",
     "output_type": "stream",
     "text": [
      "  9%|▉         | 11/125 [00:00<00:01, 108.72it/s]"
     ]
    },
    {
     "name": "stdout",
     "output_type": "stream",
     "text": [
      "Step 5,500 (N samples: 352,000), Loss: 0.4283 (Recon: 0.3632, KL: 0.0651) Grad: 0.3773\n"
     ]
    },
    {
     "name": "stderr",
     "output_type": "stream",
     "text": [
      " 94%|█████████▎| 117/125 [00:01<00:00, 112.41it/s]"
     ]
    },
    {
     "name": "stdout",
     "output_type": "stream",
     "text": [
      "Step 5,600 (N samples: 358,400), Loss: 0.4633 (Recon: 0.3915, KL: 0.0718) Grad: 0.3735\n"
     ]
    },
    {
     "name": "stderr",
     "output_type": "stream",
     "text": [
      "100%|██████████| 125/125 [00:01<00:00, 108.60it/s]\n",
      "Testing: 100%|██████████| 16/16 [00:00<00:00, 109.95it/s]\n"
     ]
    },
    {
     "name": "stdout",
     "output_type": "stream",
     "text": [
      "====> Test set loss: 0.4673 (MSE: 0.3981, KLD: 0.0693)\n",
      "Epoch 46/100\n"
     ]
    },
    {
     "name": "stderr",
     "output_type": "stream",
     "text": [
      " 70%|███████   | 88/125 [00:00<00:00, 104.33it/s]"
     ]
    },
    {
     "name": "stdout",
     "output_type": "stream",
     "text": [
      "Step 5,700 (N samples: 364,800), Loss: 0.4471 (Recon: 0.3869, KL: 0.0601) Grad: 0.3638\n"
     ]
    },
    {
     "name": "stderr",
     "output_type": "stream",
     "text": [
      "100%|██████████| 125/125 [00:01<00:00, 102.02it/s]\n",
      "Testing: 100%|██████████| 16/16 [00:00<00:00, 307.40it/s]\n"
     ]
    },
    {
     "name": "stdout",
     "output_type": "stream",
     "text": [
      "====> Test set loss: 0.4652 (MSE: 0.3941, KLD: 0.0711)\n",
      "Epoch 47/100\n"
     ]
    },
    {
     "name": "stderr",
     "output_type": "stream",
     "text": [
      " 47%|████▋     | 59/125 [00:00<00:00, 83.28it/s]"
     ]
    },
    {
     "name": "stdout",
     "output_type": "stream",
     "text": [
      "Step 5,800 (N samples: 371,200), Loss: 0.4604 (Recon: 0.3857, KL: 0.0747) Grad: 0.4582\n"
     ]
    },
    {
     "name": "stderr",
     "output_type": "stream",
     "text": [
      "100%|██████████| 125/125 [00:01<00:00, 83.44it/s]\n",
      "Testing: 100%|██████████| 16/16 [00:00<00:00, 282.68it/s]\n"
     ]
    },
    {
     "name": "stdout",
     "output_type": "stream",
     "text": [
      "====> Test set loss: 0.4662 (MSE: 0.3964, KLD: 0.0698)\n",
      "Epoch 48/100\n"
     ]
    },
    {
     "name": "stderr",
     "output_type": "stream",
     "text": [
      " 30%|███       | 38/125 [00:00<00:00, 88.16it/s]"
     ]
    },
    {
     "name": "stdout",
     "output_type": "stream",
     "text": [
      "Step 5,900 (N samples: 377,600), Loss: 0.4753 (Recon: 0.4056, KL: 0.0697) Grad: 0.3739\n"
     ]
    },
    {
     "name": "stderr",
     "output_type": "stream",
     "text": [
      "100%|██████████| 125/125 [00:01<00:00, 81.67it/s]\n",
      "Testing: 100%|██████████| 16/16 [00:00<00:00, 315.97it/s]\n"
     ]
    },
    {
     "name": "stdout",
     "output_type": "stream",
     "text": [
      "====> Test set loss: 0.4590 (MSE: 0.3874, KLD: 0.0716)\n",
      "Epoch 49/100\n"
     ]
    },
    {
     "name": "stderr",
     "output_type": "stream",
     "text": [
      "  8%|▊         | 10/125 [00:00<00:01, 98.04it/s]"
     ]
    },
    {
     "name": "stdout",
     "output_type": "stream",
     "text": [
      "Step 6,000 (N samples: 384,000), Loss: 0.4399 (Recon: 0.3688, KL: 0.0711) Grad: 0.2946\n"
     ]
    },
    {
     "name": "stderr",
     "output_type": "stream",
     "text": [
      " 88%|████████▊ | 110/125 [00:01<00:00, 104.17it/s]"
     ]
    },
    {
     "name": "stdout",
     "output_type": "stream",
     "text": [
      "Step 6,100 (N samples: 390,400), Loss: 0.4342 (Recon: 0.3631, KL: 0.0711) Grad: 0.3982\n"
     ]
    },
    {
     "name": "stderr",
     "output_type": "stream",
     "text": [
      "100%|██████████| 125/125 [00:01<00:00, 102.04it/s]\n",
      "Testing: 100%|██████████| 16/16 [00:00<00:00, 284.24it/s]\n"
     ]
    },
    {
     "name": "stdout",
     "output_type": "stream",
     "text": [
      "====> Test set loss: 0.4680 (MSE: 0.3973, KLD: 0.0708)\n",
      "Epoch 50/100\n"
     ]
    },
    {
     "name": "stderr",
     "output_type": "stream",
     "text": [
      " 78%|███████▊  | 97/125 [00:00<00:00, 113.93it/s]"
     ]
    },
    {
     "name": "stdout",
     "output_type": "stream",
     "text": [
      "Step 6,200 (N samples: 396,800), Loss: 0.4720 (Recon: 0.4016, KL: 0.0704) Grad: 0.9880\n"
     ]
    },
    {
     "name": "stderr",
     "output_type": "stream",
     "text": [
      "100%|██████████| 125/125 [00:01<00:00, 112.16it/s]\n",
      "Testing: 100%|██████████| 16/16 [00:00<00:00, 290.27it/s]\n"
     ]
    },
    {
     "name": "stdout",
     "output_type": "stream",
     "text": [
      "====> Test set loss: 0.4682 (MSE: 0.3940, KLD: 0.0741)\n",
      "Epoch 51/100\n"
     ]
    },
    {
     "name": "stderr",
     "output_type": "stream",
     "text": [
      " 54%|█████▍    | 68/125 [00:00<00:00, 104.72it/s]"
     ]
    },
    {
     "name": "stdout",
     "output_type": "stream",
     "text": [
      "Step 6,300 (N samples: 403,200), Loss: 0.4679 (Recon: 0.3953, KL: 0.0726) Grad: 0.5080\n"
     ]
    },
    {
     "name": "stderr",
     "output_type": "stream",
     "text": [
      "100%|██████████| 125/125 [00:01<00:00, 97.45it/s] \n",
      "Testing: 100%|██████████| 16/16 [00:00<00:00, 281.57it/s]\n"
     ]
    },
    {
     "name": "stdout",
     "output_type": "stream",
     "text": [
      "====> Test set loss: 0.4578 (MSE: 0.3832, KLD: 0.0746)\n",
      "Epoch 52/100\n"
     ]
    },
    {
     "name": "stderr",
     "output_type": "stream",
     "text": [
      " 28%|██▊       | 35/125 [00:00<00:00, 98.25it/s] "
     ]
    },
    {
     "name": "stdout",
     "output_type": "stream",
     "text": [
      "Step 6,400 (N samples: 409,600), Loss: 0.4651 (Recon: 0.4016, KL: 0.0635) Grad: 0.4994\n"
     ]
    },
    {
     "name": "stderr",
     "output_type": "stream",
     "text": [
      "100%|██████████| 125/125 [00:01<00:00, 93.09it/s]\n",
      "Testing: 100%|██████████| 16/16 [00:00<00:00, 378.01it/s]\n"
     ]
    },
    {
     "name": "stdout",
     "output_type": "stream",
     "text": [
      "====> Test set loss: 0.4525 (MSE: 0.3793, KLD: 0.0732)\n",
      "Epoch 53/100\n"
     ]
    },
    {
     "name": "stderr",
     "output_type": "stream",
     "text": [
      "  9%|▉         | 11/125 [00:00<00:01, 102.58it/s]"
     ]
    },
    {
     "name": "stdout",
     "output_type": "stream",
     "text": [
      "Step 6,500 (N samples: 416,000), Loss: 0.4761 (Recon: 0.4045, KL: 0.0716) Grad: 0.3763\n"
     ]
    },
    {
     "name": "stderr",
     "output_type": "stream",
     "text": [
      "100%|██████████| 125/125 [00:01<00:00, 111.66it/s]"
     ]
    },
    {
     "name": "stdout",
     "output_type": "stream",
     "text": [
      "Step 6,600 (N samples: 422,400), Loss: 0.4404 (Recon: 0.3642, KL: 0.0762) Grad: 0.4128\n"
     ]
    },
    {
     "name": "stderr",
     "output_type": "stream",
     "text": [
      "\n",
      "Testing: 100%|██████████| 16/16 [00:00<00:00, 375.06it/s]\n"
     ]
    },
    {
     "name": "stdout",
     "output_type": "stream",
     "text": [
      "====> Test set loss: 0.4513 (MSE: 0.3758, KLD: 0.0756)\n",
      "Epoch 54/100\n"
     ]
    },
    {
     "name": "stderr",
     "output_type": "stream",
     "text": [
      " 69%|██████▉   | 86/125 [00:00<00:00, 116.62it/s]"
     ]
    },
    {
     "name": "stdout",
     "output_type": "stream",
     "text": [
      "Step 6,700 (N samples: 428,800), Loss: 0.4438 (Recon: 0.3672, KL: 0.0766) Grad: 0.5186\n"
     ]
    },
    {
     "name": "stderr",
     "output_type": "stream",
     "text": [
      "100%|██████████| 125/125 [00:01<00:00, 115.78it/s]\n",
      "Testing: 100%|██████████| 16/16 [00:00<00:00, 357.94it/s]\n"
     ]
    },
    {
     "name": "stdout",
     "output_type": "stream",
     "text": [
      "====> Test set loss: 0.4515 (MSE: 0.3796, KLD: 0.0719)\n",
      "Epoch 55/100\n"
     ]
    },
    {
     "name": "stderr",
     "output_type": "stream",
     "text": [
      " 54%|█████▍    | 68/125 [00:00<00:00, 107.69it/s]"
     ]
    },
    {
     "name": "stdout",
     "output_type": "stream",
     "text": [
      "Step 6,800 (N samples: 435,200), Loss: 0.4661 (Recon: 0.3956, KL: 0.0705) Grad: 0.5330\n"
     ]
    },
    {
     "name": "stderr",
     "output_type": "stream",
     "text": [
      "100%|██████████| 125/125 [00:01<00:00, 110.68it/s]\n",
      "Testing: 100%|██████████| 16/16 [00:00<00:00, 369.58it/s]\n"
     ]
    },
    {
     "name": "stdout",
     "output_type": "stream",
     "text": [
      "====> Test set loss: 0.4471 (MSE: 0.3763, KLD: 0.0708)\n",
      "Epoch 56/100\n"
     ]
    },
    {
     "name": "stderr",
     "output_type": "stream",
     "text": [
      " 37%|███▋      | 46/125 [00:00<00:00, 109.45it/s]"
     ]
    },
    {
     "name": "stdout",
     "output_type": "stream",
     "text": [
      "Step 6,900 (N samples: 441,600), Loss: 0.4730 (Recon: 0.3999, KL: 0.0731) Grad: 0.3647\n"
     ]
    },
    {
     "name": "stderr",
     "output_type": "stream",
     "text": [
      "100%|██████████| 125/125 [00:01<00:00, 108.90it/s]\n",
      "Testing: 100%|██████████| 16/16 [00:00<00:00, 427.83it/s]\n"
     ]
    },
    {
     "name": "stdout",
     "output_type": "stream",
     "text": [
      "====> Test set loss: 0.4515 (MSE: 0.3798, KLD: 0.0717)\n",
      "Epoch 57/100\n"
     ]
    },
    {
     "name": "stderr",
     "output_type": "stream",
     "text": [
      " 10%|▉         | 12/125 [00:00<00:00, 113.11it/s]"
     ]
    },
    {
     "name": "stdout",
     "output_type": "stream",
     "text": [
      "Step 7,000 (N samples: 448,000), Loss: 0.4197 (Recon: 0.3416, KL: 0.0781) Grad: 0.3605\n"
     ]
    },
    {
     "name": "stderr",
     "output_type": "stream",
     "text": [
      " 90%|█████████ | 113/125 [00:01<00:00, 105.84it/s]"
     ]
    },
    {
     "name": "stdout",
     "output_type": "stream",
     "text": [
      "Step 7,100 (N samples: 454,400), Loss: 0.4690 (Recon: 0.3995, KL: 0.0695) Grad: 0.3969\n"
     ]
    },
    {
     "name": "stderr",
     "output_type": "stream",
     "text": [
      "100%|██████████| 125/125 [00:01<00:00, 95.31it/s] \n",
      "Testing: 100%|██████████| 16/16 [00:00<00:00, 335.80it/s]\n"
     ]
    },
    {
     "name": "stdout",
     "output_type": "stream",
     "text": [
      "====> Test set loss: 0.4482 (MSE: 0.3739, KLD: 0.0743)\n",
      "Epoch 58/100\n"
     ]
    },
    {
     "name": "stderr",
     "output_type": "stream",
     "text": [
      " 74%|███████▍  | 93/125 [00:00<00:00, 110.22it/s]"
     ]
    },
    {
     "name": "stdout",
     "output_type": "stream",
     "text": [
      "Step 7,200 (N samples: 460,800), Loss: 0.4631 (Recon: 0.3916, KL: 0.0715) Grad: 0.6518\n"
     ]
    },
    {
     "name": "stderr",
     "output_type": "stream",
     "text": [
      "100%|██████████| 125/125 [00:01<00:00, 106.32it/s]\n",
      "Testing: 100%|██████████| 16/16 [00:00<00:00, 365.14it/s]\n"
     ]
    },
    {
     "name": "stdout",
     "output_type": "stream",
     "text": [
      "====> Test set loss: 0.4527 (MSE: 0.3822, KLD: 0.0705)\n",
      "Epoch 59/100\n"
     ]
    },
    {
     "name": "stderr",
     "output_type": "stream",
     "text": [
      " 57%|█████▋    | 71/125 [00:00<00:00, 115.33it/s]"
     ]
    },
    {
     "name": "stdout",
     "output_type": "stream",
     "text": [
      "Step 7,300 (N samples: 467,200), Loss: 0.4408 (Recon: 0.3731, KL: 0.0677) Grad: 0.4083\n"
     ]
    },
    {
     "name": "stderr",
     "output_type": "stream",
     "text": [
      "100%|██████████| 125/125 [00:01<00:00, 113.14it/s]\n",
      "Testing: 100%|██████████| 16/16 [00:00<00:00, 466.73it/s]\n"
     ]
    },
    {
     "name": "stdout",
     "output_type": "stream",
     "text": [
      "====> Test set loss: 0.4397 (MSE: 0.3661, KLD: 0.0736)\n",
      "Epoch 60/100\n"
     ]
    },
    {
     "name": "stderr",
     "output_type": "stream",
     "text": [
      " 34%|███▍      | 43/125 [00:00<00:00, 103.71it/s]"
     ]
    },
    {
     "name": "stdout",
     "output_type": "stream",
     "text": [
      "Step 7,400 (N samples: 473,600), Loss: 0.4464 (Recon: 0.3755, KL: 0.0709) Grad: 0.3398\n"
     ]
    },
    {
     "name": "stderr",
     "output_type": "stream",
     "text": [
      "100%|██████████| 125/125 [00:01<00:00, 95.84it/s]\n",
      "Testing: 100%|██████████| 16/16 [00:00<00:00, 263.86it/s]\n"
     ]
    },
    {
     "name": "stdout",
     "output_type": "stream",
     "text": [
      "====> Test set loss: 0.4483 (MSE: 0.3742, KLD: 0.0741)\n",
      "Epoch 61/100\n"
     ]
    },
    {
     "name": "stderr",
     "output_type": "stream",
     "text": [
      "  7%|▋         | 9/125 [00:00<00:01, 84.36it/s]"
     ]
    },
    {
     "name": "stdout",
     "output_type": "stream",
     "text": [
      "Step 7,500 (N samples: 480,000), Loss: 0.4389 (Recon: 0.3614, KL: 0.0775) Grad: 0.5204\n"
     ]
    },
    {
     "name": "stderr",
     "output_type": "stream",
     "text": [
      " 91%|█████████ | 114/125 [00:01<00:00, 99.88it/s] "
     ]
    },
    {
     "name": "stdout",
     "output_type": "stream",
     "text": [
      "Step 7,600 (N samples: 486,400), Loss: 0.4379 (Recon: 0.3632, KL: 0.0747) Grad: 0.4119\n"
     ]
    },
    {
     "name": "stderr",
     "output_type": "stream",
     "text": [
      "100%|██████████| 125/125 [00:01<00:00, 93.13it/s]\n",
      "Testing: 100%|██████████| 16/16 [00:00<00:00, 360.96it/s]\n"
     ]
    },
    {
     "name": "stdout",
     "output_type": "stream",
     "text": [
      "====> Test set loss: 0.4438 (MSE: 0.3676, KLD: 0.0762)\n",
      "Epoch 62/100\n"
     ]
    },
    {
     "name": "stderr",
     "output_type": "stream",
     "text": [
      " 71%|███████   | 89/125 [00:01<00:00, 94.98it/s]"
     ]
    },
    {
     "name": "stdout",
     "output_type": "stream",
     "text": [
      "Step 7,700 (N samples: 492,800), Loss: 0.4365 (Recon: 0.3649, KL: 0.0716) Grad: 0.5651\n"
     ]
    },
    {
     "name": "stderr",
     "output_type": "stream",
     "text": [
      "100%|██████████| 125/125 [00:01<00:00, 88.26it/s]\n",
      "Testing: 100%|██████████| 16/16 [00:00<00:00, 421.81it/s]\n"
     ]
    },
    {
     "name": "stdout",
     "output_type": "stream",
     "text": [
      "====> Test set loss: 0.4442 (MSE: 0.3647, KLD: 0.0795)\n",
      "Epoch 63/100\n"
     ]
    },
    {
     "name": "stderr",
     "output_type": "stream",
     "text": [
      " 46%|████▋     | 58/125 [00:00<00:00, 115.42it/s]"
     ]
    },
    {
     "name": "stdout",
     "output_type": "stream",
     "text": [
      "Step 7,800 (N samples: 499,200), Loss: 0.4462 (Recon: 0.3731, KL: 0.0730) Grad: 0.6415\n"
     ]
    },
    {
     "name": "stderr",
     "output_type": "stream",
     "text": [
      "100%|██████████| 125/125 [00:01<00:00, 108.83it/s]\n",
      "Testing: 100%|██████████| 16/16 [00:00<00:00, 422.10it/s]\n"
     ]
    },
    {
     "name": "stdout",
     "output_type": "stream",
     "text": [
      "====> Test set loss: 0.4389 (MSE: 0.3658, KLD: 0.0731)\n",
      "Epoch 64/100\n"
     ]
    },
    {
     "name": "stderr",
     "output_type": "stream",
     "text": [
      " 28%|██▊       | 35/125 [00:00<00:00, 108.15it/s]"
     ]
    },
    {
     "name": "stdout",
     "output_type": "stream",
     "text": [
      "Step 7,900 (N samples: 505,600), Loss: 0.4567 (Recon: 0.3784, KL: 0.0783) Grad: 0.5719\n"
     ]
    },
    {
     "name": "stderr",
     "output_type": "stream",
     "text": [
      "100%|██████████| 125/125 [00:01<00:00, 107.44it/s]\n",
      "Testing: 100%|██████████| 16/16 [00:00<00:00, 381.80it/s]\n"
     ]
    },
    {
     "name": "stdout",
     "output_type": "stream",
     "text": [
      "====> Test set loss: 0.4376 (MSE: 0.3615, KLD: 0.0761)\n",
      "Epoch 65/100\n"
     ]
    },
    {
     "name": "stderr",
     "output_type": "stream",
     "text": [
      "  9%|▉         | 11/125 [00:00<00:01, 103.16it/s]"
     ]
    },
    {
     "name": "stdout",
     "output_type": "stream",
     "text": [
      "Step 8,000 (N samples: 512,000), Loss: 0.4810 (Recon: 0.4018, KL: 0.0792) Grad: 0.7425\n"
     ]
    },
    {
     "name": "stderr",
     "output_type": "stream",
     "text": [
      " 90%|████████▉ | 112/125 [00:01<00:00, 112.44it/s]"
     ]
    },
    {
     "name": "stdout",
     "output_type": "stream",
     "text": [
      "Step 8,100 (N samples: 518,400), Loss: 0.4627 (Recon: 0.3923, KL: 0.0704) Grad: 0.5303\n"
     ]
    },
    {
     "name": "stderr",
     "output_type": "stream",
     "text": [
      "100%|██████████| 125/125 [00:01<00:00, 101.39it/s]\n",
      "Testing: 100%|██████████| 16/16 [00:00<00:00, 334.65it/s]\n"
     ]
    },
    {
     "name": "stdout",
     "output_type": "stream",
     "text": [
      "====> Test set loss: 0.4347 (MSE: 0.3623, KLD: 0.0724)\n",
      "Epoch 66/100\n"
     ]
    },
    {
     "name": "stderr",
     "output_type": "stream",
     "text": [
      " 76%|███████▌  | 95/125 [00:00<00:00, 111.15it/s]"
     ]
    },
    {
     "name": "stdout",
     "output_type": "stream",
     "text": [
      "Step 8,200 (N samples: 524,800), Loss: 0.4089 (Recon: 0.3383, KL: 0.0707) Grad: 0.4270\n"
     ]
    },
    {
     "name": "stderr",
     "output_type": "stream",
     "text": [
      "100%|██████████| 125/125 [00:01<00:00, 109.09it/s]\n",
      "Testing: 100%|██████████| 16/16 [00:00<00:00, 410.15it/s]\n"
     ]
    },
    {
     "name": "stdout",
     "output_type": "stream",
     "text": [
      "====> Test set loss: 0.4411 (MSE: 0.3692, KLD: 0.0720)\n",
      "Epoch 67/100\n"
     ]
    },
    {
     "name": "stderr",
     "output_type": "stream",
     "text": [
      " 52%|█████▏    | 65/125 [00:00<00:00, 109.02it/s]"
     ]
    },
    {
     "name": "stdout",
     "output_type": "stream",
     "text": [
      "Step 8,300 (N samples: 531,200), Loss: 0.4400 (Recon: 0.3556, KL: 0.0845) Grad: 0.5477\n"
     ]
    },
    {
     "name": "stderr",
     "output_type": "stream",
     "text": [
      "100%|██████████| 125/125 [00:01<00:00, 107.22it/s]\n",
      "Testing: 100%|██████████| 16/16 [00:00<00:00, 255.36it/s]\n"
     ]
    },
    {
     "name": "stdout",
     "output_type": "stream",
     "text": [
      "====> Test set loss: 0.4432 (MSE: 0.3644, KLD: 0.0788)\n",
      "Epoch 68/100\n"
     ]
    },
    {
     "name": "stderr",
     "output_type": "stream",
     "text": [
      " 29%|██▉       | 36/125 [00:00<00:00, 109.54it/s]"
     ]
    },
    {
     "name": "stdout",
     "output_type": "stream",
     "text": [
      "Step 8,400 (N samples: 537,600), Loss: 0.4363 (Recon: 0.3594, KL: 0.0769) Grad: 0.3630\n"
     ]
    },
    {
     "name": "stderr",
     "output_type": "stream",
     "text": [
      "100%|██████████| 125/125 [00:01<00:00, 98.26it/s] \n",
      "Testing: 100%|██████████| 16/16 [00:00<00:00, 367.96it/s]\n"
     ]
    },
    {
     "name": "stdout",
     "output_type": "stream",
     "text": [
      "====> Test set loss: 0.4305 (MSE: 0.3561, KLD: 0.0744)\n",
      "Epoch 69/100\n"
     ]
    },
    {
     "name": "stderr",
     "output_type": "stream",
     "text": [
      " 10%|▉         | 12/125 [00:00<00:00, 115.12it/s]"
     ]
    },
    {
     "name": "stdout",
     "output_type": "stream",
     "text": [
      "Step 8,500 (N samples: 544,000), Loss: 0.5014 (Recon: 0.4298, KL: 0.0716) Grad: 0.7888\n"
     ]
    },
    {
     "name": "stderr",
     "output_type": "stream",
     "text": [
      " 89%|████████▉ | 111/125 [00:01<00:00, 110.71it/s]"
     ]
    },
    {
     "name": "stdout",
     "output_type": "stream",
     "text": [
      "Step 8,600 (N samples: 550,400), Loss: 0.4147 (Recon: 0.3438, KL: 0.0709) Grad: 0.3657\n"
     ]
    },
    {
     "name": "stderr",
     "output_type": "stream",
     "text": [
      "100%|██████████| 125/125 [00:01<00:00, 97.48it/s] \n",
      "Testing: 100%|██████████| 16/16 [00:00<00:00, 382.29it/s]\n"
     ]
    },
    {
     "name": "stdout",
     "output_type": "stream",
     "text": [
      "====> Test set loss: 0.4419 (MSE: 0.3686, KLD: 0.0733)\n",
      "Epoch 70/100\n"
     ]
    },
    {
     "name": "stderr",
     "output_type": "stream",
     "text": [
      " 74%|███████▎  | 92/125 [00:00<00:00, 113.54it/s]"
     ]
    },
    {
     "name": "stdout",
     "output_type": "stream",
     "text": [
      "Step 8,700 (N samples: 556,800), Loss: 0.4330 (Recon: 0.3577, KL: 0.0753) Grad: 0.5879\n"
     ]
    },
    {
     "name": "stderr",
     "output_type": "stream",
     "text": [
      "100%|██████████| 125/125 [00:01<00:00, 107.22it/s]\n",
      "Testing: 100%|██████████| 16/16 [00:00<00:00, 353.50it/s]\n"
     ]
    },
    {
     "name": "stdout",
     "output_type": "stream",
     "text": [
      "====> Test set loss: 0.4410 (MSE: 0.3648, KLD: 0.0762)\n",
      "Epoch 71/100\n"
     ]
    },
    {
     "name": "stderr",
     "output_type": "stream",
     "text": [
      " 56%|█████▌    | 70/125 [00:00<00:00, 108.20it/s]"
     ]
    },
    {
     "name": "stdout",
     "output_type": "stream",
     "text": [
      "Step 8,800 (N samples: 563,200), Loss: 0.4077 (Recon: 0.3282, KL: 0.0795) Grad: 0.3120\n"
     ]
    },
    {
     "name": "stderr",
     "output_type": "stream",
     "text": [
      "100%|██████████| 125/125 [00:01<00:00, 104.77it/s]\n",
      "Testing: 100%|██████████| 16/16 [00:00<00:00, 345.59it/s]\n"
     ]
    },
    {
     "name": "stdout",
     "output_type": "stream",
     "text": [
      "====> Test set loss: 0.4379 (MSE: 0.3622, KLD: 0.0757)\n",
      "Epoch 72/100\n"
     ]
    },
    {
     "name": "stderr",
     "output_type": "stream",
     "text": [
      " 38%|███▊      | 47/125 [00:00<00:00, 108.77it/s]"
     ]
    },
    {
     "name": "stdout",
     "output_type": "stream",
     "text": [
      "Step 8,900 (N samples: 569,600), Loss: 0.4125 (Recon: 0.3345, KL: 0.0781) Grad: 0.3900\n"
     ]
    },
    {
     "name": "stderr",
     "output_type": "stream",
     "text": [
      "100%|██████████| 125/125 [00:01<00:00, 109.92it/s]\n",
      "Testing: 100%|██████████| 16/16 [00:00<00:00, 439.62it/s]\n"
     ]
    },
    {
     "name": "stdout",
     "output_type": "stream",
     "text": [
      "====> Test set loss: 0.4315 (MSE: 0.3548, KLD: 0.0767)\n",
      "Epoch 73/100\n"
     ]
    },
    {
     "name": "stderr",
     "output_type": "stream",
     "text": [
      "  9%|▉         | 11/125 [00:00<00:01, 101.80it/s]"
     ]
    },
    {
     "name": "stdout",
     "output_type": "stream",
     "text": [
      "Step 9,000 (N samples: 576,000), Loss: 0.4393 (Recon: 0.3629, KL: 0.0765) Grad: 0.5450\n"
     ]
    },
    {
     "name": "stderr",
     "output_type": "stream",
     "text": [
      " 94%|█████████▍| 118/125 [00:01<00:00, 100.79it/s]"
     ]
    },
    {
     "name": "stdout",
     "output_type": "stream",
     "text": [
      "Step 9,100 (N samples: 582,400), Loss: 0.4099 (Recon: 0.3326, KL: 0.0773) Grad: 0.3474\n"
     ]
    },
    {
     "name": "stderr",
     "output_type": "stream",
     "text": [
      "100%|██████████| 125/125 [00:01<00:00, 100.91it/s]\n",
      "Testing: 100%|██████████| 16/16 [00:00<00:00, 362.91it/s]\n"
     ]
    },
    {
     "name": "stdout",
     "output_type": "stream",
     "text": [
      "====> Test set loss: 0.4364 (MSE: 0.3633, KLD: 0.0732)\n",
      "Epoch 74/100\n"
     ]
    },
    {
     "name": "stderr",
     "output_type": "stream",
     "text": [
      " 77%|███████▋  | 96/125 [00:00<00:00, 111.85it/s]"
     ]
    },
    {
     "name": "stdout",
     "output_type": "stream",
     "text": [
      "Step 9,200 (N samples: 588,800), Loss: 0.4425 (Recon: 0.3586, KL: 0.0839) Grad: 0.6081\n"
     ]
    },
    {
     "name": "stderr",
     "output_type": "stream",
     "text": [
      "100%|██████████| 125/125 [00:01<00:00, 102.90it/s]\n",
      "Testing: 100%|██████████| 16/16 [00:00<00:00, 403.60it/s]\n"
     ]
    },
    {
     "name": "stdout",
     "output_type": "stream",
     "text": [
      "====> Test set loss: 0.4289 (MSE: 0.3481, KLD: 0.0808)\n",
      "Epoch 75/100\n"
     ]
    },
    {
     "name": "stderr",
     "output_type": "stream",
     "text": [
      " 56%|█████▌    | 70/125 [00:00<00:00, 110.50it/s]"
     ]
    },
    {
     "name": "stdout",
     "output_type": "stream",
     "text": [
      "Step 9,300 (N samples: 595,200), Loss: 0.4089 (Recon: 0.3339, KL: 0.0750) Grad: 0.4358\n"
     ]
    },
    {
     "name": "stderr",
     "output_type": "stream",
     "text": [
      "100%|██████████| 125/125 [00:01<00:00, 104.19it/s]\n",
      "Testing: 100%|██████████| 16/16 [00:00<00:00, 357.64it/s]\n"
     ]
    },
    {
     "name": "stdout",
     "output_type": "stream",
     "text": [
      "====> Test set loss: 0.4299 (MSE: 0.3491, KLD: 0.0809)\n",
      "Epoch 76/100\n"
     ]
    },
    {
     "name": "stderr",
     "output_type": "stream",
     "text": [
      " 30%|███       | 38/125 [00:00<00:00, 116.24it/s]"
     ]
    },
    {
     "name": "stdout",
     "output_type": "stream",
     "text": [
      "Step 9,400 (N samples: 601,600), Loss: 0.4525 (Recon: 0.3850, KL: 0.0675) Grad: 1.2652\n"
     ]
    },
    {
     "name": "stderr",
     "output_type": "stream",
     "text": [
      "100%|██████████| 125/125 [00:01<00:00, 101.44it/s]\n",
      "Testing: 100%|██████████| 16/16 [00:00<00:00, 313.65it/s]\n"
     ]
    },
    {
     "name": "stdout",
     "output_type": "stream",
     "text": [
      "====> Test set loss: 0.4278 (MSE: 0.3452, KLD: 0.0826)\n",
      "Epoch 77/100\n"
     ]
    },
    {
     "name": "stderr",
     "output_type": "stream",
     "text": [
      "  8%|▊         | 10/125 [00:00<00:01, 98.08it/s]"
     ]
    },
    {
     "name": "stdout",
     "output_type": "stream",
     "text": [
      "Step 9,500 (N samples: 608,000), Loss: 0.4243 (Recon: 0.3381, KL: 0.0862) Grad: 0.6145\n"
     ]
    },
    {
     "name": "stderr",
     "output_type": "stream",
     "text": [
      " 90%|████████▉ | 112/125 [00:01<00:00, 94.70it/s]"
     ]
    },
    {
     "name": "stdout",
     "output_type": "stream",
     "text": [
      "Step 9,600 (N samples: 614,400), Loss: 0.4083 (Recon: 0.3308, KL: 0.0775) Grad: 0.4906\n"
     ]
    },
    {
     "name": "stderr",
     "output_type": "stream",
     "text": [
      "100%|██████████| 125/125 [00:01<00:00, 98.20it/s]\n",
      "Testing: 100%|██████████| 16/16 [00:00<00:00, 359.41it/s]\n"
     ]
    },
    {
     "name": "stdout",
     "output_type": "stream",
     "text": [
      "====> Test set loss: 0.4238 (MSE: 0.3461, KLD: 0.0777)\n",
      "Epoch 78/100\n"
     ]
    },
    {
     "name": "stderr",
     "output_type": "stream",
     "text": [
      " 75%|███████▌  | 94/125 [00:00<00:00, 111.58it/s]"
     ]
    },
    {
     "name": "stdout",
     "output_type": "stream",
     "text": [
      "Step 9,700 (N samples: 620,800), Loss: 0.4255 (Recon: 0.3500, KL: 0.0755) Grad: 0.8247\n"
     ]
    },
    {
     "name": "stderr",
     "output_type": "stream",
     "text": [
      "100%|██████████| 125/125 [00:01<00:00, 108.36it/s]\n",
      "Testing: 100%|██████████| 16/16 [00:00<00:00, 298.99it/s]\n"
     ]
    },
    {
     "name": "stdout",
     "output_type": "stream",
     "text": [
      "====> Test set loss: 0.4248 (MSE: 0.3442, KLD: 0.0806)\n",
      "Epoch 79/100\n"
     ]
    },
    {
     "name": "stderr",
     "output_type": "stream",
     "text": [
      " 50%|█████     | 63/125 [00:00<00:00, 102.23it/s]"
     ]
    },
    {
     "name": "stdout",
     "output_type": "stream",
     "text": [
      "Step 9,800 (N samples: 627,200), Loss: 0.4246 (Recon: 0.3519, KL: 0.0728) Grad: 0.6632\n"
     ]
    },
    {
     "name": "stderr",
     "output_type": "stream",
     "text": [
      "100%|██████████| 125/125 [00:01<00:00, 101.55it/s]\n",
      "Testing: 100%|██████████| 16/16 [00:00<00:00, 323.47it/s]\n"
     ]
    },
    {
     "name": "stdout",
     "output_type": "stream",
     "text": [
      "====> Test set loss: 0.4190 (MSE: 0.3416, KLD: 0.0774)\n",
      "Epoch 80/100\n"
     ]
    },
    {
     "name": "stderr",
     "output_type": "stream",
     "text": [
      " 29%|██▉       | 36/125 [00:00<00:00, 110.20it/s]"
     ]
    },
    {
     "name": "stdout",
     "output_type": "stream",
     "text": [
      "Step 9,900 (N samples: 633,600), Loss: 0.4209 (Recon: 0.3430, KL: 0.0780) Grad: 0.5824\n"
     ]
    },
    {
     "name": "stderr",
     "output_type": "stream",
     "text": [
      "100%|██████████| 125/125 [00:01<00:00, 102.02it/s]\n",
      "Testing: 100%|██████████| 16/16 [00:00<00:00, 432.74it/s]\n"
     ]
    },
    {
     "name": "stdout",
     "output_type": "stream",
     "text": [
      "====> Test set loss: 0.4167 (MSE: 0.3405, KLD: 0.0761)\n",
      "Epoch 81/100\n"
     ]
    },
    {
     "name": "stderr",
     "output_type": "stream",
     "text": [
      "  6%|▋         | 8/125 [00:00<00:01, 74.21it/s]"
     ]
    },
    {
     "name": "stdout",
     "output_type": "stream",
     "text": [
      "Step 10,000 (N samples: 640,000), Loss: 0.4081 (Recon: 0.3337, KL: 0.0743) Grad: 0.5246\n"
     ]
    },
    {
     "name": "stderr",
     "output_type": "stream",
     "text": [
      " 90%|█████████ | 113/125 [00:01<00:00, 95.59it/s]"
     ]
    },
    {
     "name": "stdout",
     "output_type": "stream",
     "text": [
      "Step 10,100 (N samples: 646,400), Loss: 0.4239 (Recon: 0.3422, KL: 0.0817) Grad: 0.5860\n"
     ]
    },
    {
     "name": "stderr",
     "output_type": "stream",
     "text": [
      "100%|██████████| 125/125 [00:01<00:00, 90.30it/s]\n",
      "Testing: 100%|██████████| 16/16 [00:00<00:00, 394.55it/s]\n"
     ]
    },
    {
     "name": "stdout",
     "output_type": "stream",
     "text": [
      "====> Test set loss: 0.4265 (MSE: 0.3484, KLD: 0.0781)\n",
      "Epoch 82/100\n"
     ]
    },
    {
     "name": "stderr",
     "output_type": "stream",
     "text": [
      " 70%|██████▉   | 87/125 [00:00<00:00, 120.68it/s]"
     ]
    },
    {
     "name": "stdout",
     "output_type": "stream",
     "text": [
      "Step 10,200 (N samples: 652,800), Loss: 0.4572 (Recon: 0.3770, KL: 0.0802) Grad: 1.2998\n"
     ]
    },
    {
     "name": "stderr",
     "output_type": "stream",
     "text": [
      "100%|██████████| 125/125 [00:01<00:00, 116.75it/s]\n",
      "Testing: 100%|██████████| 16/16 [00:00<00:00, 428.22it/s]\n"
     ]
    },
    {
     "name": "stdout",
     "output_type": "stream",
     "text": [
      "====> Test set loss: 0.4217 (MSE: 0.3342, KLD: 0.0875)\n",
      "Epoch 83/100\n"
     ]
    },
    {
     "name": "stderr",
     "output_type": "stream",
     "text": [
      " 55%|█████▌    | 69/125 [00:00<00:00, 111.76it/s]"
     ]
    },
    {
     "name": "stdout",
     "output_type": "stream",
     "text": [
      "Step 10,300 (N samples: 659,200), Loss: 0.3822 (Recon: 0.3050, KL: 0.0771) Grad: 1.0605\n"
     ]
    },
    {
     "name": "stderr",
     "output_type": "stream",
     "text": [
      "100%|██████████| 125/125 [00:01<00:00, 104.74it/s]\n",
      "Testing: 100%|██████████| 16/16 [00:00<00:00, 413.46it/s]\n"
     ]
    },
    {
     "name": "stdout",
     "output_type": "stream",
     "text": [
      "====> Test set loss: 0.4145 (MSE: 0.3368, KLD: 0.0777)\n",
      "Epoch 84/100\n"
     ]
    },
    {
     "name": "stderr",
     "output_type": "stream",
     "text": [
      " 27%|██▋       | 34/125 [00:00<00:00, 107.64it/s]"
     ]
    },
    {
     "name": "stdout",
     "output_type": "stream",
     "text": [
      "Step 10,400 (N samples: 665,600), Loss: 0.4410 (Recon: 0.3605, KL: 0.0805) Grad: 0.5953\n"
     ]
    },
    {
     "name": "stderr",
     "output_type": "stream",
     "text": [
      "100%|██████████| 125/125 [00:01<00:00, 96.96it/s] \n",
      "Testing: 100%|██████████| 16/16 [00:00<00:00, 336.38it/s]\n"
     ]
    },
    {
     "name": "stdout",
     "output_type": "stream",
     "text": [
      "====> Test set loss: 0.4113 (MSE: 0.3329, KLD: 0.0784)\n",
      "Epoch 85/100\n"
     ]
    },
    {
     "name": "stderr",
     "output_type": "stream",
     "text": [
      "  8%|▊         | 10/125 [00:00<00:01, 94.98it/s]"
     ]
    },
    {
     "name": "stdout",
     "output_type": "stream",
     "text": [
      "Step 10,500 (N samples: 672,000), Loss: 0.4445 (Recon: 0.3639, KL: 0.0806) Grad: 0.8412\n"
     ]
    },
    {
     "name": "stderr",
     "output_type": "stream",
     "text": [
      " 85%|████████▍ | 106/125 [00:01<00:00, 94.31it/s]"
     ]
    },
    {
     "name": "stdout",
     "output_type": "stream",
     "text": [
      "Step 10,600 (N samples: 678,400), Loss: 0.4337 (Recon: 0.3557, KL: 0.0780) Grad: 0.4383\n"
     ]
    },
    {
     "name": "stderr",
     "output_type": "stream",
     "text": [
      "100%|██████████| 125/125 [00:01<00:00, 95.15it/s]\n",
      "Testing: 100%|██████████| 16/16 [00:00<00:00, 246.41it/s]\n"
     ]
    },
    {
     "name": "stdout",
     "output_type": "stream",
     "text": [
      "====> Test set loss: 0.4149 (MSE: 0.3349, KLD: 0.0799)\n",
      "Epoch 86/100\n"
     ]
    },
    {
     "name": "stderr",
     "output_type": "stream",
     "text": [
      " 78%|███████▊  | 97/125 [00:00<00:00, 106.06it/s]"
     ]
    },
    {
     "name": "stdout",
     "output_type": "stream",
     "text": [
      "Step 10,700 (N samples: 684,800), Loss: 0.4028 (Recon: 0.3228, KL: 0.0801) Grad: 0.5772\n"
     ]
    },
    {
     "name": "stderr",
     "output_type": "stream",
     "text": [
      "100%|██████████| 125/125 [00:01<00:00, 103.71it/s]\n",
      "Testing: 100%|██████████| 16/16 [00:00<00:00, 383.39it/s]\n"
     ]
    },
    {
     "name": "stdout",
     "output_type": "stream",
     "text": [
      "====> Test set loss: 0.4107 (MSE: 0.3279, KLD: 0.0828)\n",
      "Epoch 87/100\n"
     ]
    },
    {
     "name": "stderr",
     "output_type": "stream",
     "text": [
      " 50%|█████     | 63/125 [00:00<00:00, 101.79it/s]"
     ]
    },
    {
     "name": "stdout",
     "output_type": "stream",
     "text": [
      "Step 10,800 (N samples: 691,200), Loss: 0.4056 (Recon: 0.3304, KL: 0.0752) Grad: 0.6979\n"
     ]
    },
    {
     "name": "stderr",
     "output_type": "stream",
     "text": [
      "100%|██████████| 125/125 [00:01<00:00, 96.79it/s]\n",
      "Testing: 100%|██████████| 16/16 [00:00<00:00, 329.07it/s]\n"
     ]
    },
    {
     "name": "stdout",
     "output_type": "stream",
     "text": [
      "====> Test set loss: 0.4149 (MSE: 0.3350, KLD: 0.0799)\n",
      "Epoch 88/100\n"
     ]
    },
    {
     "name": "stderr",
     "output_type": "stream",
     "text": [
      " 35%|███▌      | 44/125 [00:00<00:00, 109.15it/s]"
     ]
    },
    {
     "name": "stdout",
     "output_type": "stream",
     "text": [
      "Step 10,900 (N samples: 697,600), Loss: 0.4406 (Recon: 0.3534, KL: 0.0871) Grad: 0.7833\n"
     ]
    },
    {
     "name": "stderr",
     "output_type": "stream",
     "text": [
      "100%|██████████| 125/125 [00:01<00:00, 105.76it/s]\n",
      "Testing: 100%|██████████| 16/16 [00:00<00:00, 371.18it/s]\n"
     ]
    },
    {
     "name": "stdout",
     "output_type": "stream",
     "text": [
      "====> Test set loss: 0.4220 (MSE: 0.3355, KLD: 0.0865)\n",
      "Epoch 89/100\n"
     ]
    },
    {
     "name": "stderr",
     "output_type": "stream",
     "text": [
      "  9%|▉         | 11/125 [00:00<00:01, 98.90it/s]"
     ]
    },
    {
     "name": "stdout",
     "output_type": "stream",
     "text": [
      "Step 11,000 (N samples: 704,000), Loss: 0.3921 (Recon: 0.3075, KL: 0.0846) Grad: 0.8082\n"
     ]
    },
    {
     "name": "stderr",
     "output_type": "stream",
     "text": [
      " 92%|█████████▏| 115/125 [00:01<00:00, 110.96it/s]"
     ]
    },
    {
     "name": "stdout",
     "output_type": "stream",
     "text": [
      "Step 11,100 (N samples: 710,400), Loss: 0.3749 (Recon: 0.2941, KL: 0.0808) Grad: 0.6353\n"
     ]
    },
    {
     "name": "stderr",
     "output_type": "stream",
     "text": [
      "100%|██████████| 125/125 [00:01<00:00, 106.90it/s]\n",
      "Testing: 100%|██████████| 16/16 [00:00<00:00, 307.43it/s]\n"
     ]
    },
    {
     "name": "stdout",
     "output_type": "stream",
     "text": [
      "====> Test set loss: 0.4122 (MSE: 0.3317, KLD: 0.0806)\n",
      "Epoch 90/100\n"
     ]
    },
    {
     "name": "stderr",
     "output_type": "stream",
     "text": [
      " 70%|██████▉   | 87/125 [00:00<00:00, 117.84it/s]"
     ]
    },
    {
     "name": "stdout",
     "output_type": "stream",
     "text": [
      "Step 11,200 (N samples: 716,800), Loss: 0.4074 (Recon: 0.3245, KL: 0.0829) Grad: 0.5745\n"
     ]
    },
    {
     "name": "stderr",
     "output_type": "stream",
     "text": [
      "100%|██████████| 125/125 [00:01<00:00, 112.02it/s]\n",
      "Testing: 100%|██████████| 16/16 [00:00<00:00, 334.69it/s]\n"
     ]
    },
    {
     "name": "stdout",
     "output_type": "stream",
     "text": [
      "====> Test set loss: 0.4084 (MSE: 0.3256, KLD: 0.0828)\n",
      "Epoch 91/100\n"
     ]
    },
    {
     "name": "stderr",
     "output_type": "stream",
     "text": [
      " 48%|████▊     | 60/125 [00:00<00:00, 107.43it/s]"
     ]
    },
    {
     "name": "stdout",
     "output_type": "stream",
     "text": [
      "Step 11,300 (N samples: 723,200), Loss: 0.4154 (Recon: 0.3272, KL: 0.0882) Grad: 0.5360\n"
     ]
    },
    {
     "name": "stderr",
     "output_type": "stream",
     "text": [
      "100%|██████████| 125/125 [00:01<00:00, 99.50it/s]\n",
      "Testing: 100%|██████████| 16/16 [00:00<00:00, 464.37it/s]\n"
     ]
    },
    {
     "name": "stdout",
     "output_type": "stream",
     "text": [
      "====> Test set loss: 0.4051 (MSE: 0.3228, KLD: 0.0822)\n",
      "Epoch 92/100\n"
     ]
    },
    {
     "name": "stderr",
     "output_type": "stream",
     "text": [
      " 38%|███▊      | 47/125 [00:00<00:00, 105.95it/s]"
     ]
    },
    {
     "name": "stdout",
     "output_type": "stream",
     "text": [
      "Step 11,400 (N samples: 729,600), Loss: 0.4090 (Recon: 0.3230, KL: 0.0860) Grad: 0.5909\n"
     ]
    },
    {
     "name": "stderr",
     "output_type": "stream",
     "text": [
      "100%|██████████| 125/125 [00:01<00:00, 102.48it/s]\n",
      "Testing: 100%|██████████| 16/16 [00:00<00:00, 396.53it/s]\n"
     ]
    },
    {
     "name": "stdout",
     "output_type": "stream",
     "text": [
      "====> Test set loss: 0.4015 (MSE: 0.3181, KLD: 0.0834)\n",
      "Epoch 93/100\n"
     ]
    },
    {
     "name": "stderr",
     "output_type": "stream",
     "text": [
      "  8%|▊         | 10/125 [00:00<00:01, 97.65it/s]"
     ]
    },
    {
     "name": "stdout",
     "output_type": "stream",
     "text": [
      "Step 11,500 (N samples: 736,000), Loss: 0.3943 (Recon: 0.3117, KL: 0.0826) Grad: 0.4864\n"
     ]
    },
    {
     "name": "stderr",
     "output_type": "stream",
     "text": [
      " 91%|█████████ | 114/125 [00:01<00:00, 104.78it/s]"
     ]
    },
    {
     "name": "stdout",
     "output_type": "stream",
     "text": [
      "Step 11,600 (N samples: 742,400), Loss: 0.4109 (Recon: 0.3245, KL: 0.0865) Grad: 0.7671\n"
     ]
    },
    {
     "name": "stderr",
     "output_type": "stream",
     "text": [
      "100%|██████████| 125/125 [00:01<00:00, 106.39it/s]\n",
      "Testing: 100%|██████████| 16/16 [00:00<00:00, 344.26it/s]\n"
     ]
    },
    {
     "name": "stdout",
     "output_type": "stream",
     "text": [
      "====> Test set loss: 0.4094 (MSE: 0.3277, KLD: 0.0817)\n",
      "Epoch 94/100\n"
     ]
    },
    {
     "name": "stderr",
     "output_type": "stream",
     "text": [
      " 70%|███████   | 88/125 [00:00<00:00, 98.42it/s] "
     ]
    },
    {
     "name": "stdout",
     "output_type": "stream",
     "text": [
      "Step 11,700 (N samples: 748,800), Loss: 0.4441 (Recon: 0.3568, KL: 0.0873) Grad: 0.5934\n"
     ]
    },
    {
     "name": "stderr",
     "output_type": "stream",
     "text": [
      "100%|██████████| 125/125 [00:01<00:00, 102.86it/s]\n",
      "Testing: 100%|██████████| 16/16 [00:00<00:00, 385.31it/s]\n"
     ]
    },
    {
     "name": "stdout",
     "output_type": "stream",
     "text": [
      "====> Test set loss: 0.4049 (MSE: 0.3211, KLD: 0.0838)\n",
      "Epoch 95/100\n"
     ]
    },
    {
     "name": "stderr",
     "output_type": "stream",
     "text": [
      " 50%|████▉     | 62/125 [00:00<00:00, 108.10it/s]"
     ]
    },
    {
     "name": "stdout",
     "output_type": "stream",
     "text": [
      "Step 11,800 (N samples: 755,200), Loss: 0.4051 (Recon: 0.3180, KL: 0.0871) Grad: 0.5445\n"
     ]
    },
    {
     "name": "stderr",
     "output_type": "stream",
     "text": [
      "100%|██████████| 125/125 [00:01<00:00, 106.32it/s]\n",
      "Testing: 100%|██████████| 16/16 [00:00<00:00, 337.75it/s]\n"
     ]
    },
    {
     "name": "stdout",
     "output_type": "stream",
     "text": [
      "====> Test set loss: 0.4038 (MSE: 0.3213, KLD: 0.0824)\n",
      "Epoch 96/100\n"
     ]
    },
    {
     "name": "stderr",
     "output_type": "stream",
     "text": [
      " 34%|███▎      | 42/125 [00:00<00:00, 96.98it/s] "
     ]
    },
    {
     "name": "stdout",
     "output_type": "stream",
     "text": [
      "Step 11,900 (N samples: 761,600), Loss: 0.4020 (Recon: 0.3249, KL: 0.0771) Grad: 0.8628\n"
     ]
    },
    {
     "name": "stderr",
     "output_type": "stream",
     "text": [
      "100%|██████████| 125/125 [00:01<00:00, 104.76it/s]\n",
      "Testing: 100%|██████████| 16/16 [00:00<00:00, 400.37it/s]\n"
     ]
    },
    {
     "name": "stdout",
     "output_type": "stream",
     "text": [
      "====> Test set loss: 0.4035 (MSE: 0.3215, KLD: 0.0820)\n",
      "Epoch 97/100\n"
     ]
    },
    {
     "name": "stderr",
     "output_type": "stream",
     "text": [
      "  8%|▊         | 10/125 [00:00<00:01, 92.06it/s]"
     ]
    },
    {
     "name": "stdout",
     "output_type": "stream",
     "text": [
      "Step 12,000 (N samples: 768,000), Loss: 0.4080 (Recon: 0.3315, KL: 0.0765) Grad: 0.3727\n"
     ]
    },
    {
     "name": "stderr",
     "output_type": "stream",
     "text": [
      "100%|██████████| 125/125 [00:01<00:00, 113.29it/s]"
     ]
    },
    {
     "name": "stdout",
     "output_type": "stream",
     "text": [
      "Step 12,100 (N samples: 774,400), Loss: 0.4280 (Recon: 0.3421, KL: 0.0859) Grad: 0.6738\n"
     ]
    },
    {
     "name": "stderr",
     "output_type": "stream",
     "text": [
      "\n",
      "Testing: 100%|██████████| 16/16 [00:00<00:00, 141.43it/s]\n"
     ]
    },
    {
     "name": "stdout",
     "output_type": "stream",
     "text": [
      "====> Test set loss: 0.4054 (MSE: 0.3215, KLD: 0.0838)\n",
      "Epoch 98/100\n"
     ]
    },
    {
     "name": "stderr",
     "output_type": "stream",
     "text": [
      " 73%|███████▎  | 91/125 [00:00<00:00, 110.25it/s]"
     ]
    },
    {
     "name": "stdout",
     "output_type": "stream",
     "text": [
      "Step 12,200 (N samples: 780,800), Loss: 0.3815 (Recon: 0.3020, KL: 0.0796) Grad: 0.4936\n"
     ]
    },
    {
     "name": "stderr",
     "output_type": "stream",
     "text": [
      "100%|██████████| 125/125 [00:01<00:00, 105.84it/s]\n",
      "Testing: 100%|██████████| 16/16 [00:00<00:00, 438.49it/s]\n"
     ]
    },
    {
     "name": "stdout",
     "output_type": "stream",
     "text": [
      "====> Test set loss: 0.4082 (MSE: 0.3281, KLD: 0.0802)\n",
      "Epoch 99/100\n"
     ]
    },
    {
     "name": "stderr",
     "output_type": "stream",
     "text": [
      " 56%|█████▌    | 70/125 [00:00<00:00, 114.54it/s]"
     ]
    },
    {
     "name": "stdout",
     "output_type": "stream",
     "text": [
      "Step 12,300 (N samples: 787,200), Loss: 0.4075 (Recon: 0.3176, KL: 0.0899) Grad: 0.4638\n"
     ]
    },
    {
     "name": "stderr",
     "output_type": "stream",
     "text": [
      "100%|██████████| 125/125 [00:01<00:00, 111.91it/s]\n",
      "Testing: 100%|██████████| 16/16 [00:00<00:00, 346.43it/s]\n"
     ]
    },
    {
     "name": "stdout",
     "output_type": "stream",
     "text": [
      "====> Test set loss: 0.4112 (MSE: 0.3278, KLD: 0.0834)\n",
      "Epoch 100/100\n"
     ]
    },
    {
     "name": "stderr",
     "output_type": "stream",
     "text": [
      " 35%|███▌      | 44/125 [00:00<00:00, 107.12it/s]"
     ]
    },
    {
     "name": "stdout",
     "output_type": "stream",
     "text": [
      "Step 12,400 (N samples: 793,600), Loss: 0.3919 (Recon: 0.2927, KL: 0.0992) Grad: 0.5847\n"
     ]
    },
    {
     "name": "stderr",
     "output_type": "stream",
     "text": [
      "100%|██████████| 125/125 [00:01<00:00, 95.77it/s]\n",
      "Testing: 100%|██████████| 16/16 [00:00<00:00, 397.39it/s]"
     ]
    },
    {
     "name": "stdout",
     "output_type": "stream",
     "text": [
      "====> Test set loss: 0.3990 (MSE: 0.3133, KLD: 0.0857)\n"
     ]
    },
    {
     "name": "stderr",
     "output_type": "stream",
     "text": [
      "\n"
     ]
    }
   ],
   "source": [
    "%load_ext autoreload\n",
    "%autoreload 2\n",
    "from train_model import train_model\n",
    "model, scaler, [train_loader, val_loader, test_loader] = train_model()"
   ]
  },
  {
   "cell_type": "code",
   "execution_count": 22,
   "id": "b46e5f78",
   "metadata": {},
   "outputs": [
    {
     "data": {
      "image/png": "[encoded data removed]",
      "text/plain": [
       "<Figure size 1000x500 with 1 Axes>"
      ]
     },
     "metadata": {},
     "output_type": "display_data"
    }
   ],
   "source": [
    "import matplotlib.pyplot as plt\n",
    "import torch\n",
    "\n",
    "with torch.no_grad():\n",
    "    x_sample = val_loader.dataset[100]\n",
    "    output_sample = model.forward(x_sample)\n",
    "    output_recon = output_sample.x_recon\n",
    "\n",
    "    plt.figure(figsize=(10, 5))\n",
    "    plt.plot(x_sample.numpy())\n",
    "    plt.plot(output_recon.numpy(), linestyle='--')\n",
    "    plt.title('Sample Input vs Reconstructed Output')\n",
    "    plt.xlabel('Feature Index')\n",
    "    plt.ylabel('Value')\n",
    "    \n",
    "    plt.legend(['Input', 'Reconstructed Output'])\n",
    "    plt.show()"
   ]
  },
  {
   "cell_type": "code",
   "execution_count": 20,
   "id": "8800ac28",
   "metadata": {},
   "outputs": [
    {
     "name": "stdout",
     "output_type": "stream",
     "text": [
      "tensor([-0.1652,  0.0739, -0.2603,  0.2589,  2.5572,  1.0058, -0.2752, -0.0841]) tensor([0.3179, 0.9727, 0.3200, 0.8713, 0.3179, 0.3192, 0.4532, 0.3184])\n"
     ]
    }
   ],
   "source": [
    "with torch.no_grad():\n",
    "    output = model.forward(x_sample)\n",
    "    print(output.z_dist.mean, output.z_dist.variance)"
   ]
  },
  {
   "cell_type": "code",
   "execution_count": null,
   "id": "c95cbf07",
   "metadata": {},
   "outputs": [
    {
     "name": "stdout",
     "output_type": "stream",
     "text": [
      "tensor([1.5568e-03, 3.9138e-07, 4.1174e+00, 1.6593e-03, 1.5192e-03, 1.6224e-03,\n",
      "        3.5186e-03, 1.2884e-03, 2.2855e-03, 2.3572e-03, 2.8877e+01, 1.2247e-03,\n",
      "        8.6334e-04, 5.2670e-03, 1.6468e-03, 2.0018e-03, 7.5640e-04, 8.6644e-04,\n",
      "        1.7214e-03, 3.1536e-03, 4.1151e-03, 1.7339e-03, 3.8634e+00, 3.9706e+00,\n",
      "        2.9439e-03, 3.8370e-03, 2.5857e-03, 1.4362e-03, 2.8259e-03, 1.0284e-02,\n",
      "        2.5388e-03, 1.9277e-03, 1.7707e-03, 1.9547e-03, 1.7643e-03, 3.5680e-03,\n",
      "        1.1884e-03, 1.0302e-03, 3.9208e+00, 5.8504e-03, 2.5462e-03, 3.1716e+01,\n",
      "        4.8199e-12, 3.9786e+00, 1.7986e-03, 1.9326e-03, 1.7608e-10, 1.7633e-02,\n",
      "        1.0952e-03, 1.1643e-03])\n"
     ]
    },
    {
     "name": "stderr",
     "output_type": "stream",
     "text": [
      "<>:4: SyntaxWarning: invalid escape sequence '\\s'\n",
      "<>:4: SyntaxWarning: invalid escape sequence '\\s'\n",
      "C:\\Users\\beren\\AppData\\Local\\Temp\\ipykernel_33492\\468481561.py:4: SyntaxWarning: invalid escape sequence '\\s'\n",
      "  path = 'data\\sim_10000_50_25_1_0.25\\set_2\\data.csv'\n"
     ]
    }
   ],
   "source": []
  },
  {
   "cell_type": "code",
   "execution_count": 3,
   "id": "77178e54",
   "metadata": {},
   "outputs": [
    {
     "name": "stdout",
     "output_type": "stream",
     "text": [
      "tensor([ 4.4703e-09,  1.7881e-08, -2.9802e-09,  2.9802e-09,  1.1921e-08]) tensor([1.0000, 1.0000, 1.0000, 1.0000, 1.0000])\n"
     ]
    }
   ],
   "source": [
    "rand_tensor = torch.randn(20, 5)\n",
    "from Normalizer import Normalizer\n",
    "\n",
    "norm = Normalizer(rand_tensor)\n",
    "x_norm = norm.normalize(rand_tensor)\n",
    "print(x_norm.mean(dim=0), x_norm.var(dim=0))"
   ]
  }
 ],
 "metadata": {
  "kernelspec": {
   "display_name": ".venv",
   "language": "python",
   "name": "python3"
  },
  "language_info": {
   "codemirror_mode": {
    "name": "ipython",
    "version": 3
   },
   "file_extension": ".py",
   "mimetype": "text/x-python",
   "name": "python",
   "nbconvert_exporter": "python",
   "pygments_lexer": "ipython3",
   "version": "3.12.9"
  }
 },
 "nbformat": 4,
 "nbformat_minor": 5
}
