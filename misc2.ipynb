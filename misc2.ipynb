{
 "cells": [
  {
   "cell_type": "code",
   "execution_count": 1,
   "id": "a1843553",
   "metadata": {},
   "outputs": [],
   "source": [
    "from train_model import train_model\n",
    "import os\n",
    "from torch.utils.tensorboard import SummaryWriter\n",
    "import numpy as np\n",
    "import torch"
   ]
  },
  {
   "cell_type": "code",
   "execution_count": 3,
   "id": "155ed073",
   "metadata": {},
   "outputs": [
    {
     "name": "stdout",
     "output_type": "stream",
     "text": [
      "Epoch 1/50, beta: 0.0\n"
     ]
    },
    {
     "name": "stderr",
     "output_type": "stream",
     "text": [
      "  2%|▎         | 1/40 [00:00<00:06,  6.35it/s]"
     ]
    },
    {
     "name": "stdout",
     "output_type": "stream",
     "text": [
      "Step 0 (N samples: 0), Loss: 1.0425 (Recon: 1.0425, KL: 0.0000) Grad: 0.0223\n"
     ]
    },
    {
     "name": "stderr",
     "output_type": "stream",
     "text": [
      "100%|██████████| 40/40 [00:01<00:00, 24.16it/s]\n",
      "Testing: 100%|██████████| 5/5 [00:00<00:00, 45.47it/s]\n"
     ]
    },
    {
     "name": "stdout",
     "output_type": "stream",
     "text": [
      "====> Test set loss: 0.9442 (MSE: 0.9442, KLD: 0.0000)\n",
      "Epoch 2/50, beta: 0.02040816326530612\n"
     ]
    },
    {
     "name": "stderr",
     "output_type": "stream",
     "text": [
      "100%|██████████| 40/40 [00:01<00:00, 25.81it/s]\n",
      "Testing: 100%|██████████| 5/5 [00:00<00:00, 38.43it/s]\n"
     ]
    },
    {
     "name": "stdout",
     "output_type": "stream",
     "text": [
      "====> Test set loss: 0.9345 (MSE: 0.8968, KLD: 0.0377)\n",
      "Epoch 3/50, beta: 0.04081632653061224\n"
     ]
    },
    {
     "name": "stderr",
     "output_type": "stream",
     "text": [
      " 60%|██████    | 24/40 [00:00<00:00, 25.47it/s]"
     ]
    },
    {
     "name": "stdout",
     "output_type": "stream",
     "text": [
      "Step 100 (N samples: 102,400), Loss: 0.9724 (Recon: 0.9317, KL: 0.0408) Grad: 0.0296\n"
     ]
    },
    {
     "name": "stderr",
     "output_type": "stream",
     "text": [
      "100%|██████████| 40/40 [00:01<00:00, 23.83it/s]\n",
      "Testing: 100%|██████████| 5/5 [00:00<00:00, 32.95it/s]\n"
     ]
    },
    {
     "name": "stdout",
     "output_type": "stream",
     "text": [
      "====> Test set loss: 0.9493 (MSE: 0.9007, KLD: 0.0486)\n",
      "Epoch 4/50, beta: 0.061224489795918366\n"
     ]
    },
    {
     "name": "stderr",
     "output_type": "stream",
     "text": [
      "100%|██████████| 40/40 [00:01<00:00, 24.36it/s]\n",
      "Testing: 100%|██████████| 5/5 [00:00<00:00, 34.55it/s]\n"
     ]
    },
    {
     "name": "stdout",
     "output_type": "stream",
     "text": [
      "====> Test set loss: 0.9644 (MSE: 0.9091, KLD: 0.0552)\n",
      "Epoch 5/50, beta: 0.08163265306122448\n"
     ]
    },
    {
     "name": "stderr",
     "output_type": "stream",
     "text": [
      "100%|██████████| 40/40 [00:01<00:00, 24.36it/s]\n",
      "Testing: 100%|██████████| 5/5 [00:00<00:00, 37.06it/s]\n"
     ]
    },
    {
     "name": "stdout",
     "output_type": "stream",
     "text": [
      "====> Test set loss: 0.9743 (MSE: 0.9225, KLD: 0.0519)\n",
      "Epoch 6/50, beta: 0.1020408163265306\n"
     ]
    },
    {
     "name": "stderr",
     "output_type": "stream",
     "text": [
      "  8%|▊         | 3/40 [00:00<00:01, 22.33it/s]"
     ]
    },
    {
     "name": "stdout",
     "output_type": "stream",
     "text": [
      "Step 200 (N samples: 204,800), Loss: 0.9862 (Recon: 0.9221, KL: 0.0641) Grad: 0.0343\n"
     ]
    },
    {
     "name": "stderr",
     "output_type": "stream",
     "text": [
      "100%|██████████| 40/40 [00:01<00:00, 23.14it/s]\n",
      "Testing: 100%|██████████| 5/5 [00:00<00:00, 34.55it/s]\n"
     ]
    },
    {
     "name": "stdout",
     "output_type": "stream",
     "text": [
      "====> Test set loss: 0.9843 (MSE: 0.9414, KLD: 0.0429)\n",
      "Epoch 7/50, beta: 0.12244897959183673\n"
     ]
    },
    {
     "name": "stderr",
     "output_type": "stream",
     "text": [
      "100%|██████████| 40/40 [00:01<00:00, 22.71it/s]\n",
      "Testing: 100%|██████████| 5/5 [00:00<00:00, 15.67it/s]\n"
     ]
    },
    {
     "name": "stdout",
     "output_type": "stream",
     "text": [
      "====> Test set loss: 0.9921 (MSE: 0.9580, KLD: 0.0341)\n",
      "Epoch 8/50, beta: 0.14285714285714285\n"
     ]
    },
    {
     "name": "stderr",
     "output_type": "stream",
     "text": [
      " 57%|█████▊    | 23/40 [00:01<00:00, 23.62it/s]"
     ]
    },
    {
     "name": "stdout",
     "output_type": "stream",
     "text": [
      "Step 300 (N samples: 307,200), Loss: 0.9896 (Recon: 0.9617, KL: 0.0279) Grad: 0.0213\n"
     ]
    },
    {
     "name": "stderr",
     "output_type": "stream",
     "text": [
      "100%|██████████| 40/40 [00:01<00:00, 22.42it/s]\n",
      "Testing: 100%|██████████| 5/5 [00:00<00:00, 30.67it/s]\n"
     ]
    },
    {
     "name": "stdout",
     "output_type": "stream",
     "text": [
      "====> Test set loss: 0.9937 (MSE: 0.9680, KLD: 0.0257)\n",
      "Epoch 9/50, beta: 0.16326530612244897\n"
     ]
    },
    {
     "name": "stderr",
     "output_type": "stream",
     "text": [
      "100%|██████████| 40/40 [00:01<00:00, 22.69it/s]\n",
      "Testing: 100%|██████████| 5/5 [00:00<00:00, 36.15it/s]\n"
     ]
    },
    {
     "name": "stdout",
     "output_type": "stream",
     "text": [
      "====> Test set loss: 0.9978 (MSE: 0.9807, KLD: 0.0171)\n",
      "Epoch 10/50, beta: 0.18367346938775508\n"
     ]
    },
    {
     "name": "stderr",
     "output_type": "stream",
     "text": [
      "100%|██████████| 40/40 [00:02<00:00, 19.73it/s]\n",
      "Testing: 100%|██████████| 5/5 [00:00<00:00, 31.25it/s]\n"
     ]
    },
    {
     "name": "stdout",
     "output_type": "stream",
     "text": [
      "====> Test set loss: 0.9984 (MSE: 0.9877, KLD: 0.0107)\n",
      "Epoch 11/50, beta: 0.2040816326530612\n"
     ]
    },
    {
     "name": "stderr",
     "output_type": "stream",
     "text": [
      "  5%|▌         | 2/40 [00:00<00:02, 18.07it/s]"
     ]
    },
    {
     "name": "stdout",
     "output_type": "stream",
     "text": [
      "Step 400 (N samples: 409,600), Loss: 0.9849 (Recon: 0.9737, KL: 0.0113) Grad: 0.0161\n"
     ]
    },
    {
     "name": "stderr",
     "output_type": "stream",
     "text": [
      "100%|██████████| 40/40 [00:02<00:00, 19.74it/s]\n",
      "Testing: 100%|██████████| 5/5 [00:00<00:00, 38.44it/s]\n"
     ]
    },
    {
     "name": "stdout",
     "output_type": "stream",
     "text": [
      "====> Test set loss: 0.9989 (MSE: 0.9926, KLD: 0.0063)\n",
      "Epoch 12/50, beta: 0.22448979591836732\n"
     ]
    },
    {
     "name": "stderr",
     "output_type": "stream",
     "text": [
      "100%|██████████| 40/40 [00:01<00:00, 24.28it/s]\n",
      "Testing: 100%|██████████| 5/5 [00:00<00:00, 34.02it/s]\n"
     ]
    },
    {
     "name": "stdout",
     "output_type": "stream",
     "text": [
      "====> Test set loss: 0.9975 (MSE: 0.9940, KLD: 0.0035)\n",
      "Epoch 13/50, beta: 0.24489795918367346\n"
     ]
    },
    {
     "name": "stderr",
     "output_type": "stream",
     "text": [
      " 60%|██████    | 24/40 [00:01<00:00, 23.51it/s]"
     ]
    },
    {
     "name": "stdout",
     "output_type": "stream",
     "text": [
      "Step 500 (N samples: 512,000), Loss: 1.0035 (Recon: 1.0011, KL: 0.0024) Grad: 0.0107\n"
     ]
    },
    {
     "name": "stderr",
     "output_type": "stream",
     "text": [
      "100%|██████████| 40/40 [00:01<00:00, 23.36it/s]\n",
      "Testing: 100%|██████████| 5/5 [00:00<00:00, 34.06it/s]\n"
     ]
    },
    {
     "name": "stdout",
     "output_type": "stream",
     "text": [
      "====> Test set loss: 0.9982 (MSE: 0.9961, KLD: 0.0021)\n",
      "Epoch 14/50, beta: 0.26530612244897955\n"
     ]
    },
    {
     "name": "stderr",
     "output_type": "stream",
     "text": [
      "100%|██████████| 40/40 [00:01<00:00, 23.92it/s]\n",
      "Testing: 100%|██████████| 5/5 [00:00<00:00, 27.19it/s]\n"
     ]
    },
    {
     "name": "stdout",
     "output_type": "stream",
     "text": [
      "====> Test set loss: 0.9970 (MSE: 0.9958, KLD: 0.0011)\n",
      "Epoch 15/50, beta: 0.2857142857142857\n"
     ]
    },
    {
     "name": "stderr",
     "output_type": "stream",
     "text": [
      "100%|██████████| 40/40 [00:01<00:00, 22.26it/s]\n",
      "Testing: 100%|██████████| 5/5 [00:00<00:00, 32.55it/s]\n"
     ]
    },
    {
     "name": "stdout",
     "output_type": "stream",
     "text": [
      "====> Test set loss: 0.9976 (MSE: 0.9969, KLD: 0.0007)\n",
      "Epoch 16/50, beta: 0.3061224489795918\n"
     ]
    },
    {
     "name": "stderr",
     "output_type": "stream",
     "text": [
      "  5%|▌         | 2/40 [00:00<00:02, 12.70it/s]"
     ]
    },
    {
     "name": "stdout",
     "output_type": "stream",
     "text": [
      "Step 600 (N samples: 614,400), Loss: 0.9947 (Recon: 0.9940, KL: 0.0008) Grad: 0.0083\n"
     ]
    },
    {
     "name": "stderr",
     "output_type": "stream",
     "text": [
      "100%|██████████| 40/40 [00:01<00:00, 20.60it/s]\n",
      "Testing: 100%|██████████| 5/5 [00:00<00:00, 31.51it/s]\n"
     ]
    },
    {
     "name": "stdout",
     "output_type": "stream",
     "text": [
      "====> Test set loss: 0.9975 (MSE: 0.9970, KLD: 0.0004)\n",
      "Epoch 17/50, beta: 0.32653061224489793\n"
     ]
    },
    {
     "name": "stderr",
     "output_type": "stream",
     "text": [
      "100%|██████████| 40/40 [00:01<00:00, 22.02it/s]\n",
      "Testing: 100%|██████████| 5/5 [00:00<00:00, 34.69it/s]\n"
     ]
    },
    {
     "name": "stdout",
     "output_type": "stream",
     "text": [
      "====> Test set loss: 0.9974 (MSE: 0.9971, KLD: 0.0003)\n",
      "Epoch 18/50, beta: 0.3469387755102041\n"
     ]
    },
    {
     "name": "stderr",
     "output_type": "stream",
     "text": [
      " 57%|█████▊    | 23/40 [00:00<00:00, 22.96it/s]"
     ]
    },
    {
     "name": "stdout",
     "output_type": "stream",
     "text": [
      "Step 700 (N samples: 716,800), Loss: 1.0188 (Recon: 1.0186, KL: 0.0002) Grad: 0.0073\n"
     ]
    },
    {
     "name": "stderr",
     "output_type": "stream",
     "text": [
      "100%|██████████| 40/40 [00:01<00:00, 23.69it/s]\n",
      "Testing: 100%|██████████| 5/5 [00:00<00:00, 32.59it/s]\n"
     ]
    },
    {
     "name": "stdout",
     "output_type": "stream",
     "text": [
      "====> Test set loss: 0.9973 (MSE: 0.9971, KLD: 0.0002)\n",
      "Epoch 19/50, beta: 0.36734693877551017\n"
     ]
    },
    {
     "name": "stderr",
     "output_type": "stream",
     "text": [
      "100%|██████████| 40/40 [00:01<00:00, 20.89it/s]\n",
      "Testing: 100%|██████████| 5/5 [00:00<00:00, 35.69it/s]\n"
     ]
    },
    {
     "name": "stdout",
     "output_type": "stream",
     "text": [
      "====> Test set loss: 0.9973 (MSE: 0.9972, KLD: 0.0002)\n",
      "Epoch 20/50, beta: 0.3877551020408163\n"
     ]
    },
    {
     "name": "stderr",
     "output_type": "stream",
     "text": [
      "100%|██████████| 40/40 [00:01<00:00, 23.59it/s]\n",
      "Testing: 100%|██████████| 5/5 [00:00<00:00, 35.51it/s]\n"
     ]
    },
    {
     "name": "stdout",
     "output_type": "stream",
     "text": [
      "====> Test set loss: 0.9971 (MSE: 0.9970, KLD: 0.0001)\n",
      "Epoch 21/50, beta: 0.4081632653061224\n"
     ]
    },
    {
     "name": "stderr",
     "output_type": "stream",
     "text": [
      "  5%|▌         | 2/40 [00:00<00:02, 16.27it/s]"
     ]
    },
    {
     "name": "stdout",
     "output_type": "stream",
     "text": [
      "Step 800 (N samples: 819,200), Loss: 1.0100 (Recon: 1.0099, KL: 0.0001) Grad: 0.0105\n"
     ]
    },
    {
     "name": "stderr",
     "output_type": "stream",
     "text": [
      "100%|██████████| 40/40 [00:01<00:00, 20.26it/s]\n",
      "Testing: 100%|██████████| 5/5 [00:00<00:00, 34.70it/s]\n"
     ]
    },
    {
     "name": "stdout",
     "output_type": "stream",
     "text": [
      "====> Test set loss: 0.9972 (MSE: 0.9972, KLD: 0.0001)\n",
      "Epoch 22/50, beta: 0.42857142857142855\n"
     ]
    },
    {
     "name": "stderr",
     "output_type": "stream",
     "text": [
      "100%|██████████| 40/40 [00:01<00:00, 21.00it/s]\n",
      "Testing: 100%|██████████| 5/5 [00:00<00:00, 27.86it/s]\n"
     ]
    },
    {
     "name": "stdout",
     "output_type": "stream",
     "text": [
      "====> Test set loss: 0.9971 (MSE: 0.9970, KLD: 0.0001)\n",
      "Epoch 23/50, beta: 0.44897959183673464\n"
     ]
    },
    {
     "name": "stderr",
     "output_type": "stream",
     "text": [
      " 60%|██████    | 24/40 [00:01<00:00, 19.08it/s]"
     ]
    },
    {
     "name": "stdout",
     "output_type": "stream",
     "text": [
      "Step 900 (N samples: 921,600), Loss: 1.0097 (Recon: 1.0096, KL: 0.0001) Grad: 0.0100\n"
     ]
    },
    {
     "name": "stderr",
     "output_type": "stream",
     "text": [
      "100%|██████████| 40/40 [00:01<00:00, 20.03it/s]\n",
      "Testing: 100%|██████████| 5/5 [00:00<00:00, 26.60it/s]\n"
     ]
    },
    {
     "name": "stdout",
     "output_type": "stream",
     "text": [
      "====> Test set loss: 0.9972 (MSE: 0.9972, KLD: 0.0001)\n",
      "Epoch 24/50, beta: 0.4693877551020408\n"
     ]
    },
    {
     "name": "stderr",
     "output_type": "stream",
     "text": [
      "100%|██████████| 40/40 [00:01<00:00, 21.11it/s]\n",
      "Testing: 100%|██████████| 5/5 [00:00<00:00, 31.86it/s]\n"
     ]
    },
    {
     "name": "stdout",
     "output_type": "stream",
     "text": [
      "====> Test set loss: 0.9971 (MSE: 0.9970, KLD: 0.0000)\n",
      "Epoch 25/50, beta: 0.4897959183673469\n"
     ]
    },
    {
     "name": "stderr",
     "output_type": "stream",
     "text": [
      "100%|██████████| 40/40 [00:02<00:00, 17.50it/s]\n",
      "Testing: 100%|██████████| 5/5 [00:00<00:00, 25.88it/s]\n"
     ]
    },
    {
     "name": "stdout",
     "output_type": "stream",
     "text": [
      "====> Test set loss: 0.9971 (MSE: 0.9971, KLD: 0.0000)\n",
      "Epoch 26/50, beta: 0.5102040816326531\n"
     ]
    },
    {
     "name": "stderr",
     "output_type": "stream",
     "text": [
      "  5%|▌         | 2/40 [00:00<00:02, 16.78it/s]"
     ]
    },
    {
     "name": "stdout",
     "output_type": "stream",
     "text": [
      "Step 1,000 (N samples: 1,024,000), Loss: 1.0059 (Recon: 1.0059, KL: 0.0000) Grad: 0.0085\n"
     ]
    },
    {
     "name": "stderr",
     "output_type": "stream",
     "text": [
      "100%|██████████| 40/40 [00:02<00:00, 17.06it/s]\n",
      "Testing: 100%|██████████| 5/5 [00:00<00:00, 28.24it/s]\n"
     ]
    },
    {
     "name": "stdout",
     "output_type": "stream",
     "text": [
      "====> Test set loss: 0.9970 (MSE: 0.9969, KLD: 0.0000)\n",
      "Epoch 27/50, beta: 0.5306122448979591\n"
     ]
    },
    {
     "name": "stderr",
     "output_type": "stream",
     "text": [
      "100%|██████████| 40/40 [00:02<00:00, 16.21it/s]\n",
      "Testing: 100%|██████████| 5/5 [00:00<00:00, 24.50it/s]\n"
     ]
    },
    {
     "name": "stdout",
     "output_type": "stream",
     "text": [
      "====> Test set loss: 0.9972 (MSE: 0.9971, KLD: 0.0000)\n",
      "Epoch 28/50, beta: 0.5510204081632653\n"
     ]
    },
    {
     "name": "stderr",
     "output_type": "stream",
     "text": [
      " 60%|██████    | 24/40 [00:01<00:00, 17.24it/s]"
     ]
    },
    {
     "name": "stdout",
     "output_type": "stream",
     "text": [
      "Step 1,100 (N samples: 1,126,400), Loss: 0.9958 (Recon: 0.9958, KL: 0.0000) Grad: 0.0084\n"
     ]
    },
    {
     "name": "stderr",
     "output_type": "stream",
     "text": [
      "100%|██████████| 40/40 [00:02<00:00, 15.07it/s]\n",
      "Testing: 100%|██████████| 5/5 [00:00<00:00, 19.54it/s]\n"
     ]
    },
    {
     "name": "stdout",
     "output_type": "stream",
     "text": [
      "====> Test set loss: 0.9971 (MSE: 0.9970, KLD: 0.0000)\n",
      "Epoch 29/50, beta: 0.5714285714285714\n"
     ]
    },
    {
     "name": "stderr",
     "output_type": "stream",
     "text": [
      "100%|██████████| 40/40 [00:02<00:00, 19.50it/s]\n",
      "Testing: 100%|██████████| 5/5 [00:00<00:00, 26.97it/s]\n"
     ]
    },
    {
     "name": "stdout",
     "output_type": "stream",
     "text": [
      "====> Test set loss: 0.9971 (MSE: 0.9971, KLD: 0.0000)\n",
      "Epoch 30/50, beta: 0.5918367346938775\n"
     ]
    },
    {
     "name": "stderr",
     "output_type": "stream",
     "text": [
      "100%|██████████| 40/40 [00:02<00:00, 16.81it/s]\n",
      "Testing: 100%|██████████| 5/5 [00:00<00:00, 27.78it/s]\n"
     ]
    },
    {
     "name": "stdout",
     "output_type": "stream",
     "text": [
      "====> Test set loss: 0.9970 (MSE: 0.9970, KLD: 0.0000)\n",
      "Epoch 31/50, beta: 0.6122448979591836\n"
     ]
    },
    {
     "name": "stderr",
     "output_type": "stream",
     "text": [
      "  5%|▌         | 2/40 [00:00<00:02, 16.20it/s]"
     ]
    },
    {
     "name": "stdout",
     "output_type": "stream",
     "text": [
      "Step 1,200 (N samples: 1,228,800), Loss: 1.0012 (Recon: 1.0012, KL: 0.0000) Grad: 0.0068\n"
     ]
    },
    {
     "name": "stderr",
     "output_type": "stream",
     "text": [
      "100%|██████████| 40/40 [00:02<00:00, 18.04it/s]\n",
      "Testing: 100%|██████████| 5/5 [00:00<00:00, 31.21it/s]\n"
     ]
    },
    {
     "name": "stdout",
     "output_type": "stream",
     "text": [
      "====> Test set loss: 0.9970 (MSE: 0.9970, KLD: 0.0000)\n",
      "Epoch 32/50, beta: 0.6326530612244897\n"
     ]
    },
    {
     "name": "stderr",
     "output_type": "stream",
     "text": [
      "100%|██████████| 40/40 [00:01<00:00, 21.17it/s]\n",
      "Testing: 100%|██████████| 5/5 [00:00<00:00, 27.75it/s]\n"
     ]
    },
    {
     "name": "stdout",
     "output_type": "stream",
     "text": [
      "====> Test set loss: 0.9971 (MSE: 0.9971, KLD: 0.0000)\n",
      "Epoch 33/50, beta: 0.6530612244897959\n"
     ]
    },
    {
     "name": "stderr",
     "output_type": "stream",
     "text": [
      " 57%|█████▊    | 23/40 [00:01<00:01, 14.67it/s]"
     ]
    },
    {
     "name": "stdout",
     "output_type": "stream",
     "text": [
      "Step 1,300 (N samples: 1,331,200), Loss: 1.0142 (Recon: 1.0142, KL: 0.0000) Grad: 0.0077\n"
     ]
    },
    {
     "name": "stderr",
     "output_type": "stream",
     "text": [
      "100%|██████████| 40/40 [00:02<00:00, 17.31it/s]\n",
      "Testing: 100%|██████████| 5/5 [00:00<00:00, 29.33it/s]\n"
     ]
    },
    {
     "name": "stdout",
     "output_type": "stream",
     "text": [
      "====> Test set loss: 0.9970 (MSE: 0.9969, KLD: 0.0000)\n",
      "Epoch 34/50, beta: 0.673469387755102\n"
     ]
    },
    {
     "name": "stderr",
     "output_type": "stream",
     "text": [
      "100%|██████████| 40/40 [00:01<00:00, 21.92it/s]\n",
      "Testing: 100%|██████████| 5/5 [00:00<00:00, 35.77it/s]\n"
     ]
    },
    {
     "name": "stdout",
     "output_type": "stream",
     "text": [
      "====> Test set loss: 0.9970 (MSE: 0.9970, KLD: 0.0000)\n",
      "Epoch 35/50, beta: 0.6938775510204082\n"
     ]
    },
    {
     "name": "stderr",
     "output_type": "stream",
     "text": [
      "100%|██████████| 40/40 [00:02<00:00, 19.78it/s]\n",
      "Testing: 100%|██████████| 5/5 [00:00<00:00, 37.85it/s]\n"
     ]
    },
    {
     "name": "stdout",
     "output_type": "stream",
     "text": [
      "====> Test set loss: 0.9971 (MSE: 0.9971, KLD: 0.0000)\n",
      "Epoch 36/50, beta: 0.7142857142857142\n"
     ]
    },
    {
     "name": "stderr",
     "output_type": "stream",
     "text": [
      "  5%|▌         | 2/40 [00:00<00:01, 19.57it/s]"
     ]
    },
    {
     "name": "stdout",
     "output_type": "stream",
     "text": [
      "Step 1,400 (N samples: 1,433,600), Loss: 1.0071 (Recon: 1.0071, KL: 0.0000) Grad: 0.0084\n"
     ]
    },
    {
     "name": "stderr",
     "output_type": "stream",
     "text": [
      "100%|██████████| 40/40 [00:01<00:00, 23.75it/s]\n",
      "Testing: 100%|██████████| 5/5 [00:00<00:00, 34.85it/s]\n"
     ]
    },
    {
     "name": "stdout",
     "output_type": "stream",
     "text": [
      "====> Test set loss: 0.9970 (MSE: 0.9970, KLD: 0.0000)\n",
      "Epoch 37/50, beta: 0.7346938775510203\n"
     ]
    },
    {
     "name": "stderr",
     "output_type": "stream",
     "text": [
      "100%|██████████| 40/40 [00:01<00:00, 21.58it/s]\n",
      "Testing: 100%|██████████| 5/5 [00:00<00:00, 34.45it/s]\n"
     ]
    },
    {
     "name": "stdout",
     "output_type": "stream",
     "text": [
      "====> Test set loss: 0.9970 (MSE: 0.9970, KLD: 0.0000)\n",
      "Epoch 38/50, beta: 0.7551020408163265\n"
     ]
    },
    {
     "name": "stderr",
     "output_type": "stream",
     "text": [
      " 57%|█████▊    | 23/40 [00:01<00:00, 23.20it/s]"
     ]
    },
    {
     "name": "stdout",
     "output_type": "stream",
     "text": [
      "Step 1,500 (N samples: 1,536,000), Loss: 1.0105 (Recon: 1.0105, KL: 0.0000) Grad: 0.0069\n"
     ]
    },
    {
     "name": "stderr",
     "output_type": "stream",
     "text": [
      "100%|██████████| 40/40 [00:01<00:00, 22.59it/s]\n",
      "Testing: 100%|██████████| 5/5 [00:00<00:00, 33.34it/s]\n"
     ]
    },
    {
     "name": "stdout",
     "output_type": "stream",
     "text": [
      "====> Test set loss: 0.9970 (MSE: 0.9970, KLD: 0.0000)\n",
      "Epoch 39/50, beta: 0.7755102040816326\n"
     ]
    },
    {
     "name": "stderr",
     "output_type": "stream",
     "text": [
      "100%|██████████| 40/40 [00:01<00:00, 20.01it/s]\n",
      "Testing: 100%|██████████| 5/5 [00:00<00:00, 34.56it/s]\n"
     ]
    },
    {
     "name": "stdout",
     "output_type": "stream",
     "text": [
      "====> Test set loss: 0.9971 (MSE: 0.9971, KLD: 0.0000)\n",
      "Epoch 40/50, beta: 0.7959183673469387\n"
     ]
    },
    {
     "name": "stderr",
     "output_type": "stream",
     "text": [
      "100%|██████████| 40/40 [00:01<00:00, 20.61it/s]\n",
      "Testing: 100%|██████████| 5/5 [00:00<00:00, 38.11it/s]\n"
     ]
    },
    {
     "name": "stdout",
     "output_type": "stream",
     "text": [
      "====> Test set loss: 0.9970 (MSE: 0.9970, KLD: 0.0000)\n",
      "Epoch 41/50, beta: 0.8163265306122448\n"
     ]
    },
    {
     "name": "stderr",
     "output_type": "stream",
     "text": [
      "  8%|▊         | 3/40 [00:00<00:01, 21.71it/s]"
     ]
    },
    {
     "name": "stdout",
     "output_type": "stream",
     "text": [
      "Step 1,600 (N samples: 1,638,400), Loss: 1.0133 (Recon: 1.0132, KL: 0.0000) Grad: 0.0090\n"
     ]
    },
    {
     "name": "stderr",
     "output_type": "stream",
     "text": [
      "100%|██████████| 40/40 [00:01<00:00, 24.27it/s]\n",
      "Testing: 100%|██████████| 5/5 [00:00<00:00, 33.33it/s]\n"
     ]
    },
    {
     "name": "stdout",
     "output_type": "stream",
     "text": [
      "====> Test set loss: 0.9971 (MSE: 0.9970, KLD: 0.0000)\n",
      "Epoch 42/50, beta: 0.836734693877551\n"
     ]
    },
    {
     "name": "stderr",
     "output_type": "stream",
     "text": [
      "100%|██████████| 40/40 [00:01<00:00, 20.13it/s]\n",
      "Testing: 100%|██████████| 5/5 [00:00<00:00, 32.12it/s]\n"
     ]
    },
    {
     "name": "stdout",
     "output_type": "stream",
     "text": [
      "====> Test set loss: 0.9970 (MSE: 0.9969, KLD: 0.0000)\n",
      "Epoch 43/50, beta: 0.8571428571428571\n"
     ]
    },
    {
     "name": "stderr",
     "output_type": "stream",
     "text": [
      " 57%|█████▊    | 23/40 [00:01<00:00, 21.46it/s]"
     ]
    },
    {
     "name": "stdout",
     "output_type": "stream",
     "text": [
      "Step 1,700 (N samples: 1,740,800), Loss: 0.9905 (Recon: 0.9905, KL: 0.0000) Grad: 0.0071\n"
     ]
    },
    {
     "name": "stderr",
     "output_type": "stream",
     "text": [
      "100%|██████████| 40/40 [00:01<00:00, 21.50it/s]\n",
      "Testing: 100%|██████████| 5/5 [00:00<00:00, 27.97it/s]\n"
     ]
    },
    {
     "name": "stdout",
     "output_type": "stream",
     "text": [
      "====> Test set loss: 0.9970 (MSE: 0.9970, KLD: 0.0000)\n",
      "Epoch 44/50, beta: 0.8775510204081632\n"
     ]
    },
    {
     "name": "stderr",
     "output_type": "stream",
     "text": [
      "100%|██████████| 40/40 [00:01<00:00, 20.17it/s]\n",
      "Testing: 100%|██████████| 5/5 [00:00<00:00, 28.79it/s]\n"
     ]
    },
    {
     "name": "stdout",
     "output_type": "stream",
     "text": [
      "====> Test set loss: 0.9970 (MSE: 0.9969, KLD: 0.0000)\n",
      "Epoch 45/50, beta: 0.8979591836734693\n"
     ]
    },
    {
     "name": "stderr",
     "output_type": "stream",
     "text": [
      "100%|██████████| 40/40 [00:01<00:00, 21.44it/s]\n",
      "Testing: 100%|██████████| 5/5 [00:00<00:00, 19.39it/s]\n"
     ]
    },
    {
     "name": "stdout",
     "output_type": "stream",
     "text": [
      "====> Test set loss: 0.9971 (MSE: 0.9971, KLD: 0.0000)\n",
      "Epoch 46/50, beta: 0.9183673469387754\n"
     ]
    },
    {
     "name": "stderr",
     "output_type": "stream",
     "text": [
      "  5%|▌         | 2/40 [00:00<00:01, 19.25it/s]"
     ]
    },
    {
     "name": "stdout",
     "output_type": "stream",
     "text": [
      "Step 1,800 (N samples: 1,843,200), Loss: 0.9805 (Recon: 0.9805, KL: 0.0000) Grad: 0.0092\n"
     ]
    },
    {
     "name": "stderr",
     "output_type": "stream",
     "text": [
      "100%|██████████| 40/40 [00:01<00:00, 22.71it/s]\n",
      "Testing: 100%|██████████| 5/5 [00:00<00:00, 33.97it/s]\n"
     ]
    },
    {
     "name": "stdout",
     "output_type": "stream",
     "text": [
      "====> Test set loss: 0.9970 (MSE: 0.9970, KLD: 0.0000)\n",
      "Epoch 47/50, beta: 0.9387755102040816\n"
     ]
    },
    {
     "name": "stderr",
     "output_type": "stream",
     "text": [
      "100%|██████████| 40/40 [00:01<00:00, 24.04it/s]\n",
      "Testing: 100%|██████████| 5/5 [00:00<00:00, 31.10it/s]\n"
     ]
    },
    {
     "name": "stdout",
     "output_type": "stream",
     "text": [
      "====> Test set loss: 0.9970 (MSE: 0.9970, KLD: 0.0000)\n",
      "Epoch 48/50, beta: 0.9591836734693877\n"
     ]
    },
    {
     "name": "stderr",
     "output_type": "stream",
     "text": [
      " 55%|█████▌    | 22/40 [00:01<00:00, 22.76it/s]"
     ]
    },
    {
     "name": "stdout",
     "output_type": "stream",
     "text": [
      "Step 1,900 (N samples: 1,945,600), Loss: 0.9967 (Recon: 0.9967, KL: 0.0000) Grad: 0.0063\n"
     ]
    },
    {
     "name": "stderr",
     "output_type": "stream",
     "text": [
      "100%|██████████| 40/40 [00:02<00:00, 19.95it/s]\n",
      "Testing: 100%|██████████| 5/5 [00:00<00:00, 32.05it/s]\n"
     ]
    },
    {
     "name": "stdout",
     "output_type": "stream",
     "text": [
      "====> Test set loss: 0.9970 (MSE: 0.9970, KLD: 0.0000)\n",
      "Epoch 49/50, beta: 0.9795918367346939\n"
     ]
    },
    {
     "name": "stderr",
     "output_type": "stream",
     "text": [
      "100%|██████████| 40/40 [00:02<00:00, 17.24it/s]\n",
      "Testing: 100%|██████████| 5/5 [00:00<00:00, 25.23it/s]\n"
     ]
    },
    {
     "name": "stdout",
     "output_type": "stream",
     "text": [
      "====> Test set loss: 0.9970 (MSE: 0.9970, KLD: 0.0000)\n",
      "Epoch 50/50, beta: 1.0\n"
     ]
    },
    {
     "name": "stderr",
     "output_type": "stream",
     "text": [
      "100%|██████████| 40/40 [00:01<00:00, 21.46it/s]\n",
      "Testing: 100%|██████████| 5/5 [00:00<00:00, 32.47it/s]"
     ]
    },
    {
     "name": "stdout",
     "output_type": "stream",
     "text": [
      "====> Test set loss: 0.9970 (MSE: 0.9970, KLD: 0.0000)\n"
     ]
    },
    {
     "name": "stderr",
     "output_type": "stream",
     "text": [
      "\n"
     ]
    }
   ],
   "source": [
    "source = 'data2/sim_50000_100_20_0.25'\n",
    "paths = ['set_1']\n",
    "writer = SummaryWriter(f'runs/nb/vae_1')\n",
    "num_epochs = 50\n",
    "beta = np.linspace(0, 1, num_epochs)\n",
    "output = train_model(source, paths, learning_rate=1e-3, weight_decay=1e-2, num_epochs=num_epochs, latent_dim=20, density=1, beta=beta, target=True, batch_size=1024)"
   ]
  },
  {
   "cell_type": "code",
   "execution_count": 4,
   "id": "9998cc51",
   "metadata": {},
   "outputs": [
    {
     "name": "stdout",
     "output_type": "stream",
     "text": [
      "Mean location of latent space: [-4.64211826e-05 -1.03130211e-05  2.24035699e-05 -1.40109551e-06\n",
      "  4.55890358e-06 -7.83583964e-06 -7.94455782e-06  8.57591294e-06\n",
      "  4.24708021e-06  1.85380413e-06 -3.00399864e-05 -1.17985977e-05\n",
      "  1.13141937e-05 -7.17804160e-06 -6.78535071e-07  1.15767580e-06\n",
      " -2.83521165e-05 -6.76177115e-06  3.26153831e-05  2.59846674e-05]\n",
      "Mean variance of latent space: [1.00000044 1.00000468 0.99998977 1.00000699 1.00001388 1.00001113\n",
      " 1.00004137 0.99992622 0.99995503 0.99999288 0.9999925  0.99999306\n",
      " 0.9999923  1.00000317 0.99997895 0.99998013 1.00000339 1.00001045\n",
      " 0.99997774 0.99999585]\n"
     ]
    }
   ],
   "source": [
    "# inspecting the latent space using the test data\n",
    "with torch.no_grad():\n",
    "    mean_location = np.zeros(20)\n",
    "    mean_variance = np.zeros(20)\n",
    "    output['set_1']['model'].eval()\n",
    "    for data in output['set_1']['dataloaders'][2]:\n",
    "        data = data[0]\n",
    "        # mean, log_var = output['set_1']['model'].encode(data)\n",
    "        mlt_var_nor = output['set_1']['model'].encode(data)\n",
    "        mean, var = mlt_var_nor.loc.mean(dim=0), mlt_var_nor.covariance_matrix.mean(dim=0).diagonal()\n",
    "        mean_location += mean.numpy()\n",
    "        mean_variance += var.numpy()\n",
    "\n",
    "    mean_location /= len(output['set_1']['dataloaders'][2])\n",
    "    mean_variance /= len(output['set_1']['dataloaders'][2])\n",
    "print(\"Mean location of latent space:\", mean_location)\n",
    "print(\"Mean variance of latent space:\", mean_variance)"
   ]
  },
  {
   "cell_type": "code",
   "execution_count": 5,
   "id": "591ab236",
   "metadata": {},
   "outputs": [
    {
     "data": {
      "text/plain": [
       "VAE(\n",
       "  (encoder): Sequential(\n",
       "    (0): Linear(in_features=100, out_features=64, bias=True)\n",
       "    (1): SiLU()\n",
       "    (2): Linear(in_features=64, out_features=32, bias=True)\n",
       "    (3): SiLU()\n",
       "    (4): Linear(in_features=32, out_features=40, bias=True)\n",
       "    (5): SiLU()\n",
       "  )\n",
       "  (softplus): Softplus(beta=1.0, threshold=20.0)\n",
       "  (decoder): Sequential(\n",
       "    (0): Linear(in_features=20, out_features=32, bias=True)\n",
       "    (1): SiLU()\n",
       "    (2): Linear(in_features=32, out_features=64, bias=True)\n",
       "    (3): SiLU()\n",
       "    (4): Linear(in_features=64, out_features=100, bias=True)\n",
       "  )\n",
       ")"
      ]
     },
     "execution_count": 5,
     "metadata": {},
     "output_type": "execute_result"
    }
   ],
   "source": [
    "output['set_1']['model']"
   ]
  }
 ],
 "metadata": {
  "kernelspec": {
   "display_name": ".venv",
   "language": "python",
   "name": "python3"
  },
  "language_info": {
   "codemirror_mode": {
    "name": "ipython",
    "version": 3
   },
   "file_extension": ".py",
   "mimetype": "text/x-python",
   "name": "python",
   "nbconvert_exporter": "python",
   "pygments_lexer": "ipython3",
   "version": "3.12.9"
  }
 },
 "nbformat": 4,
 "nbformat_minor": 5
}
