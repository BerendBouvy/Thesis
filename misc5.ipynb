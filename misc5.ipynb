{
 "cells": [
  {
   "cell_type": "code",
   "execution_count": 19,
   "id": "de843103",
   "metadata": {},
   "outputs": [],
   "source": [
    "import numpy as np\n",
    "import os\n",
    "import pandas as pd\n",
    "from DataSim2 import DataSim\n",
    "from Lin_regression import LinRegression"
   ]
  },
  {
   "cell_type": "code",
   "execution_count": 86,
   "id": "b54e3b47",
   "metadata": {},
   "outputs": [],
   "source": [
    "ds = DataSim(\n",
    "    n_samples=10000, latent_dim=20, \n",
    "    high_dim=100, std_A=5, \n",
    "    random_seed=2111, non_linear_ratio=0.5, \n",
    "    cross_ratio=0, sparsity=0.5, \n",
    "    s2nr=1\n",
    "    )"
   ]
  },
  {
   "cell_type": "code",
   "execution_count": 87,
   "id": "a12a47bf",
   "metadata": {},
   "outputs": [
    {
     "name": "stdout",
     "output_type": "stream",
     "text": [
      "                             mse       rmse        mae        r2  adjusted_r2\n",
      "latent_x                0.978047   0.988963   0.787408  0.998153     0.998149\n",
      "nl_latent_x           311.158337  17.639681  14.091954  0.412335     0.411688\n",
      "lin_latent_x          223.475478  14.949096  11.947853  0.577936     0.577471\n",
      "hd__x                   0.978047   0.988963   0.787408  0.998153     0.998134\n",
      "nl_hd_x               311.158337  17.639681  14.091954  0.412335     0.409323\n",
      "lin_hd_x              223.475478  14.949096  11.947853  0.577936     0.575772\n",
      "transformed_hd_x      529.436843  23.009495  18.314035  0.000087    -0.010117\n",
      "nl_transformed_hd_x   529.436843  23.009495  18.314035  0.000087    -0.005040\n",
      "lin_transformed_hd_x  281.795663  16.786770  13.344451  0.467791     0.465062\n"
     ]
    }
   ],
   "source": [
    "x_dict = {\n",
    "    'latent_x': ds.latent_x,\n",
    "    'nl_latent_x': ds.latent_x[:, :10],\n",
    "    'lin_latent_x': ds.latent_x[:, 10:],\n",
    "    'hd__x': ds.hd_x,\n",
    "    'nl_hd_x': ds.hd_x[:, :50],\n",
    "    'lin_hd_x': ds.hd_x[:, 50:],    \n",
    "    'transformed_hd_x': ds.non_linear_data_noisy,\n",
    "    'nl_transformed_hd_x': ds.non_linear_data_noisy[:, :50],\n",
    "    'lin_transformed_hd_x': ds.non_linear_data_noisy[:, 50:]\n",
    "}\n",
    "\n",
    "y = ds.y\n",
    "\n",
    "lr = LinRegression(x_dict, y, True)\n",
    "\n",
    "scores = lr.get_scores()\n",
    "\n",
    "print(pd.DataFrame(scores).T)"
   ]
  },
  {
   "cell_type": "code",
   "execution_count": 79,
   "id": "6d1b24fc",
   "metadata": {},
   "outputs": [
    {
     "name": "stdout",
     "output_type": "stream",
     "text": [
      "Norm of non-linear part: 14.992706267886545\n",
      "Norm of linear part: 17.58935845030641\n"
     ]
    }
   ],
   "source": [
    "norm_nl = np.linalg.norm(ds.beta[:10])\n",
    "norm_lin = np.linalg.norm(ds.beta[10:])\n",
    "print(f'Norm of non-linear part: {norm_nl}')\n",
    "print(f'Norm of linear part: {norm_lin}')"
   ]
  },
  {
   "cell_type": "code",
   "execution_count": 89,
   "id": "1a5b721e",
   "metadata": {},
   "outputs": [
    {
     "name": "stdout",
     "output_type": "stream",
     "text": [
      "R^2: 0.5902745382456951\n"
     ]
    }
   ],
   "source": [
    "data = np.genfromtxt('data4/39_sim_10000_1000_50_1_0_0.5_0.1/set_1/data.csv', delimiter=',', skip_header=1)\n",
    "x = data[:, :-1]\n",
    "y = data[:, -1]\n",
    "\n",
    "beta_hat = np.linalg.solve(x.T @ x, x.T @ y)\n",
    "y_hat = x @ beta_hat\n",
    "\n",
    "r2 = 1 - np.sum((y - y_hat) ** 2) / np.sum((y - np.mean(y)) ** 2)\n",
    "\n",
    "print(f\"R^2: {r2}\")"
   ]
  }
 ],
 "metadata": {
  "kernelspec": {
   "display_name": ".venv",
   "language": "python",
   "name": "python3"
  },
  "language_info": {
   "codemirror_mode": {
    "name": "ipython",
    "version": 3
   },
   "file_extension": ".py",
   "mimetype": "text/x-python",
   "name": "python",
   "nbconvert_exporter": "python",
   "pygments_lexer": "ipython3",
   "version": "3.12.9"
  }
 },
 "nbformat": 4,
 "nbformat_minor": 5
}
