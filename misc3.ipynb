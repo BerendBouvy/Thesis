{
 "cells": [
  {
   "cell_type": "code",
   "execution_count": 38,
   "id": "87e2763b",
   "metadata": {},
   "outputs": [],
   "source": [
    "import os\n",
    "import numpy as np\n",
    "from Lin_regression import LinRegression\n",
    "import pandas as pd"
   ]
  },
  {
   "cell_type": "code",
   "execution_count": 39,
   "id": "358a5204",
   "metadata": {},
   "outputs": [
    {
     "name": "stderr",
     "output_type": "stream",
     "text": [
      "<>:1: SyntaxWarning: invalid escape sequence '\\s'\n",
      "<>:1: SyntaxWarning: invalid escape sequence '\\s'\n",
      "C:\\Users\\beren\\AppData\\Local\\Temp\\ipykernel_19668\\911979950.py:1: SyntaxWarning: invalid escape sequence '\\s'\n",
      "  data_path = 'data2\\sim_50000_100_20_0.25\\set_4'\n"
     ]
    }
   ],
   "source": [
    "data_path = 'data2\\sim_50000_100_20_0.25\\set_4'"
   ]
  },
  {
   "cell_type": "code",
   "execution_count": 40,
   "id": "27faf02d",
   "metadata": {},
   "outputs": [],
   "source": [
    "data_l = np.genfromtxt(os.path.join(data_path, 'data_latent.csv'), delimiter=',', skip_header=1)\n",
    "data_f = np.genfromtxt(os.path.join(data_path, 'data.csv'), delimiter=',', skip_header=1)"
   ]
  },
  {
   "cell_type": "code",
   "execution_count": 41,
   "id": "d193f9df",
   "metadata": {},
   "outputs": [],
   "source": [
    "y = data_l[:, -1]\n",
    "x = {'latent': data_l[:, :-1], 'full': data_f[:, :-1]}"
   ]
  },
  {
   "cell_type": "code",
   "execution_count": 42,
   "id": "392bdcdd",
   "metadata": {},
   "outputs": [
    {
     "name": "stdout",
     "output_type": "stream",
     "text": [
      "{'latent': {'mse': np.float64(1.0002925511179532), 'rmse': np.float64(1.0001462648622717), 'mae': np.float64(0.7986374166766643), 'r2': np.float64(0.9448187750302917), 'adjusted_r2': np.float64(0.9447966932659627)}, 'full': {'mse': np.float64(18.04477074589036), 'rmse': np.float64(4.247913693319387), 'mae': np.float64(3.393089771486254), 'r2': np.float64(0.004558663420085485), 'adjusted_r2': np.float64(0.0025637510238852856)}}\n"
     ]
    }
   ],
   "source": [
    "lr = LinRegression(x, y)\n",
    "print(lr.score())"
   ]
  },
  {
   "cell_type": "code",
   "execution_count": 43,
   "id": "2e8a7ec4",
   "metadata": {},
   "outputs": [
    {
     "name": "stdout",
     "output_type": "stream",
     "text": [
      "              mse      rmse       mae        r2  adjusted_r2\n",
      "latent   1.000293  1.000146  0.798637  0.944819     0.944797\n",
      "full    18.044771  4.247914  3.393090  0.004559     0.002564\n"
     ]
    }
   ],
   "source": [
    "df = pd.DataFrame(lr.scores).T\n",
    "print(df)"
   ]
  },
  {
   "cell_type": "code",
   "execution_count": 44,
   "id": "a1218240",
   "metadata": {},
   "outputs": [],
   "source": [
    "del lr, df"
   ]
  },
  {
   "cell_type": "code",
   "execution_count": null,
   "id": "714ff7e8",
   "metadata": {},
   "outputs": [],
   "source": []
  }
 ],
 "metadata": {
  "kernelspec": {
   "display_name": ".venv",
   "language": "python",
   "name": "python3"
  },
  "language_info": {
   "codemirror_mode": {
    "name": "ipython",
    "version": 3
   },
   "file_extension": ".py",
   "mimetype": "text/x-python",
   "name": "python",
   "nbconvert_exporter": "python",
   "pygments_lexer": "ipython3",
   "version": "3.12.9"
  }
 },
 "nbformat": 4,
 "nbformat_minor": 5
}
