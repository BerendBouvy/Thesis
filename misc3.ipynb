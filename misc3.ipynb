{
 "cells": [
  {
   "cell_type": "code",
   "execution_count": 261,
   "id": "87e2763b",
   "metadata": {},
   "outputs": [],
   "source": [
    "import os\n",
    "import numpy as np\n",
    "from Lin_regression import LinRegression\n",
    "import pandas as pd"
   ]
  },
  {
   "cell_type": "code",
   "execution_count": 262,
   "id": "358a5204",
   "metadata": {},
   "outputs": [
    {
     "name": "stderr",
     "output_type": "stream",
     "text": [
      "<>:1: SyntaxWarning: invalid escape sequence '\\s'\n",
      "<>:1: SyntaxWarning: invalid escape sequence '\\s'\n",
      "C:\\Users\\beren\\AppData\\Local\\Temp\\ipykernel_7292\\599094344.py:1: SyntaxWarning: invalid escape sequence '\\s'\n",
      "  data_path = 'data2\\sim_10000_100_20_0.4\\set_5'\n"
     ]
    }
   ],
   "source": [
    "data_path = 'data2\\sim_10000_100_20_0.4\\set_5'"
   ]
  },
  {
   "cell_type": "code",
   "execution_count": 263,
   "id": "27faf02d",
   "metadata": {},
   "outputs": [],
   "source": [
    "data_l = np.genfromtxt(os.path.join(data_path, 'data_latent.csv'), delimiter=',', skip_header=1)\n",
    "data_f = np.genfromtxt(os.path.join(data_path, 'data.csv'), delimiter=',', skip_header=1)"
   ]
  },
  {
   "cell_type": "code",
   "execution_count": 264,
   "id": "d193f9df",
   "metadata": {},
   "outputs": [],
   "source": [
    "y = data_l[:, -1]\n",
    "x = {'latent': data_l[:, :-1], 'full': data_f[:, :-1]}"
   ]
  },
  {
   "cell_type": "code",
   "execution_count": 265,
   "id": "392bdcdd",
   "metadata": {},
   "outputs": [
    {
     "name": "stdout",
     "output_type": "stream",
     "text": [
      "{'latent': {'mse': np.float64(0.9961636409144233), 'rmse': np.float64(0.9980799772134612), 'mae': np.float64(0.7965695249470045), 'r2': np.float64(0.9560326792779589), 'adjusted_r2': np.float64(0.9559445595851599)}, 'full': {'mse': np.float64(1.129506403867379), 'rmse': np.float64(1.0627823878232923), 'mae': np.float64(0.8490876175723497), 'r2': np.float64(0.9501473771208414), 'adjusted_r2': np.float64(0.9496437644036058)}}\n"
     ]
    }
   ],
   "source": [
    "lr = LinRegression(x, y)\n",
    "print(lr.score())"
   ]
  },
  {
   "cell_type": "code",
   "execution_count": 266,
   "id": "2e8a7ec4",
   "metadata": {},
   "outputs": [
    {
     "name": "stdout",
     "output_type": "stream",
     "text": [
      "             mse      rmse       mae        r2  adjusted_r2\n",
      "latent  0.996164  0.998080  0.796570  0.956033     0.955945\n",
      "full    1.129506  1.062782  0.849088  0.950147     0.949644\n"
     ]
    }
   ],
   "source": [
    "df = pd.DataFrame(lr.scores).T\n",
    "print(df)"
   ]
  },
  {
   "cell_type": "code",
   "execution_count": 267,
   "id": "a1218240",
   "metadata": {},
   "outputs": [
    {
     "data": {
      "text/plain": [
       "array([1, 2, 3, 4])"
      ]
     },
     "execution_count": 267,
     "metadata": {},
     "output_type": "execute_result"
    }
   ],
   "source": [
    "np.arange(1, 5)\n"
   ]
  },
  {
   "cell_type": "code",
   "execution_count": null,
   "id": "6dc7de22",
   "metadata": {},
   "outputs": [],
   "source": []
  }
 ],
 "metadata": {
  "kernelspec": {
   "display_name": ".venv",
   "language": "python",
   "name": "python3"
  },
  "language_info": {
   "codemirror_mode": {
    "name": "ipython",
    "version": 3
   },
   "file_extension": ".py",
   "mimetype": "text/x-python",
   "name": "python",
   "nbconvert_exporter": "python",
   "pygments_lexer": "ipython3",
   "version": "3.12.9"
  }
 },
 "nbformat": 4,
 "nbformat_minor": 5
}
